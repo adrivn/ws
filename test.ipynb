{
 "cells": [
  {
   "attachments": {},
   "cell_type": "markdown",
   "metadata": {},
   "source": [
    "# Importar todas las librerias necesarias"
   ]
  },
  {
   "cell_type": "code",
   "execution_count": null,
   "metadata": {},
   "outputs": [],
   "source": [
    "from pathlib import Path\n",
    "import pandas as pd\n",
    "import duckdb\n",
    "\n",
    "directorio = Path(\n",
    "    \"//EURFL01/advisors.hal/non-hudson/Coral Homes/CoralHudson/6. Stock/Parquet\"\n",
    ").absolute()"
   ]
  },
  {
   "attachments": {},
   "cell_type": "markdown",
   "metadata": {},
   "source": [
    "# Crear base de datos local, sobre la cual se escribira y actualizaran datos"
   ]
  },
  {
   "cell_type": "code",
   "execution_count": null,
   "metadata": {},
   "outputs": [],
   "source": [
    "bd = duckdb.connect(\"basedatos_wholesale.db\")\n",
    "bd.execute(\n",
    "    f\"CREATE TABLE master_tape AS SELECT * FROM parquet_scan('{directorio}/master_tape.parquet')\"\n",
    ")\n",
    "bd.execute(\n",
    "    f\"CREATE TABLE offers_data AS SELECT * FROM parquet_scan('{directorio}/offers.parquet')\"\n",
    ")\n",
    "bd.execute(\n",
    "    f\"CREATE TABLE ws_segregated AS SELECT * FROM parquet_scan('{directorio}/disaggregated_assets.parquet')\"\n",
    ")"
   ]
  },
  {
   "cell_type": "markdown",
   "metadata": {},
   "source": [
    "# 🦆 DUCKDB: Pruebas"
   ]
  },
  {
   "cell_type": "markdown",
   "metadata": {},
   "source": [
    "## Guardar nueva base de datos"
   ]
  },
  {
   "cell_type": "code",
   "execution_count": null,
   "metadata": {},
   "outputs": [],
   "source": [
    "import duckdb\n",
    "from pathlib import Path\n",
    "\n",
    "DIR_PARQUET = Path(\"N:/CoralHudson/6. Stock/Parquet\").absolute()\n",
    "DATABASE_FILE = Path(\"N:/CoralHudson/1. AM/8. Wholesale Channel/.code/database.db\")\n",
    "parquet_files = Path(DIR_PARQUET).glob(\"*.parquet\")\n",
    "\n",
    "with duckdb.connect(DATABASE_FILE.as_posix()) as db:\n",
    "    df = db.execute(\"show tables\").df()\n",
    "\n",
    "df"
   ]
  },
  {
   "cell_type": "markdown",
   "metadata": {},
   "source": [
    "## Seleccionar las tablas que coincidan en patron de nombre y traerlas de vuelta como lista"
   ]
  },
  {
   "cell_type": "code",
   "execution_count": null,
   "metadata": {},
   "outputs": [],
   "source": [
    "DATABASE_FILE = Path(\"C:/Users/amontes/Projects/wholesale/basedatos_wholesale.db\")\n",
    "\n",
    "with duckdb.connect(DATABASE_FILE.as_posix()) as db:\n",
    "    data = db.execute(\n",
    "        \"select table_name from information_schema.tables where regexp_matches(table_name, 'ws_.+_offers')\"\n",
    "    ).fetchall()\n",
    "    db.close()\n",
    "\n",
    "data = [d[0] for d in data]\n",
    "data"
   ]
  },
  {
   "cell_type": "markdown",
   "metadata": {},
   "source": [
    "## Crear tabla temporal usando fichero query y hacer joins en memoria con otras"
   ]
  },
  {
   "cell_type": "code",
   "execution_count": null,
   "metadata": {},
   "outputs": [],
   "source": [
    "import duckdb\n",
    "\n",
    "with open(\"./queries/unnest_unique_urs.sql\", encoding=\"utf8\") as sql_file:\n",
    "    query = sql_file.read()\n",
    "    improved_query = f\"create temp table my_temp_attempt as {query}\"\n",
    "\n",
    "with duckdb.connect(\"./basedatos_wholesale.db\") as db:\n",
    "    db.execute(improved_query)\n",
    "    df = db.execute(\"select coalesce(columns('all')) from my_temp_attempt\").df()\n",
    "\n",
    "df"
   ]
  },
  {
   "cell_type": "markdown",
   "metadata": {},
   "source": [
    "## Performance glob vs os: Listar ficheros en directorio"
   ]
  },
  {
   "cell_type": "code",
   "execution_count": null,
   "metadata": {},
   "outputs": [],
   "source": [
    "import time\n",
    "import glob\n",
    "import os\n",
    "\n",
    "\n",
    "def timing(f):\n",
    "    def wrap(*args):\n",
    "        start_time = time.perf_counter()\n",
    "        ret = f(*args)\n",
    "        end_time = time.perf_counter() - start_time\n",
    "        print(f\"{f.__name__} function took {end_time:0.3f} seconds\")\n",
    "        return ret\n",
    "\n",
    "    return wrap\n",
    "\n",
    "\n",
    "def scan_os(dir_path: str):\n",
    "    files_list = []\n",
    "    for dir in os.scandir(dir_path):\n",
    "        for item, subdirs, files in os.walk(dir):\n",
    "            files_list += files\n",
    "    return files_list\n",
    "\n",
    "\n",
    "def scan_glob(dir_path: str):\n",
    "    files = glob.iglob(dir_path + \"/**/[!~$]*.xlsx\", recursive=True)\n",
    "    files_list = [Path(f).absolute() for f in files]\n",
    "    return files_list\n",
    "\n",
    "\n",
    "str_path = \"N:/Coralhudson/1. AM/8. Wholesale Channel/Ofertas recibidas SVH/2023/\"\n",
    "\n",
    "# %timeit scan_os(str_path)\n",
    "# %timeit scan_glob(str_path)\n",
    "# df.full_path.tolist()"
   ]
  },
  {
   "cell_type": "markdown",
   "metadata": {},
   "source": [
    "## Update de ofertas incremental: ofertas ya en fichero"
   ]
  },
  {
   "cell_type": "code",
   "execution_count": null,
   "metadata": {},
   "outputs": [],
   "source": [
    "import duckdb\n",
    "from pathlib import Path\n",
    "\n",
    "with duckdb.connect(\"./basedatos_wholesale.db\") as db:\n",
    "    listado_db = db.execute(\n",
    "        \"select distinct full_path from ws_current_offers\"\n",
    "    ).fetchall()\n",
    "\n",
    "listado_db = [Path(l[0]).as_posix() for l in listado_db]\n",
    "listado_dir = scan_glob(str_path)"
   ]
  },
  {
   "cell_type": "code",
   "execution_count": null,
   "metadata": {},
   "outputs": [],
   "source": [
    "from rich import print\n",
    "\n",
    "print(listado_db[4])\n",
    "print(listado_dir[4])\n",
    "print(listado_db[4] == listado_dir[4])"
   ]
  },
  {
   "cell_type": "code",
   "execution_count": null,
   "metadata": {},
   "outputs": [],
   "source": [
    "list = [12, 12, 32]\n",
    "list2 = [2809, 19010, 10912]\n",
    "list += list2\n",
    "print(list)"
   ]
  },
  {
   "cell_type": "markdown",
   "metadata": {},
   "source": [
    "## LSEV/PPA aggregate data: memoria, eliminar las columnas duplicadas (\"_2\"?) y traer sólo las nuevas"
   ]
  },
  {
   "cell_type": "code",
   "execution_count": null,
   "metadata": {},
   "outputs": [],
   "source": [
    "import duckdb\n",
    "\n",
    "DATABASE_FILE = Path(\"C:/Users/amontes/Projects/wholesale/basedatos_wholesale.db\")\n",
    "\n",
    "query = \"\"\"with all_offers as (\n",
    "  select * from ws_hist_offers w1\n",
    "  union all\n",
    "  select * from ws_current_offers w2\n",
    "),\n",
    "-- que queremos traer del tape de ofertas semanal??\n",
    "-- tenemos que traerlo por offer_id?\n",
    "-- NOTE:\n",
    "-- no, hay que traer los agregados por offer_id pero no lincar via offer_id, me explico?\n",
    "-- los conteos de urs_per_offers_table y urs_per_file son IGUALES de modo que todo está ok\n",
    "-- WARN: Error en ws_hist_offers porque no existe, hay que meter un algo para que solo pille las disponibles,\n",
    "-- tal vez un regex que pille las ws_\n",
    "enriched_offers as (\n",
    "  select  a.*,\n",
    "          array_agg(DISTINCT o.ur_current) AS all_urs_pot,\n",
    "          array_agg(DISTINCT o.commercialdev) AS all_commercialdevs_pot,\n",
    "          array_agg(DISTINCT o.jointdev) AS all_jointdevs_pot,\n",
    "          array_agg(DISTINCT o.offerstatus) AS offer_status\n",
    "  from all_offers a\n",
    "  left join offers_data o\n",
    "  on a.offer_id = o.offerid\n",
    "  group by all\n",
    "),\n",
    "final_piece as(select\n",
    "    w.*,\n",
    "    l1.unique_urs,\n",
    "    l1.commercialdevs,\n",
    "    l1.jointdevs,\n",
    "    count(l1.unique_urs) as total_urs,\n",
    "from enriched_offers as w,\n",
    "    lateral (\n",
    "        select list_distinct(list_concat(w.unique_urs,w.all_urs_pot)),\n",
    "               cast(list_distinct(list_concat(w.commercialdev,w.all_commercialdevs_pot)) as int[]),\n",
    "               cast(list_distinct(list_concat(w.jointdev,w.all_jointdevs_pot)) as int[])\n",
    "    ) l1(unique_urs, commercialdevs, jointdevs)\n",
    "group by all)\n",
    "select  f.unique_id,\n",
    "        cast(f.offer_id as int) as offer_id,\n",
    "        f.offer_status[1] as offer_status,\n",
    "        list_aggregate(f.unique_urs, 'string_agg', ' | ') as unique_urs,\n",
    "        list_aggregate(f.commercialdevs, 'string_agg', ' | ') as commercialdevs,\n",
    "        list_aggregate(f.jointdevs, 'string_agg', ' | ') as jointdevs,\n",
    "        f.total_urs,\n",
    "        sum(m.lsev_dec19) as lsevdec19,\n",
    "        sum(m.ppa) as ppa,\n",
    "        mode(m.bucketi_ha) as bucket,\n",
    "from final_piece f\n",
    "cross join unnest(f.unique_urs) as r (urs)\n",
    "left join master_tape as m\n",
    "    on r.urs = m.ur_current\n",
    "group by all\n",
    "\"\"\"\n",
    "\n",
    "with duckdb.connect(DATABASE_FILE.as_posix()) as db:\n",
    "    db.sql(query).show()"
   ]
  },
  {
   "cell_type": "markdown",
   "metadata": {},
   "source": [
    "## Reusar tape ofertas anterior\n",
    "Extraer info y probar a 1) concatenar o 2) combinar, pese a que falten offerids"
   ]
  },
  {
   "cell_type": "code",
   "execution_count": null,
   "metadata": {},
   "outputs": [],
   "source": [
    "import duckdb\n",
    "import pandas as pd\n",
    "\n",
    "fichero = \"//EURFL01/advisors.hal/non-hudson/Coral Homes/CoralHudson/1. AM/8. Wholesale Channel/.outputs/#20230720_Coral_Homes_Offers_Data.xlsx\"\n",
    "\n",
    "tape_anterior = pd.read_excel(fichero, skiprows=5).convert_dtypes()\n",
    "\n",
    "with duckdb.connect(DATABASE_FILE.as_posix()) as db:\n",
    "    db.register(\"tmp_prev_tape\", tape_anterior)\n",
    "    db.execute(\n",
    "        \"create temp table tmp_current_tape as select * from ws_current_offers union all select * from ws_hist_offers\"\n",
    "    )\n",
    "    df = db.execute(\n",
    "        \"\"\"with all_data as (select *,\n",
    "                    from tmp_current_tape t1 \n",
    "                    left join tmp_prev_tape t2 \n",
    "                    on t1.unique_id = t2.unique_id)\n",
    "                    select columns(x -> x not similar to '.+:1') from all_data;\"\"\"\n",
    "    ).df()\n",
    "\n",
    "df.to_clipboard()"
   ]
  },
  {
   "cell_type": "code",
   "execution_count": 8,
   "metadata": {},
   "outputs": [
    {
     "name": "stdout",
     "output_type": "stream",
     "text": [
      "['2023']\n",
      "['2022', '2021', '2012']\n",
      "3\n"
     ]
    }
   ],
   "source": [
    "import re\n",
    "import datetime\n",
    "\n",
    "# Obtener el {current_year} para escanear las ofertas\n",
    "cy = datetime.datetime.now().year\n",
    "list_years = [\"2023\", \"2022\", \"2021\", \"2012\"]\n",
    "pattern = re.compile(rf\"^({cy})$\")\n",
    "print(list(filter(pattern.search, list_years)))\n",
    "print([x for x in list_years if not pattern.match(x)])\n",
    "\n",
    "\n",
    "# Probemos el regex en condiciones\n",
    "listado_columnas = [\"asdf\", \"asdf:1\", \"otra\", \"otra:1\"]\n",
    "\n",
    "patron = re.compile(\":1\")\n",
    "list(filter(patron.search, listado_columnas))\n",
    "print(str(cy)[-1])"
   ]
  },
  {
   "cell_type": "code",
   "execution_count": 1,
   "metadata": {},
   "outputs": [
    {
     "name": "stdout",
     "output_type": "stream",
     "text": [
      "Los false cuentan como false, en comprobación simple!\n"
     ]
    }
   ],
   "source": [
    "def test_func(trigger: bool) -> list | bool:\n",
    "    if trigger:\n",
    "        return [1, 2, 3]\n",
    "    else:\n",
    "        return False\n",
    "\n",
    "\n",
    "var1 = test_func(False)\n",
    "if var1:\n",
    "    print(\"Los false cuentan como true, en comprobación simple!\")\n",
    "else:\n",
    "    print(\"Los false cuentan como false, en comprobación simple!\")"
   ]
  },
  {
   "cell_type": "code",
   "execution_count": null,
   "metadata": {},
   "outputs": [],
   "source": []
  },
  {
   "cell_type": "markdown",
   "metadata": {},
   "source": [
    "### Funciona, asi que ahora probaremos con encontrar el ultimo fichero"
   ]
  },
  {
   "cell_type": "code",
   "execution_count": null,
   "metadata": {},
   "outputs": [],
   "source": [
    "import re\n",
    "import os\n",
    "import datetime\n",
    "from dataclasses import dataclass\n",
    "\n",
    "DIR_OFFERS = Path(\"N:/CoralHudson/1. AM/8. Wholesale Channel/Ofertas recibidas SVH\")\n",
    "\n",
    "\n",
    "@dataclass\n",
    "class FileSettings:\n",
    "    directory: str\n",
    "    output_dir: str\n",
    "    output_file: str\n",
    "    sheet_name: str\n",
    "    header_start: int\n",
    "    db_file: str = DATABASE_FILE.as_posix()\n",
    "\n",
    "    def get_filename(self):\n",
    "        return (\n",
    "            \"#\"\n",
    "            + datetime.datetime.strftime(datetime.datetime.now(), \"%Y%m%d\")\n",
    "            + self.output_file\n",
    "        )\n",
    "\n",
    "    def get_output_path(self):\n",
    "        return self.output_dir / (\n",
    "            \"#\"\n",
    "            + datetime.datetime.strftime(datetime.datetime.now(), \"%Y%m%d\")\n",
    "            + self.output_file\n",
    "        )\n",
    "\n",
    "\n",
    "conf = FileSettings(\n",
    "    DIR_OFFERS,\n",
    "    DIR_OFFERS.parent / \".outputs\",\n",
    "    \"_Coral_Homes_Offers_Data.xlsx\",\n",
    "    \"Offers Data\",\n",
    "    6,\n",
    ")\n",
    "\n",
    "\n",
    "def load_previous_data(\n",
    "    sheet: str = conf.sheet_name, start_row: int = conf.header_start\n",
    "):\n",
    "    latest_file_name_pattern = conf.output_file\n",
    "    matching_files = []\n",
    "    for f in Path(conf.output_dir).glob(\"*.*\"):\n",
    "        if re.search(latest_file_name_pattern, f.name):\n",
    "            print(\n",
    "                \"Match en el fichero\",\n",
    "                f.name,\n",
    "                \"según el patrón\",\n",
    "                latest_file_name_pattern,\n",
    "            )\n",
    "            matching_files.append(f)\n",
    "\n",
    "    sorted_files = sorted([f for f in matching_files], key=os.path.getmtime)\n",
    "    previous_file = sorted_files[-1]\n",
    "    return previous_file\n",
    "\n",
    "\n",
    "load_previous_data()"
   ]
  },
  {
   "cell_type": "markdown",
   "metadata": {},
   "source": [
    "## Función PIVOT para las tablas resumen y los charts"
   ]
  },
  {
   "cell_type": "code",
   "execution_count": 2,
   "metadata": {},
   "outputs": [
    {
     "name": "stdout",
     "output_type": "stream",
     "text": [
      "┌───────┬─────────────┬────────────────┬───┬────────────────────┬────────────────────┬─────────────┬────────────────┐\n",
      "│ week  │ 2023_assets │ 2023_total_urs │ … │  2023_lsev_dec19   │      2023_ppa      │ perf_vs_ppa │ perf_vs_lsev19 │\n",
      "│ int64 │    int64    │     double     │   │       double       │       double       │   varchar   │    varchar     │\n",
      "├───────┼─────────────┼────────────────┼───┼────────────────────┼────────────────────┼─────────────┼────────────────┤\n",
      "│    18 │           2 │           22.0 │ … │ 1612332.3279041096 │          1210758.1 │ -18.23%     │ -38.6%         │\n",
      "│    19 │           5 │          199.0 │ … │  6011550.821496575 │ 4472445.2700000005 │ -59.11%     │ -69.58%        │\n",
      "│    20 │           5 │           27.0 │ … │ 2460844.1461869865 │ 1915915.1099999999 │ -8.66%      │ -28.89%        │\n",
      "│    21 │           4 │           27.0 │ … │  6879029.773816437 │         5682543.28 │ -15.31%     │ -30.04%        │\n",
      "│    22 │           3 │            3.0 │ … │  4250497.901953425 │ 3399121.4699999997 │ 64.75%      │ 31.75%         │\n",
      "│    23 │           4 │           45.0 │ … │ 3744781.4313780814 │  3031319.009999999 │ -12.12%     │ -28.86%        │\n",
      "│    24 │           2 │           12.0 │ … │  822326.4159863014 │          621268.63 │ 0.6%        │ -24.0%         │\n",
      "│    25 │           1 │            1.0 │ … │  248204.2794863014 │          192398.54 │ 113.1%      │ 65.19%         │\n",
      "│    26 │           1 │            1.0 │ … │  235397.3290410959 │          182471.73 │ 20.02%      │ -6.97%         │\n",
      "├───────┴─────────────┴────────────────┴───┴────────────────────┴────────────────────┴─────────────┴────────────────┤\n",
      "│ 9 rows                                                                                       11 columns (7 shown) │\n",
      "└───────────────────────────────────────────────────────────────────────────────────────────────────────────────────┘\n",
      "\n"
     ]
    }
   ],
   "source": [
    "import duckdb\n",
    "from pathlib import Path\n",
    "\n",
    "DATABASE_FILE = Path(\"N:/CoralHudson/1. AM/8. Wholesale Channel/.code/database.db\")\n",
    "\n",
    "with duckdb.connect(DATABASE_FILE.as_posix()) as db:\n",
    "    # db.execute(\"\"\"\n",
    "    db.sql(\n",
    "        \"\"\"\n",
    "            WITH pivot_data AS (\n",
    "               PIVOT (select  *, \n",
    "                    week(offer_date) as week, \n",
    "                    year(offer_date) as year,\n",
    "               from offers_enriched_table where offer_date > now() - interval 3 months \n",
    "           and (commitment_amount is not null or sold_amount is not null))\n",
    "           ON (year)\n",
    ",           USING   COUNT(unique_id) as assets, \n",
    "                    SUM(total_urs) as total_urs, \n",
    "                    SUM(offer_price) as offer_amount, \n",
    "                    SUM(commitment_amount) as commitments, \n",
    "                    SUM(sold_amount) as sales,\n",
    "                    SUM(total_proceeds) as total_proceeds,\n",
    "                    SUM(lsevdec19) as lsev_dec19,\n",
    "                    SUM(ppa) as ppa,\n",
    "           GROUP BY week\n",
    "           )\n",
    "           select *,\n",
    "                    round((\"2023_total_proceeds\" / \"2023_ppa\" - 1) * 100.0, 2)  || '%' as perf_vs_ppa,\n",
    "                    round((\"2023_total_proceeds\" / \"2023_lsev_dec19\" - 1) * 100.0, 2) || '%' as perf_vs_lsev19,\n",
    "           from pivot_data;\n",
    "    \"\"\"\n",
    "    ).show()\n",
    "    # \"\"\").df().to_clipboard()"
   ]
  },
  {
   "cell_type": "markdown",
   "metadata": {},
   "source": [
    "### Calcular las distancias dinamicas entre strats"
   ]
  },
  {
   "cell_type": "code",
   "execution_count": null,
   "metadata": {},
   "outputs": [],
   "source": [
    "inicio, distancia = 5, 2\n",
    "tamaños = [5, 4, 6, 4]\n",
    "\n",
    "for v in tamaños:\n",
    "    anterior = v + inicio + distancia\n",
    "    print(\"Las coordenadas serían:\", \"(Inicio)\", inicio + idx, v, distancia)"
   ]
  },
  {
   "cell_type": "markdown",
   "metadata": {},
   "source": [
    "## Leer SQL y partir queries entre comentarios"
   ]
  },
  {
   "cell_type": "code",
   "execution_count": null,
   "metadata": {},
   "outputs": [],
   "source": [
    "import re\n",
    "\n",
    "query_file = \"./queries/strats.sql\"\n",
    "\n",
    "with open(query_file, \"r\", encoding=\"utf8\") as f:\n",
    "    queries = re.split(\"--.+\\n\", f.read())\n",
    "\n",
    "for q in queries:\n",
    "    print(\"Query:\\n\", q, sep=\"===========\\n\")\n",
    "\n",
    "with duckdb.connect(DATABASE_FILE.as_posix()) as db:\n",
    "    pass"
   ]
  },
  {
   "cell_type": "markdown",
   "metadata": {},
   "source": [
    "## Nueva STOCK QUERY: mas agil y completa"
   ]
  },
  {
   "cell_type": "code",
   "execution_count": 20,
   "metadata": {},
   "outputs": [],
   "source": [
    "with duckdb.connect(DATABASE_FILE.as_posix()) as db:\n",
    "    # db.sql(\"\"\"\n",
    "    db.execute(\n",
    "        \"\"\"\n",
    "    with base_data as (\n",
    "    select coalesce(nullif(commercialdev, 0), nullif(jointdev, 0), ur_current)::int as asset_id,\n",
    "         case\n",
    "         when label is not null\n",
    "             then\n",
    "                 case\n",
    "                     when publishingchannel_description is null\n",
    "                         then 'Wholesale'\n",
    "                     when publishingchannel_description = 'Retail'\n",
    "                         then 'No longer in Wholesale'\n",
    "                     else publishingchannel_description\n",
    "                 end\n",
    "         else \n",
    "             case when publishingchannel_description = 'Wholesale'\n",
    "               then 'Wholesale - from Retail'\n",
    "             end\n",
    "     end as category,\n",
    "    array_agg(ur_current)::int[] as all_urs,\n",
    "    count(*) as total_urs,\n",
    "    count(ur_current) filter (where updatedcategory = 'Sold Assets') as sold_urs,\n",
    "    sum(saleprice) filter (where updatedcategory = 'Sold Assets') as sale_amount,\n",
    "    count(ur_current) filter (where updatedcategory = 'Sale Agreed') as comitted_urs,\n",
    "    sum(commitmentprice) filter (where updatedcategory = 'Sale Agreed') as comittment_amount,\n",
    "    from master_tape\n",
    "    group by 1,2\n",
    "   )\n",
    "    select b.*,\n",
    "            case when b.total_urs = b.sold_urs then 'Fully Sold'\n",
    "               when sold_urs > 1 then 'Partially Sold'\n",
    "               else 'Remaining Stock'\n",
    "            end as commercial_status,\n",
    "            sale_amount + comittment_amount as total_proceeds,\n",
    "              mode(a.liqrat) as liquidity_rating,\n",
    "              mode(a.bucket1) as asset_bucket,\n",
    "           sum(a.lsev_dec19) as lsev_dec19,\n",
    "           sum(a.capex_uw) as capex_underwriting,\n",
    "           from base_data b\n",
    "    cross join unnest(b.all_urs) as c (urs)\n",
    "    left join allocation_new a on c.urs = a.ur\n",
    "    where b.category is not null\n",
    "    group by all\n",
    "    order by category, asset_bucket\n",
    "    \"\"\"\n",
    "    ).df().to_clipboard()\n",
    "    # \"\"\").show()"
   ]
  },
  {
   "cell_type": "markdown",
   "metadata": {},
   "source": [
    "# 🐼🧸 POLARS: Testeo de carga de ficheros y tal"
   ]
  },
  {
   "cell_type": "code",
   "execution_count": null,
   "metadata": {},
   "outputs": [],
   "source": [
    "import polars as pl\n",
    "\n",
    "df = pl.read_excel(\n",
    "    \"N:/CoralHudson/1. AM/8. Wholesale Channel/.outputs/#20230717_WS_Pipeline.xlsx\",\n",
    "    sheet_name=\"Pipeline 2023\",\n",
    "    xlsx2csv_options={\n",
    "        \"delimiter\": \";\",\n",
    "    },\n",
    "    read_csv_options={\n",
    "        \"separator\": \";\",\n",
    "        \"infer_schema_length\": 10000,\n",
    "        \"skip_rows\": 5,\n",
    "        \"ignore_errors\": True,\n",
    "    },\n",
    ")\n",
    "df"
   ]
  },
  {
   "attachments": {},
   "cell_type": "markdown",
   "metadata": {},
   "source": [
    "# 1. WS Stock: creacion de fichero\n",
    "Usando DuckDB"
   ]
  },
  {
   "cell_type": "code",
   "execution_count": null,
   "metadata": {},
   "outputs": [],
   "source": [
    "db = duckdb.connect()\n",
    "db.execute(\n",
    "    f\"CREATE VIEW master_tape AS SELECT * FROM parquet_scan('{directorio}/master_tape.parquet')\"\n",
    ")\n",
    "db.execute(\n",
    "    f\"CREATE VIEW offers_data AS SELECT * FROM parquet_scan('{directorio}/offers.parquet')\"\n",
    ")\n",
    "db.execute(\n",
    "    f\"CREATE VIEW ws_segregated AS SELECT * FROM parquet_scan('{directorio}/disaggregated_assets.parquet')\"\n",
    ")"
   ]
  },
  {
   "cell_type": "code",
   "execution_count": null,
   "metadata": {},
   "outputs": [],
   "source": [
    "db.execute(\"select * from master_tape\").df().to_clipboard()"
   ]
  },
  {
   "cell_type": "code",
   "execution_count": null,
   "metadata": {
    "vscode": {
     "languageId": "sql"
    }
   },
   "outputs": [],
   "source": [
    "agg_data = db.execute(\"\"\"\n",
    "with ranked_offers as (\n",
    "  select\n",
    "    o.commercialdev,\n",
    "    o.offerid,\n",
    "    o.offerdate,\n",
    "    o.offerstatus,\n",
    "    sum(o.offerprice) as offer_total,\n",
    "    array_agg(o.ur_current) as unique_urs,\n",
    "    row_number() over (\n",
    "      partition by o.commercialdev\n",
    "      order by o.offerdate desc\n",
    "    ) as row_num\n",
    "  from offers_data o\n",
    "  group by 1,2,3,4\n",
    "),\n",
    "latest_offers as (\n",
    "  select * from ranked_offers where row_num = 1\n",
    ")\n",
    "select coalesce(nullif(mt.commercialdev, 0), nullif(mt.jointdev,0), mt.ur_current) as asset_id,\n",
    "            ro.offerid,\n",
    "            ro.offerdate,\n",
    "            ro.offerstatus,\n",
    "            ro.offer_total,\n",
    "            ro.unique_urs,\n",
    "            string_agg(distinct city, '|') as city_province, \n",
    "            string_agg(distinct direccion_territorial, '|') as dts, \n",
    "            count(*) as total_urs,\n",
    "            count(*) filter (where updatedcategory = 'Sold Assets') as sold_assets, \n",
    "            sum(lsev_dec19) filter (where updatedcategory = 'Sold Assets') as sold_lsev, \n",
    "            sum(ppa) filter (where updatedcategory = 'Sold Assets') as sold_ppa, \n",
    "            sum(nbv) filter (where updatedcategory = 'Sold Assets') as sold_nbv, \n",
    "            count(*) filter (where updatedcategory = 'Sale Agreed') as committed_assets, \n",
    "            sum(lsev_dec19) filter (where updatedcategory = 'Sale Agreed') as committed_lsev, \n",
    "            sum(ppa) filter (where updatedcategory = 'Sale Agreed') as committed_ppa, \n",
    "            sum(nbv) filter (where updatedcategory = 'Sale Agreed') as committed_nbv, \n",
    "            count(*) filter (where updatedcategory = 'Remaining Stock') as remaining_assets, \n",
    "            sum(lsev_dec19) filter (where updatedcategory = 'Remaining Stock') as remaining_lsev, \n",
    "            sum(ppa) filter (where updatedcategory = 'Remaining Stock') as remaining_ppa, \n",
    "            sum(nbv) filter (where updatedcategory = 'Remaining Stock') as remaining_nbv, \n",
    "                from master_tape mt\n",
    "            left join\n",
    "              latest_offers ro on mt.commercialdev = ro.commercialdev\n",
    "            where\n",
    "                label is not null\n",
    "            group by 1,2,3,4,5,6\"\"\").df()"
   ]
  },
  {
   "cell_type": "code",
   "execution_count": null,
   "metadata": {
    "vscode": {
     "languageId": "sql"
    }
   },
   "outputs": [],
   "source": [
    "agg_data.to_clipboard()"
   ]
  },
  {
   "attachments": {},
   "cell_type": "markdown",
   "metadata": {},
   "source": [
    "## Esto es la BIBLIA de cómo tratar lo mayorista, agarra casi todos los casos\n",
    "Además, añadir los 500 y pico desagregados y ver si actualmente coinciden (es decir, están ya considerados mayorista)"
   ]
  },
  {
   "cell_type": "raw",
   "metadata": {},
   "source": [
    "┌───────────────────────────────┬───────────┬──────────────┐\n",
    "│ publishingchannel_description │   label   │ count_star() │\n",
    "│            varchar            │  varchar  │    int64     │\n",
    "├───────────────────────────────┼───────────┼──────────────┤\n",
    "│                               │           │        63913 │\n",
    "│                               │ Wholesale │         6866 │\n",
    "│ Retail                        │           │        26204 │\n",
    "│ Retail                        │ Wholesale │         1808 │\n",
    "│ Wholesale                     │ Wholesale │         8152 │\n",
    "│ Wholesale                     │           │         7817 │\n",
    "└───────────────────────────────┴───────────┴──────────────┘"
   ]
  },
  {
   "attachments": {},
   "cell_type": "markdown",
   "metadata": {},
   "source": [
    "- Cuando 2 es Mayorista: \n",
    "     - Cuando 1 está vacío: Mayorista (vendido)\n",
    "     - Cuando 1 es Retail: Retail (fue mayorista)\n",
    "     - Cuando 1 es Mayorista: Mayorista\n",
    "- Cuando 2 está vacío: \n",
    "     - Cuando 1 es Mayorista: Mayorista (cambiado desde retail inicial)"
   ]
  },
  {
   "cell_type": "code",
   "execution_count": null,
   "metadata": {},
   "outputs": [],
   "source": [
    "db.execute(\"select * from ws_segregated\").df()"
   ]
  },
  {
   "cell_type": "code",
   "execution_count": 1,
   "metadata": {},
   "outputs": [],
   "source": [
    "import duckdb\n",
    "\n",
    "with duckdb.connect(\"C:/Users/amontes/Desktop/database.db\") as db:\n",
    "    with open(\"./queries/stock_data.sql\", encoding=\"utf8\") as fq:\n",
    "        query = fq.read()\n",
    "        # db.execute(query).df().to_clipboard()\n",
    "        db.sql(query).df().to_clipboard()"
   ]
  },
  {
   "attachments": {},
   "cell_type": "markdown",
   "metadata": {},
   "source": [
    "## Segregaciones y ventas al menudeo de mayoristas, crear fichero parquet"
   ]
  },
  {
   "cell_type": "code",
   "execution_count": null,
   "metadata": {},
   "outputs": [],
   "source": [
    "fichero = Path(\"C:/Users/amontes/Desktop/\").glob(\"[!$~]*.xlsx\")\n",
    "(\n",
    "    pd.read_excel(next(fichero))\n",
    "    .filter([\"UNIDAD_REGISTRAL\", \"ESTRATEGIA\"], axis=1)\n",
    "    .query(\"ESTRATEGIA.notnull()\")\n",
    "    .to_parquet(\n",
    "        \"//EURFL01/advisors.hal/non-hudson/Coral Homes/CoralHudson/6. Stock/Parquet/disaggregated_assets.parquet\",\n",
    "        index=False,\n",
    "    )\n",
    ")"
   ]
  },
  {
   "attachments": {},
   "cell_type": "markdown",
   "metadata": {},
   "source": [
    "# Acceso al inbox"
   ]
  },
  {
   "cell_type": "markdown",
   "metadata": {},
   "source": [
    "## Explorar el Inbox de forma adecuada"
   ]
  },
  {
   "cell_type": "code",
   "execution_count": null,
   "metadata": {},
   "outputs": [],
   "source": [
    "import datetime\n",
    "import re\n",
    "import win32com.client\n",
    "import glob\n",
    "from pathlib import Path\n",
    "\n",
    "outlook = win32com.client.Dispatch(\"Outlook.Application\").GetNamespace(\"MAPI\")\n",
    "inbox = outlook.GetDefaultFolder(6)  # \"6\" refers to the inbox\n",
    "\n",
    "number_of_months = 4\n",
    "subject_pattern = r\"\\d{6,8} Pipe 20\"\n",
    "filename_pattern = r\"^\\d{6,8} Pipe 20\"\n",
    "message_count = 0\n",
    "duplicados = 0\n",
    "guardados = 0\n",
    "ficheros_existentes = [\n",
    "    Path(f).name\n",
    "    for f in glob.glob(\"N:/CoralHudson/1. AM/8. Wholesale Channel/WS PIPE*/[!~$]*.*\")\n",
    "]\n",
    "extensions = [\".xlsx\", \".xls\", \".xlsb\", \".xlsm\"]\n",
    "print(ficheros_existentes)\n",
    "\n",
    "\n",
    "# Filtrado por fecha\n",
    "time_range = datetime.date.today() - datetime.timedelta(30 * int(number_of_months))\n",
    "time_string = time_range.strftime(\"%m/%d/%Y\")\n",
    "print(f\"Buscando mensajes recibidos desdes el { time_range.strftime('%d/%m/%Y')}\")\n",
    "sFilter = f\"[ReceivedTime] >= '{time_string}'\"\n",
    "print(sFilter)\n",
    "messages = inbox.Items.Restrict(sFilter)\n",
    "print(messages.count)\n",
    "\n",
    "for message in messages:\n",
    "    if re.search(subject_pattern.lower(), message.Subject.lower()):\n",
    "        print(message.Subject, \":received on:\", message.ReceivedTime)\n",
    "        attachments = message.Attachments\n",
    "        for attachment in attachments:\n",
    "            if re.search(filename_pattern.lower(), attachment.FileName.lower()) and any(\n",
    "                attachment.FileName.endswith(ext) for ext in extensions\n",
    "            ):\n",
    "                # Filtrar aquellos que ya estan encontrados\n",
    "                if attachment.FileName in ficheros_existentes:\n",
    "                    print(\"\\tAttachment ignored. Already in folder.\")\n",
    "                    duplicados += 1\n",
    "                else:\n",
    "                    print(\"\\tAttachment found:\", attachment.FileName)\n",
    "                    guardados += 1\n",
    "\n",
    "print(f\"Guardados {guardados} ficheros en el directorio base.\")\n",
    "print(f\"Omitidos {duplicados} ficheros por ya encontrarse en la carpeta.\")"
   ]
  },
  {
   "cell_type": "code",
   "execution_count": null,
   "metadata": {},
   "outputs": [],
   "source": [
    "from rich.console import Console\n",
    "\n",
    "console = Console()\n",
    "\n",
    "\n",
    "def retrieve_attachments(\n",
    "    subject_pattern: str,\n",
    "    filename_pattern: str,\n",
    "    extensions: list,\n",
    "    file_type: str,\n",
    "    top_level_dir: str,\n",
    "    number_of_months: int,\n",
    "):\n",
    "    outlook = win32com.client.Dispatch(\"Outlook.Application\").GetNamespace(\"MAPI\")\n",
    "    inbox = outlook.GetDefaultFolder(6)  # \"6\" refers to the inbox\n",
    "\n",
    "    # Conseguir todos los ficheros del directorio\n",
    "    # Listar todos los ficheros del directorio de destino, y filtrar contra los encontrados\n",
    "    console.print(f\"Checking existing {file_type} files...\")\n",
    "    match top_level_dir, file_type:\n",
    "        case \"coralhudson\", \"pipe\":\n",
    "            base_dir = Path(\"N:/CoralHudson/1. AM/8. Wholesale Channel/\")\n",
    "            ficheros_existentes = [\n",
    "                Path(f).name\n",
    "                for f in glob.glob(\n",
    "                    \"N:/CoralHudson/1. AM/8. Wholesale Channel/WS PIPE*/[!~$]*.*\"\n",
    "                )\n",
    "            ]\n",
    "        case \"currentdir\", \"pipe\":\n",
    "            base_dir = Path(\"./_attachments/pipe_files/\")\n",
    "            ficheros_existentes = [f.name for f in base_dir.rglob(\"*.*\")]\n",
    "        case \"coralhudson\", \"offers\":\n",
    "            base_dir = Path(\n",
    "                \"N:/CoralHudson/1. AM/8. Wholesale Channel/Ofertas recibidas SVH/\"\n",
    "            )\n",
    "            ficheros_existentes = [\n",
    "                Path(f).name\n",
    "                for f in glob.glob(\n",
    "                    base_dir.as_posix() + \"/Ofertas recibidas SVH/2023/**/[!~$]*.*\"\n",
    "                )\n",
    "            ]\n",
    "        case \"currentdir\", \"offers\":\n",
    "            base_dir = Path(\"./_attachments/offer_files/\")\n",
    "            ficheros_existentes = [f.name for f in base_dir.rglob(\"*.*\")]\n",
    "\n",
    "    # Filtrado por fecha\n",
    "    time_range = datetime.date.today() - datetime.timedelta(\n",
    "        days=30 * int(number_of_months)\n",
    "    )\n",
    "    time_string = time_range.strftime(\"%m/%d/%Y\")\n",
    "    print(f\"Buscando mensajes recibidos desdes el { time_range.strftime('%d/%m/%Y')}\")\n",
    "    sFilter = f\"[ReceivedTime] >= '{time_string}'\"\n",
    "    print(sFilter)\n",
    "    messages = inbox.Items.Restrict(sFilter)\n",
    "    print(messages.count)\n",
    "    if messages.count == 0:\n",
    "        return \"No more, stop, there are no messages\"\n",
    "\n",
    "    message_count = 0\n",
    "    duplicados = 0\n",
    "    guardados = 0\n",
    "    for message in messages:\n",
    "        if re.search(subject_pattern.lower(), message.Subject.lower()):\n",
    "            message_count += 1\n",
    "            received_time = message.ReceivedTime\n",
    "            console.print(\n",
    "                f\"[{message_count}] Found email:\",\n",
    "                message.Subject,\n",
    "                \"received on\",\n",
    "                received_time,\n",
    "            )\n",
    "            attachments = message.Attachments\n",
    "            for attachment in attachments:\n",
    "                if re.search(\n",
    "                    filename_pattern.lower(), attachment.FileName.lower()\n",
    "                ) and any(attachment.FileName.endswith(ext) for ext in extensions):\n",
    "                    # Filtrar aquellos que ya estan encontrados\n",
    "                    if attachment.FileName in ficheros_existentes:\n",
    "                        console.print(\"\\tAttachment ignored. Already in folder.\")\n",
    "                        duplicados += 1\n",
    "                    else:\n",
    "                        console.print(\n",
    "                            \"\\tAttachment found:\", attachment.FileName, style=\"bold red\"\n",
    "                        )\n",
    "                        guardados += 1\n",
    "                        # Get the email's received time and format it as a directory path\n",
    "                        year_folder = received_time.strftime(\"%Y\")\n",
    "                        day_folder = received_time.strftime(\"%Y%m%d\")\n",
    "\n",
    "                        match file_type:\n",
    "                            case \"pipe\":\n",
    "                                full_dir = base_dir / f\"WS PIPE {year_folder}\"\n",
    "                            case \"offers\":\n",
    "                                full_dir = base_dir / year_folder / day_folder\n",
    "\n",
    "                        # Create the directory if it doesn't exist\n",
    "                        full_dir.mkdir(parents=True, exist_ok=True)\n",
    "\n",
    "                        # Save the attachment in the directory\n",
    "                        console.print(\n",
    "                            f\"\\tAttempting to save down to {(full_dir / attachment.FileName).absolute()}\"\n",
    "                        )\n",
    "                        attachment.SaveASFile(\n",
    "                            str((full_dir / attachment.FileName).absolute())\n",
    "                        )\n",
    "    console.print(f\"Guardados {guardados} ficheros en el directorio base: {base_dir}.\")\n",
    "    console.print(f\"Omitidos {duplicados} ficheros por ya encontrarse en la carpeta.\")\n",
    "\n",
    "\n",
    "retrieve_attachments(\n",
    "    subject_pattern, filename_pattern, extensions, \"pipe\", \"coralhudson\", 5\n",
    ")"
   ]
  },
  {
   "cell_type": "markdown",
   "metadata": {},
   "source": [
    "## TIMEDELTAS: Calcular correctamente"
   ]
  },
  {
   "cell_type": "code",
   "execution_count": null,
   "metadata": {},
   "outputs": [],
   "source": [
    "import datetime\n",
    "\n",
    "seis_meses_atras = datetime.datetime.now() - datetime.timedelta(30 * 6)\n",
    "seis_meses_atras"
   ]
  },
  {
   "cell_type": "code",
   "execution_count": null,
   "metadata": {},
   "outputs": [],
   "source": [
    "from pathlib import Path\n",
    "\n",
    "direc = [f.name for f in Path(\"./_attachments\").rglob(\"*.*\")]\n",
    "nombre_filtrado = \"191104_Wip Calle santa rosa_el escotrial_6079527.xlsx\"\n",
    "\n",
    "nombre_filtrado in direc"
   ]
  },
  {
   "cell_type": "code",
   "execution_count": null,
   "metadata": {},
   "outputs": [],
   "source": [
    "import os\n",
    "import glob\n",
    "import pandas as pd\n",
    "from pathlib import Path\n",
    "\n",
    "base_dir = Path(\"N:/CoralHudson/1. AM/8. Wholesale Channel/\")\n",
    "# ficheros_existentes = [f for f in os.walk(base_dir / \"WS PIPE 2023\")]\n",
    "ficheros_existentes = [\n",
    "    Path(f).name\n",
    "    for f in glob.glob(base_dir.as_posix() + \"/Ofertas recibidas SVH/2023/**/*.*\")\n",
    "]"
   ]
  },
  {
   "cell_type": "code",
   "execution_count": null,
   "metadata": {},
   "outputs": [],
   "source": [
    "pd.DataFrame({\"ficheros\": ficheros_existentes}).to_clipboard()"
   ]
  },
  {
   "attachments": {},
   "cell_type": "markdown",
   "metadata": {},
   "source": [
    "# Obtener agregados por promo de valores, conteos"
   ]
  },
  {
   "cell_type": "code",
   "execution_count": null,
   "metadata": {},
   "outputs": [],
   "source": [
    "import pandas as pd\n",
    "from pathlib import Path\n",
    "import os\n",
    "\n",
    "file = pd.read_parquet(\n",
    "    \"//EURFL01/advisors.hal/non-hudson/Coral Homes/CoralHudson/6. Stock/Parquet/master_tape.parquet\"\n",
    ")\n",
    "file.columns"
   ]
  },
  {
   "cell_type": "code",
   "execution_count": null,
   "metadata": {},
   "outputs": [],
   "source": [
    "dict_agg = {\"lsev_dec19\": \"sum\", \"ppa\": \"sum\", \"nbv\": \"sum\", \"ur_current\": \"count\"}\n",
    "\n",
    "(file.groupby([\"commercialdev\", \"updatedcategory\"]).aggregate(dict_agg))"
   ]
  },
  {
   "cell_type": "code",
   "execution_count": null,
   "metadata": {},
   "outputs": [],
   "source": [
    "def include_values(df: pd.DataFrame, datapoints_to_include: str) -> pd.DataFrame:\n",
    "    datapoints_dict = json.loads(datapoints_to_include)\n",
    "    for file_info in datapoints_dict.keys():\n",
    "        # Extract only the columns needed\n",
    "        file = file[[file_info[\"primary_key\"]] + file_info[\"datapoints\"]]\n",
    "        # Merge the data into df_to_modify\n",
    "        df_to_modify = pd.merge(\n",
    "            df_to_modify, file, on=file_info[\"primary_key\"], how=\"left\"\n",
    "        )\n",
    "\n",
    "    return df_to_modify"
   ]
  },
  {
   "attachments": {},
   "cell_type": "markdown",
   "metadata": {},
   "source": [
    "# Ofertas: busqueda de etiquetas y posiciones relativas a las mismas\n",
    "Obtener datos según rangos con nombre propio: en este caso \"Print Area\""
   ]
  },
  {
   "cell_type": "code",
   "execution_count": null,
   "metadata": {},
   "outputs": [],
   "source": [
    "from pathlib import Path\n",
    "from rich.console import Console\n",
    "import pendulum as pdl\n",
    "import openpyxl\n",
    "import os\n",
    "import json\n",
    "import datetime\n",
    "import re\n",
    "\n",
    "\n",
    "def load_json_config(file):\n",
    "    \"\"\"\n",
    "    Loads a JSON file containing external config data, like cell addresses and their corresponding output labels.\n",
    "    \"\"\"\n",
    "    with open(file, \"r\", encoding=\"utf8\") as f:\n",
    "        return json.load(f)\n",
    "\n",
    "\n",
    "console = Console()\n",
    "\n",
    "files = []"
   ]
  },
  {
   "cell_type": "code",
   "execution_count": null,
   "metadata": {},
   "outputs": [],
   "source": [
    "def extract_cell_values(\n",
    "    file: str, search_strings: dict, columns_dict: dict, table_sheet: str = \"SAP\"\n",
    "):\n",
    "    \"\"\"\n",
    "    Opens an Excel file and converts the worksheet to a dictionary. It then looks for\n",
    "    specific strings, moves to the relative cell addresses based on both x and y offsets,\n",
    "    and extracts the value at that location. Also extracts unique values from specified\n",
    "    columns in a table on another sheet.\n",
    "    Includes the file name in the returned data.\n",
    "    \"\"\"\n",
    "    try:\n",
    "        workbook = openpyxl.load_workbook(file, read_only=True, data_only=True)\n",
    "    except Exception as e:\n",
    "        console.print(f\"Error when loading file {file}. Details: {e}\")\n",
    "        data = {}\n",
    "        data[\"read_status\"] = \"Fail\"\n",
    "        data[\"read_details\"] = str(e)\n",
    "        data[\"full_path\"] = os.path.abspath(file)\n",
    "        data[\"file_name\"] = os.path.basename(file)\n",
    "        return data\n",
    "    sheet = workbook[\"FICHA\"]\n",
    "    data = {label: None for label in search_strings.keys()}\n",
    "    data[\"full_path\"] = os.path.abspath(file)\n",
    "    data[\"file_name\"] = os.path.basename(file)\n",
    "    data[\"read_status\"] = \"Success\"\n",
    "    data[\"read_details\"] = None\n",
    "\n",
    "    # Convert the worksheet to a dictionary for faster searching\n",
    "    sheet_dict = {\n",
    "        (cell.row, cell.column): cell.value\n",
    "        for row in sheet.iter_rows()\n",
    "        for cell in row\n",
    "        if cell.value is not None\n",
    "    }\n",
    "\n",
    "    for (cell_row, cell_col), cell_value in sheet_dict.items():\n",
    "        for label, [regex, offset_y, offset_x] in search_strings.items():\n",
    "            if re.match(\n",
    "                regex, str(cell_value), re.IGNORECASE\n",
    "            ):  # compare values using the regular expression\n",
    "                try:\n",
    "                    target_cell_address = (\n",
    "                        cell_row - offset_y,\n",
    "                        cell_col + offset_x,\n",
    "                    )\n",
    "                    target_cell_value = sheet_dict.get(target_cell_address)\n",
    "                    if target_cell_value is not None:\n",
    "                        data[label] = target_cell_value\n",
    "                        break\n",
    "                except IndexError:\n",
    "                    continue\n",
    "                else:\n",
    "                    break\n",
    "            else:\n",
    "                continue\n",
    "\n",
    "    # Load the JSON file for table columns and process table columns if specified\n",
    "    if columns_dict and table_sheet:\n",
    "        try:\n",
    "            table_sheet = workbook[table_sheet]\n",
    "            for col in columns_dict:\n",
    "                # Assume the first row contains headers\n",
    "                header_row = next(\n",
    "                    table_sheet.iter_rows(min_row=1, max_row=1, values_only=True)\n",
    "                )\n",
    "                # Get index of the target column based on header\n",
    "                try:\n",
    "                    col_idx = header_row.index(col)\n",
    "                except ValueError:\n",
    "                    console.print(\n",
    "                        f'Warning: Column header \"{col}\" not found in sheet. Skipping this column.'\n",
    "                    )\n",
    "                    continue\n",
    "                # Extract unique values from the column\n",
    "                column_values = [\n",
    "                    cell[col_idx]\n",
    "                    if not isinstance(cell[col_idx], str) or not cell[col_idx].isdigit()\n",
    "                    else int(cell[col_idx].lstrip(\"0\"))\n",
    "                    for cell in table_sheet.iter_rows(min_row=2, values_only=True)\n",
    "                ]\n",
    "                # Remove duplicates by converting to a set, after filtering out the null values\n",
    "                unique_values = set(filter(None, column_values))\n",
    "                # If there's only one unique value, unpack it from the set\n",
    "                if len(unique_values) == 1:\n",
    "                    unique_values = unique_values.pop()\n",
    "                    if isinstance(unique_values, str) and unique_values.isdigit():\n",
    "                        unique_values = int(\n",
    "                            unique_values.lstrip(\"0\")\n",
    "                        )  # Remove leading zeros for numeric strings\n",
    "                else:\n",
    "                    # Convert to list and sort to make output more predictable\n",
    "                    try:\n",
    "                        unique_values = sorted(unique_values)\n",
    "                    except TypeError as e:\n",
    "                        console.print(f\"Error en fichero {file} debido a {e}\")\n",
    "                        data[\"read_status\"] = \"Warning\"\n",
    "                        data[\"read_details\"] = str(e)\n",
    "                        continue\n",
    "                # Add the unique values to the output\n",
    "                data[columns_dict.get(col)] = unique_values if unique_values else None\n",
    "        except KeyError as e:\n",
    "            console.print(f\"Error encontrado: {e}\\nFichero causante: {file}\")\n",
    "            data[\"read_status\"] = \"Warning\"\n",
    "            data[\"read_details\"] = str(e)\n",
    "\n",
    "    # Cleanup of bad data or strings\n",
    "    for label, value in data.items():\n",
    "        if label == \"contract_deposit\" and value == \"-\":\n",
    "            data[label] = 0\n",
    "        elif label == \"client_description\" and value == \"NOMBRE\":\n",
    "            data[label] = None\n",
    "        elif label == \"offer_date\":\n",
    "            try:\n",
    "                if isinstance(value, str):\n",
    "                    value = pdl.parse(value, strict=False).to_date_string()\n",
    "                elif isinstance(value, datetime.datetime):\n",
    "                    data[label] = value\n",
    "            except Exception as e:\n",
    "                console.print(f\"Error al identificar la fecha de la oferta: >> {e}\")\n",
    "                if data[\"full_path\"].startswith(\"\\\\\\\\EURFL01\"):\n",
    "                    posible_fecha = re.findall(\"\\d{6,8}\", data[\"full_path\"])[0]\n",
    "                    data[label] = datetime.datetime.strptime(posible_fecha, \"%Y%m%d\")\n",
    "                else:\n",
    "                    data[label] = datetime.datetime.strptime(\n",
    "                        \"\".join(data[\"full_path\"].split(\"\\\\\")[-4:-1]), \"%Y%m%d\"\n",
    "                    )\n",
    "        else:\n",
    "            data[label] = value\n",
    "\n",
    "    return data"
   ]
  },
  {
   "cell_type": "code",
   "execution_count": null,
   "metadata": {},
   "outputs": [],
   "source": [
    "cell_addresses = load_json_config(\"./conf/cell_addresses.json\")\n",
    "sap_mapping_file = load_json_config(\"./conf/sap_columns_mapping.json\")\n",
    "\n",
    "data = []\n",
    "\n",
    "for file in files[:3]:\n",
    "    data.append(extract_cell_values(file, cell_addresses, sap_mapping_file))"
   ]
  },
  {
   "cell_type": "code",
   "execution_count": null,
   "metadata": {},
   "outputs": [],
   "source": [
    "file = files[9]\n",
    "print(\"Opening file:\\n\", file)\n",
    "test_wb = openpyxl.load_workbook(file, read_only=True, data_only=True)\n",
    "indice_hoja = list(\n",
    "    filter(lambda z: re.match(\"xd\", z, flags=re.IGNORECASE), test_wb.sheetnames)\n",
    ")\n",
    "indice_hoja = indice_hoja.pop() if indice_hoja else \"FICHA\"\n",
    "test_wb[indice_hoja]"
   ]
  },
  {
   "cell_type": "code",
   "execution_count": null,
   "metadata": {},
   "outputs": [],
   "source": [
    "from openpyxl.utils.cell import coordinate_from_string, column_index_from_string\n",
    "\n",
    "test_wb = openpyxl.load_workbook(files[3], read_only=True, data_only=True)\n",
    "sheet = test_wb[\"FICHA\"]\n",
    "primera_celda, ultima_celda = sheet.calculate_dimension().split(\":\")\n",
    "last_row = coordinate_from_string(ultima_celda)[1]\n",
    "last_column = column_index_from_string(coordinate_from_string(ultima_celda)[0])\n",
    "print(\"La ultima fila es\", last_row, \"y la ultima columna es\", last_column)"
   ]
  },
  {
   "cell_type": "code",
   "execution_count": null,
   "metadata": {},
   "outputs": [],
   "source": [
    "for f in Path(\"./_attachments/offer_files/\").rglob(\"[!$^][0-9]*.xlsx\"):\n",
    "    print(f\"Contenidos del fichero {f.stem}:\", extract_cell_values(f, ss), sep=\"\\n\")"
   ]
  },
  {
   "attachments": {},
   "cell_type": "markdown",
   "metadata": {},
   "source": [
    "## Encontrar valores en la pestaña \"SAP\" y aglutinar conteos de cada categoría (tipo de activo) y únicos/primero (descripción)"
   ]
  },
  {
   "cell_type": "code",
   "execution_count": null,
   "metadata": {},
   "outputs": [],
   "source": [
    "def extract_cell_values(\n",
    "    file, search_strings, table_columns: dict, table_sheet: str = \"SAP\"\n",
    "):\n",
    "    \"\"\"\n",
    "    Opens an Excel file and converts the worksheet to a dictionary. It then looks for\n",
    "    specific strings, moves to the relative cell addresses based on both x and y offsets,\n",
    "    and extracts the value at that location. Also extracts unique values from specified\n",
    "    columns in a table on another sheet.\n",
    "    Includes the file name in the returned data.\n",
    "    \"\"\"\n",
    "    workbook = openpyxl.load_workbook(file, read_only=True, data_only=True)\n",
    "    sheet = workbook.active\n",
    "    data = {label: None for label in search_strings.keys()}\n",
    "    data[\"file_name\"] = os.path.basename(file)\n",
    "\n",
    "    # Convert the worksheet to a dictionary for faster searching\n",
    "    sheet_dict = {\n",
    "        (cell.row, cell.column): cell.value\n",
    "        for row in sheet.iter_rows()\n",
    "        for cell in row\n",
    "        if cell.value is not None\n",
    "    }\n",
    "\n",
    "    for (cell_row, cell_col), cell_value in sheet_dict.items():\n",
    "        for label, (string, offset_y, offset_x) in search_strings.items():\n",
    "            if cell_value == string:\n",
    "                target_cell_address = (cell_row + offset_y, cell_col + offset_x)\n",
    "                data[label] = sheet_dict.get(target_cell_address)\n",
    "\n",
    "    # Process table columns if specified\n",
    "    if table_columns and table_sheet:\n",
    "        table_sheet = workbook[table_sheet]\n",
    "        for col in table_columns.keys():\n",
    "            # Assume the first row contains headers\n",
    "            header_row = next(\n",
    "                table_sheet.iter_rows(min_row=1, max_row=1, values_only=True)\n",
    "            )\n",
    "            # Get index of the target column based on header\n",
    "            try:\n",
    "                col_idx = header_row.index(col)\n",
    "            except ValueError:\n",
    "                print(\n",
    "                    f'Warning: Column header \"{col}\" not found in sheet. Skipping this column.'\n",
    "                )\n",
    "                continue\n",
    "            # Extract unique values from the column\n",
    "            column_values = [\n",
    "                cell[col_idx]\n",
    "                for cell in table_sheet.iter_rows(min_row=2, values_only=True)\n",
    "            ]\n",
    "            unique_values = set(\n",
    "                filter(None, column_values)\n",
    "            )  # Remove duplicates by converting to a set, after filtering out the null values\n",
    "            # If there's only one unique value, unpack it from the set\n",
    "            if len(unique_values) == 1:\n",
    "                unique_values = unique_values.pop()\n",
    "            # Add the unique values to the output\n",
    "            data[table_columns.get(col)] = unique_values\n",
    "\n",
    "    return data"
   ]
  },
  {
   "cell_type": "code",
   "execution_count": null,
   "metadata": {},
   "outputs": [],
   "source": [
    "label_mapping = {\n",
    "    \"Tipo de inmueble\": \"asset_type\",\n",
    "    \"Dirección\": \"address\",\n",
    "    \"Emplazamiento\": \"asset_location\",\n",
    "}\n",
    "\n",
    "print(\n",
    "    \"Contenidos del primer fichero:\",\n",
    "    extract_cell_values(file_2, ss, label_mapping),\n",
    "    sep=\"\\n====\\n\",\n",
    ")"
   ]
  },
  {
   "cell_type": "code",
   "execution_count": null,
   "metadata": {},
   "outputs": [],
   "source": [
    "valores = [\"-\", \"COOODE\", \"-\"]\n",
    "v1 = set(valores)\n",
    "v1.discard(\"-\")\n",
    "v1"
   ]
  },
  {
   "attachments": {},
   "cell_type": "markdown",
   "metadata": {},
   "source": [
    "## Funcion Cargar direcciones desde JSON no funciona, vamos a arreglarla"
   ]
  },
  {
   "cell_type": "code",
   "execution_count": null,
   "metadata": {},
   "outputs": [],
   "source": [
    "import json\n",
    "\n",
    "\n",
    "def load_cell_addresses(file):\n",
    "    \"\"\"\n",
    "    Loads a JSON file containing cell addresses and their corresponding output labels.\n",
    "    \"\"\"\n",
    "    with open(file, \"r\") as f:\n",
    "        return json.load(f)\n",
    "\n",
    "\n",
    "load_cell_addresses(\"./const/cell_addresses.json\")"
   ]
  },
  {
   "cell_type": "markdown",
   "metadata": {},
   "source": [
    "# 🧪📗 OPENPYXL: Juguemos"
   ]
  },
  {
   "cell_type": "markdown",
   "metadata": {},
   "source": [
    "## Listar los estilos creados \"nombrados\""
   ]
  },
  {
   "cell_type": "code",
   "execution_count": null,
   "metadata": {},
   "outputs": [],
   "source": [
    "import openpyxl\n",
    "\n",
    "fichero = openpyxl.load_workbook(\"./_output/#20230703_Wholesale_Stock.xlsx\")\n",
    "hoja = fichero.active\n",
    "hoja.parent.named_styles"
   ]
  },
  {
   "cell_type": "markdown",
   "metadata": {},
   "source": [
    "## Usar regex para buscar las hojas"
   ]
  },
  {
   "cell_type": "code",
   "execution_count": null,
   "metadata": {},
   "outputs": [],
   "source": [
    "import re\n",
    "import openpyxl\n",
    "\n",
    "# fichero = openpyxl.load_workbook(\"N:/CoralHudson/1. AM/8. Wholesale Channel/Ofertas recibidas SVH/2023/20230210/20230210 OF 5525400 PROMO 60466091 Nave industrial en Arakundiaga.xlsx\")\n",
    "# fichero = openpyxl.load_workbook(\"N:/CoralHudson/1. AM/8. Wholesale Channel/Ofertas recibidas SVH/2023/20230707/20230707_OF_5549328_UR_60460925_SUELO_AV.BENEMIS 29 PILES_VALENCIA.xlsx\")\n",
    "fichero = openpyxl.load_workbook(\n",
    "    \"//EURFL01/advisors.hal/non-hudson/Coral Homes/CoralHudson/1. AM/8. Wholesale Channel/Ofertas recibidas SVH/2023/20230215/20230215_ OF  5526017  UR  60473587 Nave  Cl Aracena. Huelva.xlsx\"\n",
    ")\n",
    "candidatas = []\n",
    "for sh in fichero.sheetnames:\n",
    "    if re.search(r\"\\b(?:SAP|^Oferta)\\b\", sh, re.IGNORECASE):\n",
    "        print(\"Match:\", sh)\n",
    "regex = re.compile(r\"\\b(?:SAP|^Oferta)\\b\", re.IGNORECASE)\n",
    "list(filter(regex.search, fichero.sheetnames))[0]"
   ]
  },
  {
   "cell_type": "markdown",
   "metadata": {},
   "source": [
    "## Ignorar hojas que contengan algún tipo de imagen"
   ]
  },
  {
   "cell_type": "code",
   "execution_count": null,
   "metadata": {},
   "outputs": [],
   "source": [
    "fichero_con_imagen = \"//EURFL01/advisors.hal/non-hudson/Coral Homes/CoralHudson/1. AM/8. Wholesale Channel/Ofertas recibidas SVH/2023/20230424/20230424 OF_5537626_Promo_6081831_Local_Ctra. de Madrid_ZARAGOZA.xlsx\"\n",
    "fichero_sin_imagen = \"//EURFL01/advisors.hal/non-hudson/Coral Homes/CoralHudson/1. AM/8. Wholesale Channel/Ofertas recibidas SVH/2023/20230215/20230215_ OF  5526017  UR  60473587 Nave  Cl Aracena. Huelva.xlsx\"\n",
    "fichero = openpyxl.load_workbook(fichero_sin_imagen)\n",
    "for sh in fichero.sheetnames:\n",
    "    if re.search(r\"\\b(?:SAP|^Oferta)\\b\", sh, re.IGNORECASE) and not fichero[sh]._images:\n",
    "        print(\"Match:\", sh)\n",
    "regex = re.compile(r\"\\b(?:SAP|^Oferta)\\b\", re.IGNORECASE)\n",
    "list(filter(regex.search, fichero.sheetnames))\n",
    "\n",
    "fichero[\"Oferta\"]._images"
   ]
  },
  {
   "cell_type": "code",
   "execution_count": null,
   "metadata": {},
   "outputs": [],
   "source": [
    "hojas = [1, 2, 3]\n",
    "hojas.index(1)"
   ]
  },
  {
   "cell_type": "markdown",
   "metadata": {},
   "source": [
    "## Detectar la ultima columna y convertirla a coordenadas Excel"
   ]
  },
  {
   "cell_type": "code",
   "execution_count": null,
   "metadata": {},
   "outputs": [],
   "source": [
    "from openpyxl.utils import get_column_letter\n",
    "\n",
    "last_column_as_letter = get_column_letter(1)\n",
    "last_column_as_letter"
   ]
  },
  {
   "cell_type": "markdown",
   "metadata": {},
   "source": [
    "# 🧲 DATACLASSES como reemplazo de argumentos en funciones"
   ]
  },
  {
   "cell_type": "code",
   "execution_count": null,
   "metadata": {},
   "outputs": [],
   "source": [
    "from dataclasses import dataclass\n",
    "import pandas as pd\n",
    "\n",
    "\n",
    "@dataclass\n",
    "class SetOfArgs:\n",
    "    title: str\n",
    "    datapack: list\n",
    "    sheet: int\n",
    "\n",
    "\n",
    "def admits_dc(title: str, datapack: list, sheet: int) -> str:\n",
    "    print(title, datapack, sheet)\n",
    "\n",
    "\n",
    "config = SetOfArgs(\"kids\", [\"are\", \"not\", \"for\", \"sale\"], 1)\n",
    "\n",
    "admits_dc(**parametros.__dict__)\n",
    "\n",
    "config.sheet"
   ]
  },
  {
   "attachments": {},
   "cell_type": "markdown",
   "metadata": {},
   "source": [
    "# Generar un UUID segun nombre de fichero"
   ]
  },
  {
   "cell_type": "code",
   "execution_count": null,
   "metadata": {},
   "outputs": [],
   "source": [
    "import uuid\n",
    "\n",
    "# This is a known namespace for DNS. You could also define your own namespace UUID.\n",
    "namespace = uuid.NAMESPACE_DNS\n",
    "\n",
    "unique_string = \"C:/Users/amontes/Downloads/nvim-win64.zip\"\n",
    "\n",
    "uuid5 = uuid.uuid5(namespace, unique_string)\n",
    "\n",
    "print(uuid5)"
   ]
  },
  {
   "cell_type": "code",
   "execution_count": null,
   "metadata": {},
   "outputs": [],
   "source": [
    "import duckdb\n",
    "\n",
    "with open(\"./queries/offers_query.sql\", encoding=\"utf8\") as sql_file:\n",
    "    query = sql_file.read()\n",
    "\n",
    "with duckdb.connect(\"./basedatos_wholesale.db\") as db:\n",
    "    data = db.execute(query).df()\n",
    "\n",
    "data.to_clipboard()"
   ]
  },
  {
   "cell_type": "code",
   "execution_count": null,
   "metadata": {},
   "outputs": [],
   "source": [
    "previous = None\n",
    "if previous:\n",
    "    print(\"None NO es igual que false\")\n",
    "else:\n",
    "    print(\"None es igual que false\")"
   ]
  },
  {
   "attachments": {},
   "cell_type": "markdown",
   "metadata": {},
   "source": [
    "Esto es una prueba de regex normal"
   ]
  },
  {
   "cell_type": "code",
   "execution_count": null,
   "metadata": {},
   "outputs": [],
   "source": [
    "import re\n",
    "\n",
    "cell_address_file = \"./const/cell_addresses.json\"\n",
    "sap_mapping_file = \"./const/sap_columns_mapping.json\"\n",
    "\n",
    "\n",
    "def load_json_config(file):\n",
    "    \"\"\"\n",
    "    Loads a JSON file containing external config data, like cell addresses and their corresponding output labels.\n",
    "    \"\"\"\n",
    "    with open(file, \"r\", encoding=\"utf8\") as f:\n",
    "        return json.load(f)\n",
    "\n",
    "\n",
    "cell_addresses = load_json_config(cell_address_file)\n",
    "label_pattern = cell_addresses.get(\"offer_id\")[0]\n",
    "re.match(label_pattern, \"Núm..\\nOFERTA\")"
   ]
  },
  {
   "attachments": {},
   "cell_type": "markdown",
   "metadata": {},
   "source": [
    "UNION de tablas en string"
   ]
  },
  {
   "cell_type": "code",
   "execution_count": null,
   "metadata": {},
   "outputs": [],
   "source": [
    "import duckdb\n",
    "\n",
    "all_duckdb_tables = [\"ws_current_offers\", \"ws_hist_offers\"]\n",
    "\n",
    "with duckdb.connect(\"./basedatos_wholesale.db\") as db:\n",
    "    df = db.execute(\n",
    "        \" UNION \".join([\"select * from \" + t for t in all_duckdb_tables])\n",
    "    ).df()\n",
    "\n",
    "df.to_clipboard()"
   ]
  },
  {
   "attachments": {},
   "cell_type": "markdown",
   "metadata": {},
   "source": [
    "## Obtener valores de URs individuales y su suma posterior"
   ]
  },
  {
   "cell_type": "code",
   "execution_count": null,
   "metadata": {},
   "outputs": [],
   "source": [
    "import pandas as pd\n",
    "\n",
    "columns_to_use = [\n",
    "    \"offer_id\",\n",
    "    \"total_urs\",\n",
    "    \"ppa\",\n",
    "    \"lsev_dec19\",\n",
    "    \"commercialdev\",\n",
    "    \"jointdev\",\n",
    "    \"unique_urs\",\n",
    "]\n",
    "\n",
    "# Datos\n",
    "datos_excel = pd.read_excel(\n",
    "    \"C:/Users/amontes/Projects/wholesale/_output/#20230613_Coral_Homes_Offers_Data.xlsx\",\n",
    "    skiprows=4,\n",
    "    usecols=columns_to_use,\n",
    ")"
   ]
  },
  {
   "cell_type": "code",
   "execution_count": null,
   "metadata": {},
   "outputs": [],
   "source": [
    "datos_excel"
   ]
  },
  {
   "cell_type": "code",
   "execution_count": null,
   "metadata": {},
   "outputs": [],
   "source": [
    "def sum_corresponding_values(\n",
    "    df, column, con, lookup_source, column_id_source, value_source\n",
    "):\n",
    "    # Step 1: Split the column into separate rows for each ID\n",
    "    df = (\n",
    "        df[column]\n",
    "        .fillna(0)\n",
    "        .astype(str)\n",
    "        .str.replace(\"[()]\", \"\", regex=True)\n",
    "        .str.replace(\"|\", \",\")\n",
    "        .str.split(\",\")\n",
    "        .explode()\n",
    "    )\n",
    "    # Step 2: Load the DataFrame into DuckDB\n",
    "    con.register(\"df\", df.reset_index())\n",
    "    # Step 3: Join the DataFrame with the table containing the corresponding values for each ID\n",
    "    # Step 4: Group by the original index and sum the corresponding values\n",
    "    query = \"\"\"SELECT df.index, count(*), sum(v.{}) as summed\n",
    "    FROM df\n",
    "    LEFT JOIN {} v ON df.{} = v.{}\n",
    "    GROUP BY 1\n",
    "    \"\"\".format(value_source, lookup_source, column, column_id_source)\n",
    "    result = con.execute(query).df()\n",
    "    result.to_clipboard()\n",
    "    # Step 5: Return a Series with the sum of corresponding values for each original index\n",
    "    return result.set_index(\"index\").iloc[:, :2]\n",
    "\n",
    "\n",
    "datos_excel[[\"count_urs\", \"sum\"]] = datos_excel.pipe(\n",
    "    sum_corresponding_values,\n",
    "    \"unique_urs\",\n",
    "    db,\n",
    "    \"master_tape\",\n",
    "    \"ur_current\",\n",
    "    \"lsev_dec19\",\n",
    ")"
   ]
  },
  {
   "cell_type": "code",
   "execution_count": null,
   "metadata": {},
   "outputs": [],
   "source": [
    "datos_excel"
   ]
  },
  {
   "attachments": {},
   "cell_type": "markdown",
   "metadata": {},
   "source": [
    "## Conseguir el año mes y dia de la oferta, segun el nombre y ruta del fichero"
   ]
  },
  {
   "cell_type": "code",
   "execution_count": null,
   "metadata": {},
   "outputs": [],
   "source": [
    "from datetime import datetime\n",
    "\n",
    "fich = \"//EURFL01/advisors.hal/non-hudson/Coral Homes/CoralHudson/1. AM/8. Wholesale Channel/Ofertas recibidas SVH/2019/20191105/191105_AV MADRID_Suelo_El molar_60502631.xlsx\"\n",
    "\n",
    "datetime.strptime(fich.split(\"/\")[-2], \"%Y%m%d\")"
   ]
  },
  {
   "attachments": {},
   "cell_type": "markdown",
   "metadata": {},
   "source": [
    "Usar otras librerías como Pendulum o Arrow"
   ]
  },
  {
   "cell_type": "code",
   "execution_count": null,
   "metadata": {},
   "outputs": [],
   "source": [
    "import pendulum as pdl\n",
    "\n",
    "pdl.set_locale(\"es\")\n",
    "\n",
    "fechas_tipo = [\n",
    "    \"30/112022\",\n",
    "    \"30112022\",\n",
    "    \"29.11.2022\",\n",
    "    \"24.01.2023\",\n",
    "    \"17 Noviembre de 2022\",\n",
    "    \"14 Diciembre de 2022\",\n",
    "    \"11.11.2022\",\n",
    "    \"09.11.2022\",\n",
    "    \"03.02.2023\",\n",
    "    \"01.03.2023\",\n",
    "]\n",
    "\n",
    "for date in fechas_tipo:\n",
    "    try:\n",
    "        print(pdl.parse(date, strict=False).to_date_string())\n",
    "    except Exception as e:\n",
    "        print(e)"
   ]
  },
  {
   "cell_type": "code",
   "execution_count": null,
   "metadata": {},
   "outputs": [],
   "source": [
    "import re\n",
    "\n",
    "carpeta = \"//EURFL01/advisors.hal/non-hudson/Coral Homes/CoralHudson/1. AM/8. Wholesale Channel/Ofertas recibidas SVH/2022/20221223 ---/221223, Cl. Olzinelles N.64, Barcelona, 6073845 - NIA INVEST SL_rev - 5516178.xlsx\"\n",
    "re.findall(\"\\d{6,8}\", carpeta)[0]"
   ]
  },
  {
   "attachments": {},
   "cell_type": "markdown",
   "metadata": {},
   "source": [
    "## Combinar dos columnas con valores nulos en cada, a través del mismo dataframe (concatenacion de metodos)"
   ]
  },
  {
   "cell_type": "code",
   "execution_count": null,
   "metadata": {},
   "outputs": [],
   "source": [
    "import pandas as pd\n",
    "import datetime as dt\n",
    "\n",
    "df1 = pd.DataFrame(\n",
    "    {\n",
    "        \"dato\": [1, 2, 3],\n",
    "        \"mata\": [0, None, None],\n",
    "        \"relato\": [None, 4, 5],\n",
    "        \"fechas\": [\n",
    "            dt.datetime.now(),\n",
    "            dt.datetime(2012, 10, 5),\n",
    "            dt.datetime(2022, 4, 30, 11, 30),\n",
    "        ],\n",
    "    }\n",
    ")\n",
    "(\n",
    "    df1.assign(\n",
    "        combinado=lambda df_: df_[\"mata\"].fillna(df_.relato),\n",
    "        otro_mas=lambda df_: df_[\"mata\"].fillna(df_.relato),\n",
    "    ).sort_values(by=[\"fechas\"], ascending=False)\n",
    ")"
   ]
  },
  {
   "attachments": {},
   "cell_type": "markdown",
   "metadata": {},
   "source": [
    "# Inspeccionar los totales de ficheros de ofertas, por tipo de extensión"
   ]
  },
  {
   "cell_type": "code",
   "execution_count": null,
   "metadata": {},
   "outputs": [],
   "source": [
    "from pathlib import Path\n",
    "import pandas as pd\n",
    "\n",
    "directory = \"//EURFL01/advisors.hal/non-hudson/Coral Homes/CoralHudson/1. AM/8. Wholesale Channel/Ofertas recibidas SVH\"\n",
    "ficheros = Path(directory).rglob(\"[!$^]*.*\")"
   ]
  },
  {
   "cell_type": "code",
   "execution_count": null,
   "metadata": {},
   "outputs": [],
   "source": [
    "listado_ficheros_ofertas = [(f.stem, f.suffix) for f in list(ficheros)]"
   ]
  },
  {
   "cell_type": "code",
   "execution_count": null,
   "metadata": {},
   "outputs": [],
   "source": [
    "(\n",
    "    pd.DataFrame(listado_ficheros_ofertas, columns=[\"filename\", \"extension\"])\n",
    "    .groupby(\"extension\")\n",
    "    .count()\n",
    ")"
   ]
  },
  {
   "attachments": {},
   "cell_type": "markdown",
   "metadata": {},
   "source": [
    "# Carriage Return (imprimir linea sobre linea)"
   ]
  },
  {
   "cell_type": "code",
   "execution_count": null,
   "metadata": {},
   "outputs": [],
   "source": [
    "import time\n",
    "from pathlib import Path\n",
    "\n",
    "data = Path.cwd()\n",
    "ficheros_leidos = 0\n",
    "\n",
    "datafiles2 = list(Path(\"C:/Users/amontes/Downloads/\").glob(\"*.*\"))\n",
    "num_ficheros = len(datafiles2)\n",
    "\n",
    "for i in datafiles2:\n",
    "    ficheros_leidos += 1\n",
    "    print(\n",
    "        ficheros_leidos, end=f\" completado, quedan {num_ficheros - ficheros_leidos}\\r\"\n",
    "    )\n",
    "    time.sleep(0.05)\n",
    "\n",
    "print(\"Okay terminado\")"
   ]
  },
  {
   "cell_type": "code",
   "execution_count": null,
   "metadata": {},
   "outputs": [],
   "source": [
    "import datetime\n",
    "\n",
    "datos = None\n",
    "\n",
    "isinstance(datos, (datetime.datetime, None))"
   ]
  },
  {
   "attachments": {},
   "cell_type": "markdown",
   "metadata": {},
   "source": [
    "# Fichero Pipe: abrir, completar con datos, crear dashboard automático"
   ]
  },
  {
   "cell_type": "code",
   "execution_count": 34,
   "metadata": {},
   "outputs": [
    {
     "data": {
      "text/html": [
       "<pre style=\"white-space:pre;overflow-x:auto;line-height:normal;font-family:Menlo,'DejaVu Sans Mono',consolas,'Courier New',monospace\">Date not found in the file name. <span style=\"color: #008000; text-decoration-color: #008000\">'%'</span> is a bad directive in format <span style=\"color: #008000; text-decoration-color: #008000\">'%*_%Y_%d_%B.xlsx'</span>\n",
       "</pre>\n"
      ],
      "text/plain": [
       "Date not found in the file name. \u001b[32m'%'\u001b[0m is a bad directive in format \u001b[32m'%*_%Y_%d_%B.xlsx'\u001b[0m\n"
      ]
     },
     "metadata": {},
     "output_type": "display_data"
    },
    {
     "data": {
      "text/html": [
       "<pre style=\"white-space:pre;overflow-x:auto;line-height:normal;font-family:Menlo,'DejaVu Sans Mono',consolas,'Courier New',monospace\">Date not found in the file name. <span style=\"color: #008000; text-decoration-color: #008000\">'%'</span> is a bad directive in format <span style=\"color: #008000; text-decoration-color: #008000\">'%*_%Y_%d_%B.xlsx'</span>\n",
       "</pre>\n"
      ],
      "text/plain": [
       "Date not found in the file name. \u001b[32m'%'\u001b[0m is a bad directive in format \u001b[32m'%*_%Y_%d_%B.xlsx'\u001b[0m\n"
      ]
     },
     "metadata": {},
     "output_type": "display_data"
    },
    {
     "data": {
      "text/html": [
       "<pre style=\"white-space:pre;overflow-x:auto;line-height:normal;font-family:Menlo,'DejaVu Sans Mono',consolas,'Courier New',monospace\">Date not found in the file name. <span style=\"color: #008000; text-decoration-color: #008000\">'%'</span> is a bad directive in format <span style=\"color: #008000; text-decoration-color: #008000\">'%*_%Y_%d_%B.xlsx'</span>\n",
       "</pre>\n"
      ],
      "text/plain": [
       "Date not found in the file name. \u001b[32m'%'\u001b[0m is a bad directive in format \u001b[32m'%*_%Y_%d_%B.xlsx'\u001b[0m\n"
      ]
     },
     "metadata": {},
     "output_type": "display_data"
    },
    {
     "data": {
      "text/html": [
       "<pre style=\"white-space:pre;overflow-x:auto;line-height:normal;font-family:Menlo,'DejaVu Sans Mono',consolas,'Courier New',monospace\">Date not found in the file name. <span style=\"color: #008000; text-decoration-color: #008000\">'%'</span> is a bad directive in format <span style=\"color: #008000; text-decoration-color: #008000\">'%*_%Y_%d_%B.xlsx'</span>\n",
       "</pre>\n"
      ],
      "text/plain": [
       "Date not found in the file name. \u001b[32m'%'\u001b[0m is a bad directive in format \u001b[32m'%*_%Y_%d_%B.xlsx'\u001b[0m\n"
      ]
     },
     "metadata": {},
     "output_type": "display_data"
    },
    {
     "data": {
      "text/html": [
       "<pre style=\"white-space:pre;overflow-x:auto;line-height:normal;font-family:Menlo,'DejaVu Sans Mono',consolas,'Courier New',monospace\">Date not found in the file name. <span style=\"color: #008000; text-decoration-color: #008000\">'%'</span> is a bad directive in format <span style=\"color: #008000; text-decoration-color: #008000\">'%*_%Y_%d_%B.xlsx'</span>\n",
       "</pre>\n"
      ],
      "text/plain": [
       "Date not found in the file name. \u001b[32m'%'\u001b[0m is a bad directive in format \u001b[32m'%*_%Y_%d_%B.xlsx'\u001b[0m\n"
      ]
     },
     "metadata": {},
     "output_type": "display_data"
    },
    {
     "data": {
      "text/html": [
       "<pre style=\"white-space:pre;overflow-x:auto;line-height:normal;font-family:Menlo,'DejaVu Sans Mono',consolas,'Courier New',monospace\">Date not found in the file name. <span style=\"color: #008000; text-decoration-color: #008000\">'%'</span> is a bad directive in format <span style=\"color: #008000; text-decoration-color: #008000\">'%*_%Y_%d_%B.xlsx'</span>\n",
       "</pre>\n"
      ],
      "text/plain": [
       "Date not found in the file name. \u001b[32m'%'\u001b[0m is a bad directive in format \u001b[32m'%*_%Y_%d_%B.xlsx'\u001b[0m\n"
      ]
     },
     "metadata": {},
     "output_type": "display_data"
    },
    {
     "data": {
      "text/html": [
       "<pre style=\"white-space:pre;overflow-x:auto;line-height:normal;font-family:Menlo,'DejaVu Sans Mono',consolas,'Courier New',monospace\">Date not found in the file name. <span style=\"color: #008000; text-decoration-color: #008000\">'%'</span> is a bad directive in format <span style=\"color: #008000; text-decoration-color: #008000\">'%*_%Y_%d_%B.xlsx'</span>\n",
       "</pre>\n"
      ],
      "text/plain": [
       "Date not found in the file name. \u001b[32m'%'\u001b[0m is a bad directive in format \u001b[32m'%*_%Y_%d_%B.xlsx'\u001b[0m\n"
      ]
     },
     "metadata": {},
     "output_type": "display_data"
    },
    {
     "data": {
      "text/html": [
       "<pre style=\"white-space:pre;overflow-x:auto;line-height:normal;font-family:Menlo,'DejaVu Sans Mono',consolas,'Courier New',monospace\">Date not found in the file name. <span style=\"color: #008000; text-decoration-color: #008000\">'%'</span> is a bad directive in format <span style=\"color: #008000; text-decoration-color: #008000\">'%*_%Y_%d_%B.xlsx'</span>\n",
       "</pre>\n"
      ],
      "text/plain": [
       "Date not found in the file name. \u001b[32m'%'\u001b[0m is a bad directive in format \u001b[32m'%*_%Y_%d_%B.xlsx'\u001b[0m\n"
      ]
     },
     "metadata": {},
     "output_type": "display_data"
    },
    {
     "data": {
      "text/html": [
       "<pre style=\"white-space:pre;overflow-x:auto;line-height:normal;font-family:Menlo,'DejaVu Sans Mono',consolas,'Courier New',monospace\">Date not found in the file name. <span style=\"color: #008000; text-decoration-color: #008000\">'%'</span> is a bad directive in format <span style=\"color: #008000; text-decoration-color: #008000\">'%*_%Y_%d_%B.xlsx'</span>\n",
       "</pre>\n"
      ],
      "text/plain": [
       "Date not found in the file name. \u001b[32m'%'\u001b[0m is a bad directive in format \u001b[32m'%*_%Y_%d_%B.xlsx'\u001b[0m\n"
      ]
     },
     "metadata": {},
     "output_type": "display_data"
    },
    {
     "data": {
      "text/html": [
       "<pre style=\"white-space:pre;overflow-x:auto;line-height:normal;font-family:Menlo,'DejaVu Sans Mono',consolas,'Courier New',monospace\">Date not found in the file name. <span style=\"color: #008000; text-decoration-color: #008000\">'%'</span> is a bad directive in format <span style=\"color: #008000; text-decoration-color: #008000\">'%*_%Y_%d_%B.xlsx'</span>\n",
       "</pre>\n"
      ],
      "text/plain": [
       "Date not found in the file name. \u001b[32m'%'\u001b[0m is a bad directive in format \u001b[32m'%*_%Y_%d_%B.xlsx'\u001b[0m\n"
      ]
     },
     "metadata": {},
     "output_type": "display_data"
    },
    {
     "data": {
      "text/html": [
       "<pre style=\"white-space:pre;overflow-x:auto;line-height:normal;font-family:Menlo,'DejaVu Sans Mono',consolas,'Courier New',monospace\">Date not found in the file name. <span style=\"color: #008000; text-decoration-color: #008000\">'%'</span> is a bad directive in format <span style=\"color: #008000; text-decoration-color: #008000\">'%*_%Y_%d_%B.xlsx'</span>\n",
       "</pre>\n"
      ],
      "text/plain": [
       "Date not found in the file name. \u001b[32m'%'\u001b[0m is a bad directive in format \u001b[32m'%*_%Y_%d_%B.xlsx'\u001b[0m\n"
      ]
     },
     "metadata": {},
     "output_type": "display_data"
    },
    {
     "data": {
      "text/html": [
       "<pre style=\"white-space:pre;overflow-x:auto;line-height:normal;font-family:Menlo,'DejaVu Sans Mono',consolas,'Courier New',monospace\">Date not found in the file name. <span style=\"color: #008000; text-decoration-color: #008000\">'%'</span> is a bad directive in format <span style=\"color: #008000; text-decoration-color: #008000\">'%*_%Y_%d_%B.xlsx'</span>\n",
       "</pre>\n"
      ],
      "text/plain": [
       "Date not found in the file name. \u001b[32m'%'\u001b[0m is a bad directive in format \u001b[32m'%*_%Y_%d_%B.xlsx'\u001b[0m\n"
      ]
     },
     "metadata": {},
     "output_type": "display_data"
    },
    {
     "data": {
      "text/html": [
       "<pre style=\"white-space:pre;overflow-x:auto;line-height:normal;font-family:Menlo,'DejaVu Sans Mono',consolas,'Courier New',monospace\">Date not found in the file name. <span style=\"color: #008000; text-decoration-color: #008000\">'%'</span> is a bad directive in format <span style=\"color: #008000; text-decoration-color: #008000\">'%*_%Y_%d_%B.xlsx'</span>\n",
       "</pre>\n"
      ],
      "text/plain": [
       "Date not found in the file name. \u001b[32m'%'\u001b[0m is a bad directive in format \u001b[32m'%*_%Y_%d_%B.xlsx'\u001b[0m\n"
      ]
     },
     "metadata": {},
     "output_type": "display_data"
    },
    {
     "data": {
      "text/html": [
       "<pre style=\"white-space:pre;overflow-x:auto;line-height:normal;font-family:Menlo,'DejaVu Sans Mono',consolas,'Courier New',monospace\">Date not found in the file name. <span style=\"color: #008000; text-decoration-color: #008000\">'%'</span> is a bad directive in format <span style=\"color: #008000; text-decoration-color: #008000\">'%*_%Y_%d_%B.xlsx'</span>\n",
       "</pre>\n"
      ],
      "text/plain": [
       "Date not found in the file name. \u001b[32m'%'\u001b[0m is a bad directive in format \u001b[32m'%*_%Y_%d_%B.xlsx'\u001b[0m\n"
      ]
     },
     "metadata": {},
     "output_type": "display_data"
    },
    {
     "data": {
      "text/html": [
       "<pre style=\"white-space:pre;overflow-x:auto;line-height:normal;font-family:Menlo,'DejaVu Sans Mono',consolas,'Courier New',monospace\">Date not found in the file name. <span style=\"color: #008000; text-decoration-color: #008000\">'%'</span> is a bad directive in format <span style=\"color: #008000; text-decoration-color: #008000\">'%*_%Y_%d_%B.xlsx'</span>\n",
       "</pre>\n"
      ],
      "text/plain": [
       "Date not found in the file name. \u001b[32m'%'\u001b[0m is a bad directive in format \u001b[32m'%*_%Y_%d_%B.xlsx'\u001b[0m\n"
      ]
     },
     "metadata": {},
     "output_type": "display_data"
    },
    {
     "data": {
      "text/html": [
       "<pre style=\"white-space:pre;overflow-x:auto;line-height:normal;font-family:Menlo,'DejaVu Sans Mono',consolas,'Courier New',monospace\">Date not found in the file name. <span style=\"color: #008000; text-decoration-color: #008000\">'%'</span> is a bad directive in format <span style=\"color: #008000; text-decoration-color: #008000\">'%*_%Y_%d_%B.xlsx'</span>\n",
       "</pre>\n"
      ],
      "text/plain": [
       "Date not found in the file name. \u001b[32m'%'\u001b[0m is a bad directive in format \u001b[32m'%*_%Y_%d_%B.xlsx'\u001b[0m\n"
      ]
     },
     "metadata": {},
     "output_type": "display_data"
    },
    {
     "data": {
      "text/html": [
       "<pre style=\"white-space:pre;overflow-x:auto;line-height:normal;font-family:Menlo,'DejaVu Sans Mono',consolas,'Courier New',monospace\">Date not found in the file name. <span style=\"color: #008000; text-decoration-color: #008000\">'%'</span> is a bad directive in format <span style=\"color: #008000; text-decoration-color: #008000\">'%*_%Y_%d_%B.xlsx'</span>\n",
       "</pre>\n"
      ],
      "text/plain": [
       "Date not found in the file name. \u001b[32m'%'\u001b[0m is a bad directive in format \u001b[32m'%*_%Y_%d_%B.xlsx'\u001b[0m\n"
      ]
     },
     "metadata": {},
     "output_type": "display_data"
    },
    {
     "data": {
      "text/html": [
       "<pre style=\"white-space:pre;overflow-x:auto;line-height:normal;font-family:Menlo,'DejaVu Sans Mono',consolas,'Courier New',monospace\">Date not found in the file name. <span style=\"color: #008000; text-decoration-color: #008000\">'%'</span> is a bad directive in format <span style=\"color: #008000; text-decoration-color: #008000\">'%*_%Y_%d_%B.xlsx'</span>\n",
       "</pre>\n"
      ],
      "text/plain": [
       "Date not found in the file name. \u001b[32m'%'\u001b[0m is a bad directive in format \u001b[32m'%*_%Y_%d_%B.xlsx'\u001b[0m\n"
      ]
     },
     "metadata": {},
     "output_type": "display_data"
    },
    {
     "data": {
      "text/html": [
       "<pre style=\"white-space:pre;overflow-x:auto;line-height:normal;font-family:Menlo,'DejaVu Sans Mono',consolas,'Courier New',monospace\">Date not found in the file name. <span style=\"color: #008000; text-decoration-color: #008000\">'%'</span> is a bad directive in format <span style=\"color: #008000; text-decoration-color: #008000\">'%*_%Y_%d_%B.xlsx'</span>\n",
       "</pre>\n"
      ],
      "text/plain": [
       "Date not found in the file name. \u001b[32m'%'\u001b[0m is a bad directive in format \u001b[32m'%*_%Y_%d_%B.xlsx'\u001b[0m\n"
      ]
     },
     "metadata": {},
     "output_type": "display_data"
    },
    {
     "data": {
      "text/html": [
       "<pre style=\"white-space:pre;overflow-x:auto;line-height:normal;font-family:Menlo,'DejaVu Sans Mono',consolas,'Courier New',monospace\">Date not found in the file name. <span style=\"color: #008000; text-decoration-color: #008000\">'%'</span> is a bad directive in format <span style=\"color: #008000; text-decoration-color: #008000\">'%*_%Y_%d_%B.xlsx'</span>\n",
       "</pre>\n"
      ],
      "text/plain": [
       "Date not found in the file name. \u001b[32m'%'\u001b[0m is a bad directive in format \u001b[32m'%*_%Y_%d_%B.xlsx'\u001b[0m\n"
      ]
     },
     "metadata": {},
     "output_type": "display_data"
    },
    {
     "data": {
      "text/html": [
       "<pre style=\"white-space:pre;overflow-x:auto;line-height:normal;font-family:Menlo,'DejaVu Sans Mono',consolas,'Courier New',monospace\">Date not found in the file name. <span style=\"color: #008000; text-decoration-color: #008000\">'%'</span> is a bad directive in format <span style=\"color: #008000; text-decoration-color: #008000\">'%*_%Y_%d_%B.xlsx'</span>\n",
       "</pre>\n"
      ],
      "text/plain": [
       "Date not found in the file name. \u001b[32m'%'\u001b[0m is a bad directive in format \u001b[32m'%*_%Y_%d_%B.xlsx'\u001b[0m\n"
      ]
     },
     "metadata": {},
     "output_type": "display_data"
    },
    {
     "data": {
      "text/html": [
       "<pre style=\"white-space:pre;overflow-x:auto;line-height:normal;font-family:Menlo,'DejaVu Sans Mono',consolas,'Courier New',monospace\">Date not found in the file name. <span style=\"color: #008000; text-decoration-color: #008000\">'%'</span> is a bad directive in format <span style=\"color: #008000; text-decoration-color: #008000\">'%*_%Y_%d_%B.xlsx'</span>\n",
       "</pre>\n"
      ],
      "text/plain": [
       "Date not found in the file name. \u001b[32m'%'\u001b[0m is a bad directive in format \u001b[32m'%*_%Y_%d_%B.xlsx'\u001b[0m\n"
      ]
     },
     "metadata": {},
     "output_type": "display_data"
    },
    {
     "data": {
      "text/html": [
       "<pre style=\"white-space:pre;overflow-x:auto;line-height:normal;font-family:Menlo,'DejaVu Sans Mono',consolas,'Courier New',monospace\">Date not found in the file name. <span style=\"color: #008000; text-decoration-color: #008000\">'%'</span> is a bad directive in format <span style=\"color: #008000; text-decoration-color: #008000\">'%*_%Y_%d_%B.xlsx'</span>\n",
       "</pre>\n"
      ],
      "text/plain": [
       "Date not found in the file name. \u001b[32m'%'\u001b[0m is a bad directive in format \u001b[32m'%*_%Y_%d_%B.xlsx'\u001b[0m\n"
      ]
     },
     "metadata": {},
     "output_type": "display_data"
    },
    {
     "data": {
      "text/html": [
       "<pre style=\"white-space:pre;overflow-x:auto;line-height:normal;font-family:Menlo,'DejaVu Sans Mono',consolas,'Courier New',monospace\">Date not found in the file name. <span style=\"color: #008000; text-decoration-color: #008000\">'%'</span> is a bad directive in format <span style=\"color: #008000; text-decoration-color: #008000\">'%*_%Y_%d_%B.xlsx'</span>\n",
       "</pre>\n"
      ],
      "text/plain": [
       "Date not found in the file name. \u001b[32m'%'\u001b[0m is a bad directive in format \u001b[32m'%*_%Y_%d_%B.xlsx'\u001b[0m\n"
      ]
     },
     "metadata": {},
     "output_type": "display_data"
    },
    {
     "data": {
      "text/html": [
       "<pre style=\"white-space:pre;overflow-x:auto;line-height:normal;font-family:Menlo,'DejaVu Sans Mono',consolas,'Courier New',monospace\">Date not found in the file name. <span style=\"color: #008000; text-decoration-color: #008000\">'%'</span> is a bad directive in format <span style=\"color: #008000; text-decoration-color: #008000\">'%*_%Y_%d_%B.xlsx'</span>\n",
       "</pre>\n"
      ],
      "text/plain": [
       "Date not found in the file name. \u001b[32m'%'\u001b[0m is a bad directive in format \u001b[32m'%*_%Y_%d_%B.xlsx'\u001b[0m\n"
      ]
     },
     "metadata": {},
     "output_type": "display_data"
    },
    {
     "data": {
      "text/html": [
       "<pre style=\"white-space:pre;overflow-x:auto;line-height:normal;font-family:Menlo,'DejaVu Sans Mono',consolas,'Courier New',monospace\">Date not found in the file name. <span style=\"color: #008000; text-decoration-color: #008000\">'%'</span> is a bad directive in format <span style=\"color: #008000; text-decoration-color: #008000\">'%*_%Y_%d_%B.xlsx'</span>\n",
       "</pre>\n"
      ],
      "text/plain": [
       "Date not found in the file name. \u001b[32m'%'\u001b[0m is a bad directive in format \u001b[32m'%*_%Y_%d_%B.xlsx'\u001b[0m\n"
      ]
     },
     "metadata": {},
     "output_type": "display_data"
    },
    {
     "data": {
      "text/html": [
       "<pre style=\"white-space:pre;overflow-x:auto;line-height:normal;font-family:Menlo,'DejaVu Sans Mono',consolas,'Courier New',monospace\">Date not found in the file name. <span style=\"color: #008000; text-decoration-color: #008000\">'%'</span> is a bad directive in format <span style=\"color: #008000; text-decoration-color: #008000\">'%*_%Y_%d_%B.xlsx'</span>\n",
       "</pre>\n"
      ],
      "text/plain": [
       "Date not found in the file name. \u001b[32m'%'\u001b[0m is a bad directive in format \u001b[32m'%*_%Y_%d_%B.xlsx'\u001b[0m\n"
      ]
     },
     "metadata": {},
     "output_type": "display_data"
    }
   ],
   "source": [
    "from pathlib import Path\n",
    "import re\n",
    "import datetime\n",
    "\n",
    "template_file = \"N:/CoralHudson/1. AM/8. Wholesale Channel/WS PIPE 2023\"\n",
    "# Define the format for parsing the date from the file name\n",
    "date_format = \"%Y_%d_%B\"\n",
    "\n",
    "ficheros_pipe = Path(template_file).glob(\"*.xlsx\")\n",
    "for f in ficheros_pipe:\n",
    "    try:\n",
    "        # Parse the date from the file name using datetime.strptime\n",
    "        parsed_date = datetime.datetime.strptime(f.name, f\"%*_{date_format}.xlsx\")\n",
    "        print(parsed_date.strftime(\"%d/%m/%Y\"))  # Output: \"03/05/2023\"\n",
    "    except ValueError as e:\n",
    "        print(\"Date not found in the file name.\", e)"
   ]
  },
  {
   "cell_type": "code",
   "execution_count": 28,
   "metadata": {},
   "outputs": [
    {
     "ename": "ValueError",
     "evalue": "time data 'StupidFile_2023_03_May.xlsx' does not match format '_%Y_%d_%B.xlsx'",
     "output_type": "error",
     "traceback": [
      "\u001b[1;31m---------------------------------------------------------------------------\u001b[0m",
      "\u001b[1;31mValueError\u001b[0m                                Traceback (most recent call last)",
      "Cell \u001b[1;32mIn[28], line 1\u001b[0m\n\u001b[1;32m----> 1\u001b[0m datetime\u001b[39m.\u001b[39;49mdatetime\u001b[39m.\u001b[39;49mstrptime(\u001b[39m\"\u001b[39;49m\u001b[39mStupidFile_2023_03_May.xlsx\u001b[39;49m\u001b[39m\"\u001b[39;49m, date_format)\n",
      "File \u001b[1;32m~\\AppData\\Local\\Programs\\Python\\Python311\\Lib\\_strptime.py:568\u001b[0m, in \u001b[0;36m_strptime_datetime\u001b[1;34m(cls, data_string, format)\u001b[0m\n\u001b[0;32m    565\u001b[0m \u001b[39mdef\u001b[39;00m \u001b[39m_strptime_datetime\u001b[39m(\u001b[39mcls\u001b[39m, data_string, \u001b[39mformat\u001b[39m\u001b[39m=\u001b[39m\u001b[39m\"\u001b[39m\u001b[39m%a\u001b[39;00m\u001b[39m \u001b[39m\u001b[39m%\u001b[39m\u001b[39mb \u001b[39m\u001b[39m%d\u001b[39;00m\u001b[39m \u001b[39m\u001b[39m%\u001b[39m\u001b[39mH:\u001b[39m\u001b[39m%\u001b[39m\u001b[39mM:\u001b[39m\u001b[39m%\u001b[39m\u001b[39mS \u001b[39m\u001b[39m%\u001b[39m\u001b[39mY\u001b[39m\u001b[39m\"\u001b[39m):\n\u001b[0;32m    566\u001b[0m \u001b[39m    \u001b[39m\u001b[39m\"\"\"Return a class cls instance based on the input string and the\u001b[39;00m\n\u001b[0;32m    567\u001b[0m \u001b[39m    format string.\"\"\"\u001b[39;00m\n\u001b[1;32m--> 568\u001b[0m     tt, fraction, gmtoff_fraction \u001b[39m=\u001b[39m _strptime(data_string, \u001b[39mformat\u001b[39;49m)\n\u001b[0;32m    569\u001b[0m     tzname, gmtoff \u001b[39m=\u001b[39m tt[\u001b[39m-\u001b[39m\u001b[39m2\u001b[39m:]\n\u001b[0;32m    570\u001b[0m     args \u001b[39m=\u001b[39m tt[:\u001b[39m6\u001b[39m] \u001b[39m+\u001b[39m (fraction,)\n",
      "File \u001b[1;32m~\\AppData\\Local\\Programs\\Python\\Python311\\Lib\\_strptime.py:349\u001b[0m, in \u001b[0;36m_strptime\u001b[1;34m(data_string, format)\u001b[0m\n\u001b[0;32m    347\u001b[0m found \u001b[39m=\u001b[39m format_regex\u001b[39m.\u001b[39mmatch(data_string)\n\u001b[0;32m    348\u001b[0m \u001b[39mif\u001b[39;00m \u001b[39mnot\u001b[39;00m found:\n\u001b[1;32m--> 349\u001b[0m     \u001b[39mraise\u001b[39;00m \u001b[39mValueError\u001b[39;00m(\u001b[39m\"\u001b[39m\u001b[39mtime data \u001b[39m\u001b[39m%r\u001b[39;00m\u001b[39m does not match format \u001b[39m\u001b[39m%r\u001b[39;00m\u001b[39m\"\u001b[39m \u001b[39m%\u001b[39m\n\u001b[0;32m    350\u001b[0m                      (data_string, \u001b[39mformat\u001b[39m))\n\u001b[0;32m    351\u001b[0m \u001b[39mif\u001b[39;00m \u001b[39mlen\u001b[39m(data_string) \u001b[39m!=\u001b[39m found\u001b[39m.\u001b[39mend():\n\u001b[0;32m    352\u001b[0m     \u001b[39mraise\u001b[39;00m \u001b[39mValueError\u001b[39;00m(\u001b[39m\"\u001b[39m\u001b[39munconverted data remains: \u001b[39m\u001b[39m%s\u001b[39;00m\u001b[39m\"\u001b[39m \u001b[39m%\u001b[39m\n\u001b[0;32m    353\u001b[0m                       data_string[found\u001b[39m.\u001b[39mend():])\n",
      "\u001b[1;31mValueError\u001b[0m: time data 'StupidFile_2023_03_May.xlsx' does not match format '_%Y_%d_%B.xlsx'"
     ]
    }
   ],
   "source": [
    "datetime.datetime.strptime(\"StupidFile_2023_03_May.xlsx\", date_format)"
   ]
  },
  {
   "attachments": {},
   "cell_type": "markdown",
   "metadata": {},
   "source": [
    "# Switch Case Simultáneo (2 o más variables)"
   ]
  },
  {
   "cell_type": "code",
   "execution_count": null,
   "metadata": {},
   "outputs": [],
   "source": [
    "var1, var2 = \"not ok\", 2\n",
    "\n",
    "match var1, var2:\n",
    "    case \"ok\", 1:\n",
    "        print(\"Lo agarra!\")\n",
    "    case \"not ok\", 2:\n",
    "        print(\"También lo agarra!\")\n",
    "    case \"fuck you\", 3:\n",
    "        print(\"que alguien pare a este hombre!!\")\n",
    "    case _:\n",
    "        print(\"Errm esto no era lo que habiamos hablao\")"
   ]
  },
  {
   "cell_type": "markdown",
   "metadata": {},
   "source": [
    "# OFERTAS: Sólo aquellas que NO existan"
   ]
  },
  {
   "cell_type": "code",
   "execution_count": 10,
   "metadata": {},
   "outputs": [
    {
     "data": {
      "text/html": [
       "<pre style=\"white-space:pre;overflow-x:auto;line-height:normal;font-family:Menlo,'DejaVu Sans Mono',consolas,'Courier New',monospace\">Scanning offers directory N:<span style=\"color: #800080; text-decoration-color: #800080\">/CoralHudson/</span><span style=\"color: #ff00ff; text-decoration-color: #ff00ff\">1.</span> AM/<span style=\"color: #008080; text-decoration-color: #008080; font-weight: bold\">8</span>. Wholesale Channel/Ofertas recibidas SVH/<span style=\"color: #008080; text-decoration-color: #008080; font-weight: bold\">2023</span><span style=\"color: #808000; text-decoration-color: #808000\">...</span>\n",
       "</pre>\n"
      ],
      "text/plain": [
       "Scanning offers directory N:\u001b[35m/CoralHudson/\u001b[0m\u001b[95m1.\u001b[0m AM/\u001b[1;36m8\u001b[0m. Wholesale Channel/Ofertas recibidas SVH/\u001b[1;36m2023\u001b[0m\u001b[33m...\u001b[0m\n"
      ]
     },
     "metadata": {},
     "output_type": "display_data"
    }
   ],
   "source": [
    "from conf.functions import find_files_included\n",
    "from conf.settings import offersconf as conf\n",
    "\n",
    "files = find_files_included(conf.directory, \"2023\")"
   ]
  },
  {
   "cell_type": "code",
   "execution_count": 26,
   "metadata": {},
   "outputs": [
    {
     "data": {
      "text/plain": [
       "['N:\\\\CoralHudson\\\\1. AM\\\\8. Wholesale Channel\\\\Ofertas recibidas SVH\\\\2023\\\\20230920\\\\20230920_OF 5551195_UR_60453075_SUELO_PJE MAS CAN FALET_SANTA PAU.xlsx']"
      ]
     },
     "execution_count": 26,
     "metadata": {},
     "output_type": "execute_result"
    }
   ],
   "source": [
    "# OK it works for now, lets compare against the path on the sql table\n",
    "\n",
    "import duckdb\n",
    "import os\n",
    "\n",
    "with duckdb.connect(conf.db_file) as db:\n",
    "    x = db.sql(\"\"\"select distinct(full_path) from ws_current_offers\"\"\").fetchall()\n",
    "\n",
    "x = {os.path.abspath(n[0]) for n in x}\n",
    "files = {os.path.abspath(f) for f in files}\n",
    "\n",
    "list(files.symmetric_difference(x))"
   ]
  },
  {
   "cell_type": "code",
   "execution_count": 27,
   "metadata": {},
   "outputs": [
    {
     "name": "stdout",
     "output_type": "stream",
     "text": [
      "No tiene contenido?\n"
     ]
    }
   ],
   "source": [
    "empty_list = []\n",
    "if empty_list:\n",
    "    print(\"Tiene contenido?\")\n",
    "else:\n",
    "    print(\"No tiene contenido?\")"
   ]
  },
  {
   "cell_type": "markdown",
   "metadata": {},
   "source": [
    "# GLOB: Evitar ficheros temporales"
   ]
  },
  {
   "cell_type": "code",
   "execution_count": 5,
   "metadata": {},
   "outputs": [
    {
     "data": {
      "text/plain": [
       "[WindowsPath('N:/CoralHudson/1. AM/8. Wholesale Channel/WS PIPE 2023/230822 Pipe 2023 - Formalización Coral Comercial V1.xlsx'),\n",
       " WindowsPath('N:/CoralHudson/1. AM/8. Wholesale Channel/WS PIPE 2023/230829 Pipe 2023 -Formalización Coral Comercial V1.xlsx'),\n",
       " WindowsPath('N:/CoralHudson/1. AM/8. Wholesale Channel/WS PIPE 2023/Copy of WS_Pipe_2023_22_November.xlsx'),\n",
       " WindowsPath('N:/CoralHudson/1. AM/8. Wholesale Channel/WS PIPE 2023/WS_Pipe_2023_01_August.xlsx'),\n",
       " WindowsPath('N:/CoralHudson/1. AM/8. Wholesale Channel/WS PIPE 2023/WS_Pipe_2023_03_May.xlsx'),\n",
       " WindowsPath('N:/CoralHudson/1. AM/8. Wholesale Channel/WS PIPE 2023/WS_Pipe_2023_03_October.xlsx'),\n",
       " WindowsPath('N:/CoralHudson/1. AM/8. Wholesale Channel/WS PIPE 2023/WS_Pipe_2023_04_April.xlsx'),\n",
       " WindowsPath('N:/CoralHudson/1. AM/8. Wholesale Channel/WS PIPE 2023/WS_Pipe_2023_05_December.xlsx'),\n",
       " WindowsPath('N:/CoralHudson/1. AM/8. Wholesale Channel/WS PIPE 2023/WS_Pipe_2023_05_September.xlsx'),\n",
       " WindowsPath('N:/CoralHudson/1. AM/8. Wholesale Channel/WS PIPE 2023/WS_Pipe_2023_06_June.xlsx'),\n",
       " WindowsPath('N:/CoralHudson/1. AM/8. Wholesale Channel/WS PIPE 2023/WS_Pipe_2023_07_February.xlsx'),\n",
       " WindowsPath('N:/CoralHudson/1. AM/8. Wholesale Channel/WS PIPE 2023/WS_Pipe_2023_07_July.xlsx'),\n",
       " WindowsPath('N:/CoralHudson/1. AM/8. Wholesale Channel/WS PIPE 2023/WS_Pipe_2023_07_March.xlsx'),\n",
       " WindowsPath('N:/CoralHudson/1. AM/8. Wholesale Channel/WS PIPE 2023/WS_Pipe_2023_07_November.xlsx'),\n",
       " WindowsPath('N:/CoralHudson/1. AM/8. Wholesale Channel/WS PIPE 2023/WS_Pipe_2023_08_August.xlsx'),\n",
       " WindowsPath('N:/CoralHudson/1. AM/8. Wholesale Channel/WS PIPE 2023/WS_Pipe_2023_09_May.xlsx'),\n",
       " WindowsPath('N:/CoralHudson/1. AM/8. Wholesale Channel/WS PIPE 2023/WS_Pipe_2023_10_October.xlsx'),\n",
       " WindowsPath('N:/CoralHudson/1. AM/8. Wholesale Channel/WS PIPE 2023/WS_Pipe_2023_11_April.xlsx'),\n",
       " WindowsPath('N:/CoralHudson/1. AM/8. Wholesale Channel/WS PIPE 2023/WS_Pipe_2023_11_July.xlsx'),\n",
       " WindowsPath('N:/CoralHudson/1. AM/8. Wholesale Channel/WS PIPE 2023/WS_Pipe_2023_12_December.xlsx'),\n",
       " WindowsPath('N:/CoralHudson/1. AM/8. Wholesale Channel/WS PIPE 2023/WS_Pipe_2023_12_September.xlsx'),\n",
       " WindowsPath('N:/CoralHudson/1. AM/8. Wholesale Channel/WS PIPE 2023/WS_Pipe_2023_13_June.xlsx'),\n",
       " WindowsPath('N:/CoralHudson/1. AM/8. Wholesale Channel/WS PIPE 2023/WS_Pipe_2023_14_February.xlsx'),\n",
       " WindowsPath('N:/CoralHudson/1. AM/8. Wholesale Channel/WS PIPE 2023/WS_Pipe_2023_14_March.xlsx'),\n",
       " WindowsPath('N:/CoralHudson/1. AM/8. Wholesale Channel/WS PIPE 2023/WS_Pipe_2023_14_November.xlsx'),\n",
       " WindowsPath('N:/CoralHudson/1. AM/8. Wholesale Channel/WS PIPE 2023/WS_Pipe_2023_15_August.xlsx'),\n",
       " WindowsPath('N:/CoralHudson/1. AM/8. Wholesale Channel/WS PIPE 2023/WS_Pipe_2023_16_May.xlsx'),\n",
       " WindowsPath('N:/CoralHudson/1. AM/8. Wholesale Channel/WS PIPE 2023/WS_Pipe_2023_17_October.xlsx'),\n",
       " WindowsPath('N:/CoralHudson/1. AM/8. Wholesale Channel/WS PIPE 2023/WS_Pipe_2023_18_April.xlsx'),\n",
       " WindowsPath('N:/CoralHudson/1. AM/8. Wholesale Channel/WS PIPE 2023/WS_Pipe_2023_18_January.xlsx'),\n",
       " WindowsPath('N:/CoralHudson/1. AM/8. Wholesale Channel/WS PIPE 2023/WS_Pipe_2023_18_July.xlsx'),\n",
       " WindowsPath('N:/CoralHudson/1. AM/8. Wholesale Channel/WS PIPE 2023/WS_Pipe_2023_19_September.xlsx'),\n",
       " WindowsPath('N:/CoralHudson/1. AM/8. Wholesale Channel/WS PIPE 2023/WS_Pipe_2023_20_June.xlsx'),\n",
       " WindowsPath('N:/CoralHudson/1. AM/8. Wholesale Channel/WS PIPE 2023/WS_Pipe_2023_21_February.xlsx'),\n",
       " WindowsPath('N:/CoralHudson/1. AM/8. Wholesale Channel/WS PIPE 2023/WS_Pipe_2023_21_March.xlsx'),\n",
       " WindowsPath('N:/CoralHudson/1. AM/8. Wholesale Channel/WS PIPE 2023/WS_Pipe_2023_21_November.xlsx'),\n",
       " WindowsPath('N:/CoralHudson/1. AM/8. Wholesale Channel/WS PIPE 2023/WS_Pipe_2023_22_August.xlsx'),\n",
       " WindowsPath('N:/CoralHudson/1. AM/8. Wholesale Channel/WS PIPE 2023/WS_Pipe_2023_23_May.xlsx'),\n",
       " WindowsPath('N:/CoralHudson/1. AM/8. Wholesale Channel/WS PIPE 2023/WS_Pipe_2023_24_January.xlsx'),\n",
       " WindowsPath('N:/CoralHudson/1. AM/8. Wholesale Channel/WS PIPE 2023/WS_Pipe_2023_25_April.xlsx'),\n",
       " WindowsPath('N:/CoralHudson/1. AM/8. Wholesale Channel/WS PIPE 2023/WS_Pipe_2023_25_July.xlsx'),\n",
       " WindowsPath('N:/CoralHudson/1. AM/8. Wholesale Channel/WS PIPE 2023/WS_Pipe_2023_27_June.xlsx'),\n",
       " WindowsPath('N:/CoralHudson/1. AM/8. Wholesale Channel/WS PIPE 2023/WS_Pipe_2023_28_February.xlsx'),\n",
       " WindowsPath('N:/CoralHudson/1. AM/8. Wholesale Channel/WS PIPE 2023/WS_Pipe_2023_28_March.xlsx'),\n",
       " WindowsPath('N:/CoralHudson/1. AM/8. Wholesale Channel/WS PIPE 2023/WS_Pipe_2023_28_November.xlsx'),\n",
       " WindowsPath('N:/CoralHudson/1. AM/8. Wholesale Channel/WS PIPE 2023/WS_Pipe_2023_29_August.xlsx'),\n",
       " WindowsPath('N:/CoralHudson/1. AM/8. Wholesale Channel/WS PIPE 2023/WS_Pipe_2023_30_May.xlsx'),\n",
       " WindowsPath('N:/CoralHudson/1. AM/8. Wholesale Channel/WS PIPE 2023/WS_Pipe_2023_31_January.xlsx'),\n",
       " WindowsPath('N:/CoralHudson/1. AM/8. Wholesale Channel/WS PIPE 2023/WS_Pipe_2023_31_October.xlsx')]"
      ]
     },
     "execution_count": 5,
     "metadata": {},
     "output_type": "execute_result"
    }
   ],
   "source": [
    "from pathlib import Path\n",
    "\n",
    "dirfil = Path(\"N:/CoralHudson/1. AM/8. Wholesale Channel/WS PIPE 2023/\")\n",
    "files = [\n",
    "    p\n",
    "    for p in dirfil.rglob(\"*\")\n",
    "    if p.suffix in [\".xlsx\", \".xls\"] and not p.name.startswith(\"~\")\n",
    "]\n",
    "files"
   ]
  },
  {
   "cell_type": "markdown",
   "metadata": {},
   "source": [
    "# 👨‍🏭 FIX 2023-2019 OFFERS LOADING"
   ]
  },
  {
   "cell_type": "code",
   "execution_count": 14,
   "metadata": {},
   "outputs": [],
   "source": [
    "import polars as pl\n",
    "\n",
    "df = pl.read_csv(\"debug_ddb_table.csv\", ignore_errors=True, null_values=[\"-\"])"
   ]
  },
  {
   "cell_type": "code",
   "execution_count": 20,
   "metadata": {},
   "outputs": [
    {
     "data": {
      "text/html": [
       "<div><style>\n",
       ".dataframe > thead > tr,\n",
       ".dataframe > tbody > tr {\n",
       "  text-align: right;\n",
       "  white-space: pre-wrap;\n",
       "}\n",
       "</style>\n",
       "<small>shape: (367, 48)</small><table border=\"1\" class=\"dataframe\"><thead><tr><th></th><th>offer_id</th><th>offer_date</th><th>offer_price</th><th>appraisal_price</th><th>sap_price</th><th>web_price</th><th>delegate</th><th>segment</th><th>buyer_meeting</th><th>listed_y_n</th><th>rollup_y_n</th><th>dossier</th><th>land_area</th><th>buildable_area</th><th>main_use</th><th>planning_works</th><th>land_readjustment_project</th><th>urbanization_project</th><th>urban_works</th><th>commercial_status</th><th>legal_status</th><th>possession_status</th><th>client_name</th><th>client_description</th><th>client_tax_id</th><th>client_phone</th><th>client_email</th><th>client_address</th><th>due_diligence</th><th>contract_deposit</th><th>public_deed</th><th>conditions_details</th><th>offer_description_long</th><th>servihabitat_opinion</th><th>servihabitat_recommendation</th><th>offer_lead_type</th><th>offer_lead_id</th><th>full_path</th><th>file_name</th><th>read_status</th><th>read_details</th><th>commercialdev</th><th>jointdev</th><th>unique_urs</th><th>asset_type</th><th>address</th><th>asset_location</th></tr><tr><td>i64</td><td>str</td><td>str</td><td>f64</td><td>f64</td><td>str</td><td>str</td><td>str</td><td>str</td><td>str</td><td>str</td><td>str</td><td>str</td><td>str</td><td>f64</td><td>str</td><td>str</td><td>str</td><td>str</td><td>str</td><td>str</td><td>str</td><td>str</td><td>str</td><td>str</td><td>str</td><td>str</td><td>str</td><td>str</td><td>str</td><td>f64</td><td>f64</td><td>str</td><td>str</td><td>str</td><td>str</td><td>str</td><td>str</td><td>str</td><td>str</td><td>str</td><td>str</td><td>str</td><td>str</td><td>str</td><td>str</td><td>str</td><td>str</td></tr></thead><tbody><tr><td>1379</td><td>&quot;5480102&quot;</td><td>null</td><td>1e6</td><td>1.382767e6</td><td>&quot;0&quot;</td><td>&quot;A Consultar&quot;</td><td>&quot;ESTRELLA RODRI…</td><td>null</td><td>null</td><td>null</td><td>null</td><td>null</td><td>&quot;370&quot;</td><td>1069.0</td><td>&quot;RESI&quot;</td><td>&quot;NA&quot;</td><td>&quot;NA&quot;</td><td>&quot;NA&quot;</td><td>&quot;NA&quot;</td><td>&quot;NO PUESTO A LA…</td><td>null</td><td>&quot;VERTICAL&quot;</td><td>null</td><td>null</td><td>null</td><td>null</td><td>null</td><td>null</td><td>null</td><td>0.1</td><td>0.9</td><td>&quot;Contrato priva…</td><td>&quot;Edificio para …</td><td>null</td><td>&quot;CONTRAOFERTAR&quot;</td><td>&quot;SVH&quot;</td><td>null</td><td>&quot;N:\\CoralHudson…</td><td>&quot;220211_ 607952…</td><td>&quot;Success&quot;</td><td>null</td><td>&quot;6079529&quot;</td><td>null</td><td>&quot;60502708&quot;</td><td>&quot;EDIFICIO VIVIE…</td><td>&quot;CL. FERIA, N.1…</td><td>&quot;PENDIENTE DE E…</td></tr><tr><td>1465</td><td>&quot;5472183&quot;</td><td>null</td><td>1.153841e6</td><td>2.2474e6</td><td>&quot;0&quot;</td><td>&quot;A consultar&quot;</td><td>&quot;Carlos Revenga…</td><td>null</td><td>null</td><td>null</td><td>null</td><td>null</td><td>&quot;15620&quot;</td><td>6931.9217</td><td>&quot;RESI&quot;</td><td>&quot;NA&quot;</td><td>&quot;NA&quot;</td><td>&quot;NA&quot;</td><td>&quot;no&quot;</td><td>&quot;DISPONIBLE COM…</td><td>null</td><td>&quot;PARTE INDIVISA…</td><td>null</td><td>null</td><td>null</td><td>null</td><td>null</td><td>null</td><td>null</td><td>null</td><td>null</td><td>&quot;condicionado a…</td><td>&quot;Nos encontramo…</td><td>null</td><td>&quot;VENDER&quot;</td><td>&quot;API&quot;</td><td>null</td><td>&quot;N:\\CoralHudson…</td><td>&quot;220401_MurgaPr…</td><td>&quot;Success&quot;</td><td>null</td><td>&quot;[6072835, 6072…</td><td>&quot;6072836&quot;</td><td>&quot;[60456492, 604…</td><td>&quot;[&#x27;EDIFICIO OFI…</td><td>&quot;[&#x27;POLIGONO IND…</td><td>&quot;[&#x27;POL. IND. DE…</td></tr><tr><td>1468</td><td>&quot;5472227&quot;</td><td>null</td><td>225000.0</td><td>355160.0</td><td>&quot;0&quot;</td><td>&quot;A consultar &quot;</td><td>&quot;Fernando Ibañe…</td><td>null</td><td>null</td><td>null</td><td>null</td><td>null</td><td>null</td><td>327.0</td><td>&quot;RESI&quot;</td><td>&quot;NA&quot;</td><td>&quot;NA&quot;</td><td>&quot;NA&quot;</td><td>&quot;NA&quot;</td><td>&quot;DISPONIBLE COM…</td><td>null</td><td>&quot;LIBRE CON POSE…</td><td>null</td><td>null</td><td>null</td><td>null</td><td>null</td><td>null</td><td>null</td><td>0.1</td><td>0.9</td><td>&quot;10% arras a lo…</td><td>&quot;Obra en curso …</td><td>null</td><td>&quot;VENDER&quot;</td><td>&quot;API&quot;</td><td>null</td><td>&quot;N:\\CoralHudson…</td><td>&quot;220404_WIP_ Pr…</td><td>&quot;Success&quot;</td><td>null</td><td>&quot;6076217&quot;</td><td>&quot;6113772&quot;</td><td>&quot;[60478868, 604…</td><td>&quot;[&#x27;LOCAL&#x27;, &#x27;VIV…</td><td>&quot;[&#x27;CL. JABONERI…</td><td>&quot;VENTA&quot;</td></tr><tr><td>1469</td><td>&quot;5472543&quot;</td><td>null</td><td>4e6</td><td>4.49008e6</td><td>&quot;0&quot;</td><td>&quot;No publicado&quot;</td><td>&quot;JORGE TARIFA E…</td><td>null</td><td>null</td><td>null</td><td>null</td><td>null</td><td>null</td><td>3020.09</td><td>&quot;RESI&quot;</td><td>&quot;NA&quot;</td><td>&quot;NA&quot;</td><td>&quot;NA&quot;</td><td>&quot;NA&quot;</td><td>&quot;DISPONIBLE COM…</td><td>null</td><td>&quot;REVISADA ENTRE…</td><td>null</td><td>null</td><td>null</td><td>null</td><td>null</td><td>null</td><td>&quot;SI&quot;</td><td>0.3</td><td>0.7</td><td>&quot;CP final de ab…</td><td>&quot;Promoción de 1…</td><td>null</td><td>&quot;VENDER&quot;</td><td>&quot;API&quot;</td><td>null</td><td>&quot;N:\\CoralHudson…</td><td>&quot;220404_WIP_607…</td><td>&quot;Success&quot;</td><td>null</td><td>&quot;6073011&quot;</td><td>&quot;6073012&quot;</td><td>&quot;[60457215, 604…</td><td>&quot;VIVIENDA&quot;</td><td>&quot;[&#x27;PLAN PARCIAL…</td><td>&quot;VENTA&quot;</td></tr><tr><td>1471</td><td>&quot;5460013&quot;</td><td>null</td><td>250000.0</td><td>592126.89</td><td>&quot;0&quot;</td><td>&quot;A consultar&quot;</td><td>&quot;Sara Saigí Bar…</td><td>null</td><td>null</td><td>null</td><td>null</td><td>null</td><td>null</td><td>578.79</td><td>&quot;RESI&quot;</td><td>&quot;NA&quot;</td><td>&quot;NA&quot;</td><td>&quot;NA&quot;</td><td>&quot;NA&quot;</td><td>&quot;DISPONIBLE COM…</td><td>null</td><td>&quot;LIBRE CON POSE…</td><td>null</td><td>null</td><td>null</td><td>null</td><td>null</td><td>null</td><td>null</td><td>null</td><td>1.0</td><td>&quot;Forma de Pago:…</td><td>&quot;Edificio pluri…</td><td>null</td><td>&quot;VENDER&quot;</td><td>&quot;API&quot;</td><td>null</td><td>&quot;N:\\CoralHudson…</td><td>&quot;220406_WIP_ 60…</td><td>&quot;Success&quot;</td><td>null</td><td>&quot;6075385&quot;</td><td>&quot;6075386&quot;</td><td>&quot;[60473016, 604…</td><td>&quot;[&#x27;LOCAL&#x27;, &#x27;PLA…</td><td>&quot;[&#x27;CTRA. GENERA…</td><td>null</td></tr><tr><td>1472</td><td>&quot;5460013&quot;</td><td>null</td><td>525000.0</td><td>583783.67</td><td>&quot;0&quot;</td><td>&quot;A Consultar&quot;</td><td>&quot;Julia Abadin &quot;</td><td>null</td><td>null</td><td>null</td><td>null</td><td>null</td><td>&quot;9412.24&quot;</td><td>2143.82</td><td>&quot;RESI&quot;</td><td>&quot;NA&quot;</td><td>&quot;NA&quot;</td><td>&quot;NA&quot;</td><td>&quot;NA&quot;</td><td>&quot;DISPONIBLE COM…</td><td>null</td><td>&quot;LIBRE CON POSE…</td><td>null</td><td>null</td><td>null</td><td>null</td><td>null</td><td>null</td><td>null</td><td>0.1</td><td>null</td><td>null</td><td>&quot;La finca tiene…</td><td>null</td><td>&quot;VENDER&quot;</td><td>&quot;KXA&quot;</td><td>null</td><td>&quot;N:\\CoralHudson…</td><td>&quot;60513529_CH_PU…</td><td>&quot;Success&quot;</td><td>null</td><td>&quot;6079256&quot;</td><td>null</td><td>&quot;60513529&quot;</td><td>&quot;TERRENO URBANO…</td><td>&quot;AV. PORTUS GAD…</td><td>null</td></tr><tr><td>1473</td><td>&quot;5473800&quot;</td><td>null</td><td>300000.0</td><td>603568.45</td><td>null</td><td>&quot;A consultar&quot;</td><td>&quot;Paula Piedrahi…</td><td>null</td><td>null</td><td>null</td><td>null</td><td>null</td><td>&quot;1396&quot;</td><td>1643.54</td><td>&quot;RESI&quot;</td><td>&quot;NA&quot;</td><td>&quot;NA&quot;</td><td>&quot;NA&quot;</td><td>&quot;NA&quot;</td><td>&quot;DISPONIBLE COM…</td><td>null</td><td>&quot;LIBRE POSESIÓN…</td><td>null</td><td>null</td><td>null</td><td>null</td><td>null</td><td>null</td><td>null</td><td>null</td><td>1.0</td><td>&quot;EP DIRECTA&quot;</td><td>&quot;Solar finalist…</td><td>null</td><td>&quot;VENDER&quot;</td><td>&quot;KXA&quot;</td><td>null</td><td>&quot;N:\\CoralHudson…</td><td>&quot;20220411_Solar…</td><td>&quot;Success&quot;</td><td>null</td><td>&quot;6077468&quot;</td><td>null</td><td>&quot;60487901&quot;</td><td>&quot;TERRENO URBANO…</td><td>&quot;AV. AMPOSTA, N…</td><td>&quot;2 TERRENOS EN …</td></tr><tr><td>1474</td><td>&quot;5473635&quot;</td><td>null</td><td>725000.0</td><td>1.1345e6</td><td>&quot;0&quot;</td><td>&quot;A Consultar&quot;</td><td>&quot;Jorge Chico&quot;</td><td>null</td><td>null</td><td>null</td><td>null</td><td>null</td><td>&quot;3928&quot;</td><td>2984.0</td><td>&quot;OFICINAS&quot;</td><td>&quot;NA&quot;</td><td>&quot;NA&quot;</td><td>&quot;NA&quot;</td><td>&quot;NA&quot;</td><td>&quot;DISPONIBLE COM…</td><td>null</td><td>&quot;REOCUPADO&quot;</td><td>null</td><td>null</td><td>null</td><td>null</td><td>null</td><td>null</td><td>&quot;NO&quot;</td><td>null</td><td>null</td><td>&quot;FORMA DE PAGO …</td><td>&quot;Solar urbano c…</td><td>null</td><td>&quot;VENDER&quot;</td><td>&quot;API&quot;</td><td>null</td><td>&quot;N:\\CoralHudson…</td><td>&quot;20220411_Suelo…</td><td>&quot;Success&quot;</td><td>null</td><td>null</td><td>null</td><td>&quot;60494442&quot;</td><td>&quot;TERRENO URBANO…</td><td>&quot;CL. ROSA DE LI…</td><td>&quot;NO SINTÉTICA&quot;</td></tr><tr><td>1475</td><td>&quot;5460013&quot;</td><td>null</td><td>550000.0</td><td>1.0204e6</td><td>&quot;700000&quot;</td><td>&quot;n/a&quot;</td><td>&quot;Sara Saigí Bar…</td><td>null</td><td>null</td><td>null</td><td>null</td><td>null</td><td>&quot;1020&quot;</td><td>939.0</td><td>&quot;RESI&quot;</td><td>&quot;NA&quot;</td><td>&quot;NA&quot;</td><td>&quot;NA&quot;</td><td>&quot;NA&quot;</td><td>&quot;NO DISPONIBLE …</td><td>null</td><td>&quot;DENEGADA POSES…</td><td>null</td><td>null</td><td>null</td><td>null</td><td>null</td><td>null</td><td>&quot;No&quot;</td><td>null</td><td>1.0</td><td>&quot;Forma de Pago:…</td><td>&quot;La Jaca es un …</td><td>null</td><td>&quot;VENDER&quot;</td><td>&quot;API&quot;</td><td>null</td><td>&quot;N:\\CoralHudson…</td><td>&quot;20220411_WIP_ …</td><td>&quot;Success&quot;</td><td>null</td><td>&quot;6081501&quot;</td><td>&quot;6081502&quot;</td><td>&quot;[60516496, 605…</td><td>&quot;VIVIENDA&quot;</td><td>&quot;[&#x27;CL. DRAGO, N…</td><td>null</td></tr><tr><td>1478</td><td>&quot;5473854&quot;</td><td>null</td><td>1.45e6</td><td>956040.15</td><td>&quot;0&quot;</td><td>&quot;A consultar&quot;</td><td>&quot;JULIA ABADIN&quot;</td><td>null</td><td>null</td><td>null</td><td>null</td><td>null</td><td>&quot;13522&quot;</td><td>4733.0</td><td>&quot;RESI&quot;</td><td>&quot;NA&quot;</td><td>&quot;NA&quot;</td><td>&quot;NA&quot;</td><td>&quot;NA&quot;</td><td>&quot;DISPONIBLE COM…</td><td>null</td><td>&quot;LIBRE CON POSE…</td><td>null</td><td>null</td><td>null</td><td>null</td><td>null</td><td>null</td><td>null</td><td>0.05</td><td>null</td><td>&quot;5% arras, firm…</td><td>&quot;Suelo urbano n…</td><td>null</td><td>&quot;VENDER&quot;</td><td>&quot;SVH&quot;</td><td>null</td><td>&quot;N:\\CoralHudson…</td><td>&quot;20220413_Suelo…</td><td>&quot;Success&quot;</td><td>null</td><td>null</td><td>null</td><td>&quot;60525978&quot;</td><td>&quot;TERRENO URBANO…</td><td>&quot;URB. SOTOGRAND…</td><td>&quot;VENTA&quot;</td></tr><tr><td>1480</td><td>&quot;5473991&quot;</td><td>null</td><td>195000.0</td><td>312981.59</td><td>&quot;0&quot;</td><td>&quot;NO&quot;</td><td>&quot;JORGE TARIFA E…</td><td>null</td><td>null</td><td>null</td><td>null</td><td>null</td><td>&quot;9640&quot;</td><td>3121.0</td><td>&quot;RESI&quot;</td><td>&quot;SI&quot;</td><td>&quot;NO&quot;</td><td>&quot;NO&quot;</td><td>&quot;NO&quot;</td><td>&quot;DISPONIBLE COM…</td><td>null</td><td>&quot;LIBRE CON POSE…</td><td>null</td><td>null</td><td>null</td><td>null</td><td>null</td><td>null</td><td>&quot;NO&quot;</td><td>0.1</td><td>0.9</td><td>&quot;Arras del 10 %…</td><td>&quot;Finca ubicada …</td><td>null</td><td>&quot;VENDER&quot;</td><td>&quot;KXA&quot;</td><td>null</td><td>&quot;N:\\CoralHudson…</td><td>&quot;20220418_60504…</td><td>&quot;Success&quot;</td><td>null</td><td>null</td><td>null</td><td>&quot;60504813&quot;</td><td>&quot;SUELO URBANIZA…</td><td>&quot;STR. POLIGONO …</td><td>&quot;VENTA&quot;</td></tr><tr><td>1481</td><td>&quot;5474030&quot;</td><td>null</td><td>700000.0</td><td>1.494e6</td><td>&quot;0&quot;</td><td>&quot;NO&quot;</td><td>&quot;JORGE TARIFA E…</td><td>null</td><td>null</td><td>null</td><td>null</td><td>null</td><td>&quot;3884&quot;</td><td>4660.0</td><td>&quot;RESI&quot;</td><td>&quot;SI&quot;</td><td>&quot;SI&quot;</td><td>&quot;SI&quot;</td><td>&quot;SI&quot;</td><td>&quot;DISPONIBLE COM…</td><td>null</td><td>&quot;LIBRE CON POSE…</td><td>null</td><td>null</td><td>null</td><td>null</td><td>null</td><td>null</td><td>&quot;NO&quot;</td><td>0.0</td><td>1.0</td><td>&quot;EP Directa, 30…</td><td>&quot;Parcela de sue…</td><td>null</td><td>&quot;VENDER&quot;</td><td>&quot;SVH&quot;</td><td>null</td><td>&quot;N:\\CoralHudson…</td><td>&quot;20220418_60510…</td><td>&quot;Success&quot;</td><td>null</td><td>null</td><td>null</td><td>&quot;60510721&quot;</td><td>&quot;TERRENO URBANO…</td><td>&quot;CL. COLEO URB.…</td><td>&quot;VENTA&quot;</td></tr><tr><td>&hellip;</td><td>&hellip;</td><td>&hellip;</td><td>&hellip;</td><td>&hellip;</td><td>&hellip;</td><td>&hellip;</td><td>&hellip;</td><td>&hellip;</td><td>&hellip;</td><td>&hellip;</td><td>&hellip;</td><td>&hellip;</td><td>&hellip;</td><td>&hellip;</td><td>&hellip;</td><td>&hellip;</td><td>&hellip;</td><td>&hellip;</td><td>&hellip;</td><td>&hellip;</td><td>&hellip;</td><td>&hellip;</td><td>&hellip;</td><td>&hellip;</td><td>&hellip;</td><td>&hellip;</td><td>&hellip;</td><td>&hellip;</td><td>&hellip;</td><td>&hellip;</td><td>&hellip;</td><td>&hellip;</td><td>&hellip;</td><td>&hellip;</td><td>&hellip;</td><td>&hellip;</td><td>&hellip;</td><td>&hellip;</td><td>&hellip;</td><td>&hellip;</td><td>&hellip;</td><td>&hellip;</td><td>&hellip;</td><td>&hellip;</td><td>&hellip;</td><td>&hellip;</td><td>&hellip;</td></tr><tr><td>2418</td><td>&quot;5560577&quot;</td><td>&quot;2023-10-03 00:…</td><td>1.05e6</td><td>1742949.6</td><td>&quot;0&quot;</td><td>&quot;AC&quot;</td><td>&quot;CARLOS MORIÑIG…</td><td>&quot;V&quot;</td><td>&quot;SI&quot;</td><td>null</td><td>&quot;NO&quot;</td><td>&quot;SI&quot;</td><td>null</td><td>3557.0</td><td>&quot;INDUSTRIAL&quot;</td><td>&quot;NA&quot;</td><td>&quot;NA&quot;</td><td>&quot;NA&quot;</td><td>&quot;NA&quot;</td><td>&quot;NO DISPONIBLE …</td><td>null</td><td>&quot;DENEGADA POSES…</td><td>&quot;SPANIT 14 INVE…</td><td>null</td><td>&quot;B44542330\n",
       "Dato…</td><td>&quot;689683659&quot;</td><td>&quot;administracion…</td><td>&quot;C ELVIRA MADRI…</td><td>null</td><td>null</td><td>1.0</td><td>null</td><td>&quot;Nave industria…</td><td>null</td><td>&quot;VENDER&quot;</td><td>&quot;API&quot;</td><td>null</td><td>&quot;N:\\CoralHudson…</td><td>&quot;20231024_OF 55…</td><td>&quot;Success&quot;</td><td>null</td><td>null</td><td>null</td><td>&quot;60528353&quot;</td><td>&quot;NAVE INDUSTRIA…</td><td>&quot;CL. SAN NORBER…</td><td>null</td></tr><tr><td>2440</td><td>&quot;5563384&quot;</td><td>&quot;2023-10-26 00:…</td><td>185000.0</td><td>562126.01</td><td>&quot;0&quot;</td><td>&quot;A/C&quot;</td><td>&quot;CARLOS MORIÑIG…</td><td>&quot;C &quot;</td><td>&quot;SI&quot;</td><td>null</td><td>&quot;NO&quot;</td><td>&quot;SI&quot;</td><td>&quot;409&quot;</td><td>5981.0</td><td>&quot;RESI&quot;</td><td>&quot;NA&quot;</td><td>&quot;NA&quot;</td><td>&quot;NA&quot;</td><td>&quot;NA&quot;</td><td>&quot;DISPONIBLE COM…</td><td>null</td><td>&quot;REVISADA ENTRE…</td><td>&quot;JEOVENT S.L&quot;</td><td>null</td><td>&quot;B87026860\n",
       "B868…</td><td>&quot;600803356&quot;</td><td>&quot;JEOVENT@GMAIL.…</td><td>&quot;C/ DE LOS CAST…</td><td>null</td><td>null</td><td>1.0</td><td>null</td><td>&quot;Conjunto resid…</td><td>null</td><td>&quot;VENDER&quot;</td><td>&quot;API&quot;</td><td>null</td><td>&quot;N:\\CoralHudson…</td><td>&quot;20231026_OF 55…</td><td>&quot;Success&quot;</td><td>null</td><td>&quot;6079697&quot;</td><td>&quot;6079698&quot;</td><td>&quot;[60503687, 605…</td><td>&quot;VIVIENDA&quot;</td><td>&quot;[&#x27;CL. TALAVERA…</td><td>null</td></tr><tr><td>2449</td><td>&quot;5563837&quot;</td><td>&quot;2023-10-26 00:…</td><td>600000.0</td><td>646708.08</td><td>&quot;0&quot;</td><td>&quot;A/C&quot;</td><td>&quot;CARLOS MORIÑIG…</td><td>&quot;C &quot;</td><td>&quot;SI&quot;</td><td>null</td><td>&quot;NO&quot;</td><td>&quot;SI&quot;</td><td>&quot;607&quot;</td><td>1878.0</td><td>&quot;RESI&quot;</td><td>&quot;NA&quot;</td><td>&quot;NA&quot;</td><td>&quot;NA&quot;</td><td>&quot;NA&quot;</td><td>&quot;DISPONIBLE COM…</td><td>null</td><td>&quot;LIBRE CON POSE…</td><td>&quot;CROWDINVEST ZG…</td><td>null</td><td>&quot;B99518227&quot;</td><td>&quot;933025292&quot;</td><td>&quot;cabadias@fbman…</td><td>&quot;Plaza San Migu…</td><td>null</td><td>null</td><td>1.0</td><td>null</td><td>&quot;Parcela situad…</td><td>null</td><td>&quot;VENDER&quot;</td><td>&quot;RED CAIXA&quot;</td><td>null</td><td>&quot;N:\\CoralHudson…</td><td>&quot;20231027_OF 55…</td><td>&quot;Success&quot;</td><td>null</td><td>&quot;6083871&quot;</td><td>null</td><td>&quot;60534903&quot;</td><td>&quot;TERRENO URBANO…</td><td>&quot;AREA F-57-8, P…</td><td>null</td></tr><tr><td>2480</td><td>&quot;5564474&quot;</td><td>&quot;2023-09-24 00:…</td><td>100000.0</td><td>501848.9</td><td>&quot;300000&quot;</td><td>&quot;A/C&quot;</td><td>&quot;CARLOS MORIÑIG…</td><td>&quot;C &quot;</td><td>&quot;SI&quot;</td><td>null</td><td>&quot;NO&quot;</td><td>&quot;SI&quot;</td><td>&quot;651&quot;</td><td>1582.0</td><td>&quot;RESI&quot;</td><td>&quot;NA&quot;</td><td>&quot;NA&quot;</td><td>&quot;NA&quot;</td><td>&quot;NA&quot;</td><td>&quot;DISPONIBLE COM…</td><td>null</td><td>&quot;CONTRATO ARREN…</td><td>&quot;\t\n",
       "Talleres Fer…</td><td>null</td><td>&quot;A78605102&quot;</td><td>&quot;914152106&quot;</td><td>&quot;talleresanagus…</td><td>&quot;SAN AGUSTIN 3 …</td><td>null</td><td>null</td><td>1.0</td><td>null</td><td>&quot;Parcela de sue…</td><td>null</td><td>&quot;CONTRAOFERTAR&quot;</td><td>&quot;API&quot;</td><td>null</td><td>&quot;N:\\CoralHudson…</td><td>&quot;20231102_OF 55…</td><td>&quot;Success&quot;</td><td>null</td><td>null</td><td>null</td><td>&quot;60533613&quot;</td><td>&quot;TERRENO URBANO…</td><td>&quot;CL. SAN AGUSTI…</td><td>null</td></tr><tr><td>2508</td><td>&quot;5564485&quot;</td><td>&quot;2023-11-03 00:…</td><td>180000.0</td><td>489498.8</td><td>&quot;0&quot;</td><td>&quot;A consultar&quot;</td><td>&quot;Yurena Luis &quot;</td><td>&quot;B&quot;</td><td>&quot;Medico Traumat…</td><td>&quot;SI&quot;</td><td>&quot;NO&quot;</td><td>&quot;SI&quot;</td><td>&quot;228&quot;</td><td>670.9</td><td>null</td><td>&quot;NA&quot;</td><td>&quot;NA&quot;</td><td>&quot;NA&quot;</td><td>&quot;NA&quot;</td><td>&quot;DISPONIBLE COM…</td><td>null</td><td>&quot;VERTICAL&quot;</td><td>&quot;CESAR ANDARCIA…</td><td>null</td><td>&quot;79071499Y&quot;</td><td>&quot;628651634&quot;</td><td>&quot;candarciab@gma…</td><td>&quot;C/Tenesor 14, …</td><td>null</td><td>0.0</td><td>1.0</td><td>&quot;80% Financiaci…</td><td>&quot;Edificio pluri…</td><td>null</td><td>&quot;CONTRAOFERTAR&quot;</td><td>&quot;API&quot;</td><td>null</td><td>&quot;N:\\CoralHudson…</td><td>&quot;20231116_OF 55…</td><td>&quot;Success&quot;</td><td>null</td><td>&quot;6074506&quot;</td><td>null</td><td>&quot;60466659&quot;</td><td>&quot;EDIFICIO&quot;</td><td>&quot;CL. VIOLETA, N…</td><td>null</td></tr><tr><td>2509</td><td>&quot;5565232&quot;</td><td>&quot;2023-11-09 00:…</td><td>205000.0</td><td>489498.8</td><td>&quot;0&quot;</td><td>&quot;A consultar&quot;</td><td>&quot;Yurena Luis &quot;</td><td>&quot;B&quot;</td><td>&quot;Cliente españo…</td><td>&quot;SI&quot;</td><td>&quot;NO&quot;</td><td>&quot;SI&quot;</td><td>&quot;228&quot;</td><td>670.9</td><td>null</td><td>&quot;NA&quot;</td><td>&quot;NA&quot;</td><td>&quot;NA&quot;</td><td>&quot;NA&quot;</td><td>&quot;DISPONIBLE COM…</td><td>null</td><td>&quot;VERTICAL&quot;</td><td>&quot;ALEJANDRO RAUL…</td><td>null</td><td>&quot;71635933H&quot;</td><td>&quot;646 77 76 41&quot;</td><td>&quot;AMIRANDAB@ALUM…</td><td>&quot; C.Pasaje Parq…</td><td>null</td><td>0.0</td><td>1.0</td><td>&quot;100% Fondos pr…</td><td>&quot;Edificio pluri…</td><td>null</td><td>&quot;VENDER&quot;</td><td>&quot;API&quot;</td><td>null</td><td>&quot;N:\\CoralHudson…</td><td>&quot;20231116_OF 55…</td><td>&quot;Success&quot;</td><td>null</td><td>&quot;6074506&quot;</td><td>null</td><td>&quot;60466659&quot;</td><td>&quot;EDIFICIO&quot;</td><td>&quot;CL. VIOLETA, N…</td><td>null</td></tr><tr><td>2536</td><td>&quot;5567501&quot;</td><td>&quot;2023-11-22 00:…</td><td>290000.0</td><td>0.0</td><td>&quot;0&quot;</td><td>&quot;Precio a consu…</td><td>&quot;CARLOS MORIÑIG…</td><td>&quot;B&quot;</td><td>&quot;SI&quot;</td><td>null</td><td>&quot;NO&quot;</td><td>&quot;SI&quot;</td><td>null</td><td>575.0</td><td>&quot;RESI&quot;</td><td>&quot;NA&quot;</td><td>&quot;NA&quot;</td><td>&quot;NA&quot;</td><td>&quot;NA&quot;</td><td>&quot;0&quot;</td><td>null</td><td>&quot;301.05&quot;</td><td>&quot;MIGUEL ANGEL A…</td><td>null</td><td>&quot;72988278D&quot;</td><td>&quot;678490211&quot;</td><td>&quot;m3guel@hotmail…</td><td>&quot;Calle Rambla 1…</td><td>null</td><td>0.1</td><td>null</td><td>&quot;. FONDOS PROPI…</td><td>&quot;Conjunto de 2 …</td><td>null</td><td>&quot;VENDER&quot;</td><td>&quot;API&quot;</td><td>null</td><td>&quot;N:\\CoralHudson…</td><td>&quot;20231201_OF_55…</td><td>&quot;Success&quot;</td><td>null</td><td>&quot;6079299&quot;</td><td>&quot;[6079300, 6138…</td><td>&quot;[60501261, 605…</td><td>&quot;VIVIENDA&quot;</td><td>&quot;[&#x27;CL. PALMERAS…</td><td>null</td></tr><tr><td>2562</td><td>&quot;5568174&quot;</td><td>&quot;2023-11-23 00:…</td><td>1.5e6</td><td>3.7084e6</td><td>&quot;0&quot;</td><td>&quot;AC&quot;</td><td>&quot;CARLOS MORIÑIG…</td><td>&quot;C &quot;</td><td>&quot;SI&quot;</td><td>null</td><td>&quot;SI&quot;</td><td>&quot;SI&quot;</td><td>null</td><td>19469.0</td><td>&quot;RESI&quot;</td><td>&quot;NA&quot;</td><td>&quot;NA&quot;</td><td>&quot;NA&quot;</td><td>&quot;NA&quot;</td><td>&quot;DISPONIBLE COM…</td><td>null</td><td>&quot;LIBRE CON POSE…</td><td>&quot;SANTANA. 54-23…</td><td>null</td><td>&quot;03904414A&quot;</td><td>&quot;698541013&quot;</td><td>&quot;JLOPEZ@FUSIONE…</td><td>&quot;SANTA ANNA 54 …</td><td>null</td><td>null</td><td>0.9</td><td>null</td><td>&quot;105 viviendas …</td><td>null</td><td>&quot;VENDER&quot;</td><td>&quot;SERVIHABITAT&quot;</td><td>null</td><td>&quot;N:\\CoralHudson…</td><td>&quot;20231213_OF 55…</td><td>&quot;Success&quot;</td><td>null</td><td>&quot;6072539&quot;</td><td>&quot;6072540&quot;</td><td>&quot;[47835619, 604…</td><td>&quot;VIVIENDA&quot;</td><td>&quot;[&#x27;STR. APR-19 …</td><td>null</td></tr><tr><td>2563</td><td>&quot;5569440&quot;</td><td>&quot;2023-12-05 00:…</td><td>675000.0</td><td>2.9673e6</td><td>&quot;0&quot;</td><td>&quot;A/C&quot;</td><td>&quot;CARLOS MORIÑIG…</td><td>&quot;C &quot;</td><td>&quot;SI&quot;</td><td>null</td><td>&quot;SI&quot;</td><td>&quot;SI&quot;</td><td>null</td><td>1255.0</td><td>&quot;RESI&quot;</td><td>&quot;NA&quot;</td><td>&quot;NA&quot;</td><td>&quot;NA&quot;</td><td>&quot;NA&quot;</td><td>&quot;DISPONIBLE COM…</td><td>null</td><td>&quot;LIBRE CON POSE…</td><td>&quot;JOMA SPORT, S.…</td><td>null</td><td>&quot;A45015872&quot;</td><td>&quot;609008394&quot;</td><td>&quot;josemanuel@jom…</td><td>&quot;C RAMON Y CAJA…</td><td>null</td><td>null</td><td>1.0</td><td>null</td><td>&quot; Edificio mixt…</td><td>null</td><td>&quot;VENDER&quot;</td><td>&quot;RED CAIXA&quot;</td><td>null</td><td>&quot;N:\\CoralHudson…</td><td>&quot;20231213_OF 55…</td><td>&quot;Success&quot;</td><td>null</td><td>&quot;6077662&quot;</td><td>&quot;6074245&quot;</td><td>&quot;[49876136, 604…</td><td>&quot;[&#x27;LOCAL&#x27;, &#x27;OFI…</td><td>&quot;[&#x27;CL. INSTITUT…</td><td>null</td></tr><tr><td>2565</td><td>&quot;5568169&quot;</td><td>&quot;2023-11-23 00:…</td><td>800000.0</td><td>2.0596e6</td><td>&quot;0&quot;</td><td>&quot;AC&quot;</td><td>&quot;CARLOS MORIÑIG…</td><td>&quot;C &quot;</td><td>&quot;SI&quot;</td><td>null</td><td>&quot;SI&quot;</td><td>&quot;SI&quot;</td><td>null</td><td>19469.0</td><td>&quot;RESI&quot;</td><td>&quot;NA&quot;</td><td>&quot;NA&quot;</td><td>&quot;NA&quot;</td><td>&quot;NA&quot;</td><td>&quot;DISPONIBLE COM…</td><td>null</td><td>&quot;LIBRE CON POSE…</td><td>&quot;SANTANA. 54-23…</td><td>null</td><td>&quot;03904414A&quot;</td><td>&quot;698541013&quot;</td><td>&quot;JLOPEZ@FUSIONE…</td><td>&quot;SANTA ANNA 54 …</td><td>null</td><td>null</td><td>1.0</td><td>null</td><td>&quot;Promoción de v…</td><td>null</td><td>&quot;VENDER&quot;</td><td>&quot;SERVIHABITAT&quot;</td><td>null</td><td>&quot;N:\\CoralHudson…</td><td>&quot;20231214_OF 55…</td><td>&quot;Success&quot;</td><td>null</td><td>&quot;6074979&quot;</td><td>&quot;6113804&quot;</td><td>&quot;[59619432, 604…</td><td>&quot;[&#x27;VARIOS&#x27;, &#x27;VI…</td><td>&quot;[&#x27;PARCELA 1, M…</td><td>null</td></tr><tr><td>2585</td><td>&quot;5550478&quot;</td><td>&quot;2023-11-24 00:…</td><td>800000.0</td><td>1307539.6</td><td>&quot;0&quot;</td><td>&quot;AC&quot;</td><td>&quot;CARLOS MORIÑIG…</td><td>&quot;C &quot;</td><td>&quot;SI&quot;</td><td>null</td><td>&quot;NO&quot;</td><td>&quot;SI&quot;</td><td>&quot;61845&quot;</td><td>24214.0</td><td>&quot;RESI&quot;</td><td>&quot;NA&quot;</td><td>&quot;NA&quot;</td><td>&quot;NA&quot;</td><td>&quot;NA&quot;</td><td>&quot;DISPONIBLE COM…</td><td>null</td><td>&quot;REVISADA ENTRE…</td><td>&quot;DANIEL IGNACIO…</td><td>null</td><td>&quot;17727392G&quot;</td><td>&quot;650967221&quot;</td><td>&quot;comunidades@gr…</td><td>&quot;\t\n",
       "Marcelino Al…</td><td>null</td><td>null</td><td>1.0</td><td>null</td><td>&quot;50 parcelas de…</td><td>null</td><td>&quot;VENDER&quot;</td><td>&quot;SERVIHABITAT&quot;</td><td>null</td><td>&quot;N:\\CoralHudson…</td><td>&quot;20231218_OF 55…</td><td>&quot;Success&quot;</td><td>null</td><td>&quot;6072531&quot;</td><td>&quot;6072532&quot;</td><td>&quot;[24247517, 604…</td><td>&quot;SUELO URBANIZA…</td><td>&quot;[&#x27;PARCELA 133&#x27;…</td><td>null</td></tr><tr><td>2595</td><td>&quot;5570649&quot;</td><td>&quot;2023-12-18 00:…</td><td>900000.0</td><td>2.1218e6</td><td>&quot;0&quot;</td><td>&quot;A consultar&quot;</td><td>&quot;Yurena Luis &quot;</td><td>&quot;A &quot;</td><td>&quot;Cliente invers…</td><td>null</td><td>&quot;SI&quot;</td><td>&quot;SI&quot;</td><td>&quot;11170&quot;</td><td>4468.0</td><td>&quot;RESI&quot;</td><td>&quot;NA&quot;</td><td>&quot;NA&quot;</td><td>&quot;NA&quot;</td><td>&quot;NA&quot;</td><td>&quot;DISPONIBLE COM…</td><td>null</td><td>&quot;LIBRE CON POSE…</td><td>&quot;GESTORA DE INM…</td><td>null</td><td>&quot;B56405640&quot;</td><td>&quot;922 38 60 39&quot;</td><td>&quot;922386039@SINM…</td><td>&quot;Flor de Pascua…</td><td>null</td><td>null</td><td>null</td><td>&quot;100% Fondos EP…</td><td>&quot;Parcela M16 de…</td><td>null</td><td>&quot;VENDER&quot;</td><td>&quot;API&quot;</td><td>null</td><td>&quot;N:\\CoralHudson…</td><td>&quot;20231220_OF_55…</td><td>&quot;Success&quot;</td><td>null</td><td>&quot;6077152&quot;</td><td>null</td><td>&quot;60485454&quot;</td><td>&quot;INVERSIONES&quot;</td><td>&quot;CL. SABINILLA …</td><td>null</td></tr></tbody></table></div>"
      ],
      "text/plain": [
       "shape: (367, 48)\n",
       "┌──────┬──────────┬────────────┬────────────┬───┬────────────┬────────────┬────────────┬───────────┐\n",
       "│      ┆ offer_id ┆ offer_date ┆ offer_pric ┆ … ┆ unique_urs ┆ asset_type ┆ address    ┆ asset_loc │\n",
       "│ ---  ┆ ---      ┆ ---        ┆ e          ┆   ┆ ---        ┆ ---        ┆ ---        ┆ ation     │\n",
       "│ i64  ┆ str      ┆ str        ┆ ---        ┆   ┆ str        ┆ str        ┆ str        ┆ ---       │\n",
       "│      ┆          ┆            ┆ f64        ┆   ┆            ┆            ┆            ┆ str       │\n",
       "╞══════╪══════════╪════════════╪════════════╪═══╪════════════╪════════════╪════════════╪═══════════╡\n",
       "│ 1379 ┆ 5480102  ┆ null       ┆ 1e6        ┆ … ┆ 60502708   ┆ EDIFICIO   ┆ CL. FERIA, ┆ PENDIENTE │\n",
       "│      ┆          ┆            ┆            ┆   ┆            ┆ VIVIENDA   ┆ N.16       ┆ DE        │\n",
       "│      ┆          ┆            ┆            ┆   ┆            ┆            ┆            ┆ ESTUDIO   │\n",
       "│ 1465 ┆ 5472183  ┆ null       ┆ 1.153841e6 ┆ … ┆ [60456492, ┆ ['EDIFICIO ┆ ['POLIGONO ┆ ['POL.    │\n",
       "│      ┆          ┆            ┆            ┆   ┆ 60456539]  ┆ OFICINAS', ┆ INDUSTRILA ┆ IND. DE   │\n",
       "│      ┆          ┆            ┆            ┆   ┆            ┆ 'NAVE      ┆ DE         ┆ MURGA     │\n",
       "│      ┆          ┆            ┆            ┆   ┆            ┆ INDU…      ┆ MURGA',…   ┆ FINCA     │\n",
       "│      ┆          ┆            ┆            ┆   ┆            ┆            ┆            ┆ 16419…    │\n",
       "│ 1468 ┆ 5472227  ┆ null       ┆ 225000.0   ┆ … ┆ [60478868, ┆ ['LOCAL',  ┆ ['CL. JABO ┆ VENTA     │\n",
       "│      ┆          ┆            ┆            ┆   ┆ 60478879,  ┆ 'VIVIENDA' ┆ NERIAS,    ┆           │\n",
       "│      ┆          ┆            ┆            ┆   ┆ 60478889,  ┆ ]          ┆ N.44,      ┆           │\n",
       "│      ┆          ┆            ┆            ┆   ┆ 6…         ┆            ┆ P.1', 'C…  ┆           │\n",
       "│ 1469 ┆ 5472543  ┆ null       ┆ 4e6        ┆ … ┆ [60457215, ┆ VIVIENDA   ┆ ['PLAN     ┆ VENTA     │\n",
       "│      ┆          ┆            ┆            ┆   ┆ 60457228,  ┆            ┆ PARCIAL    ┆           │\n",
       "│      ┆          ┆            ┆            ┆   ┆ 60457241,  ┆            ┆ SUP S-     ┆           │\n",
       "│      ┆          ┆            ┆            ┆   ┆ 6…         ┆            ┆ CUATRO B,  ┆           │\n",
       "│      ┆          ┆            ┆            ┆   ┆            ┆            ┆ …          ┆           │\n",
       "│ …    ┆ …        ┆ …          ┆ …          ┆ … ┆ …          ┆ …          ┆ …          ┆ …         │\n",
       "│ 2563 ┆ 5569440  ┆ 2023-12-05 ┆ 675000.0   ┆ … ┆ [49876136, ┆ ['LOCAL',  ┆ ['CL.      ┆ null      │\n",
       "│      ┆          ┆ 00:00:00   ┆            ┆   ┆ 60464591,  ┆ 'OFICINA', ┆ INSTITUT0, ┆           │\n",
       "│      ┆          ┆            ┆            ┆   ┆ 60464605,  ┆ 'PLAZA DE  ┆ N.28, E.1, ┆           │\n",
       "│      ┆          ┆            ┆            ┆   ┆ 6…         ┆ P…         ┆ P.3,…      ┆           │\n",
       "│ 2565 ┆ 5568169  ┆ 2023-11-23 ┆ 800000.0   ┆ … ┆ [59619432, ┆ ['VARIOS', ┆ ['PARCELA  ┆ null      │\n",
       "│      ┆          ┆ 00:00:00   ┆            ┆   ┆ 60470143,  ┆ 'VIVIENDA' ┆ 1, MANZANA ┆           │\n",
       "│      ┆          ┆            ┆            ┆   ┆ 60470158,  ┆ ]          ┆ 1, APR-14, ┆           │\n",
       "│      ┆          ┆            ┆            ┆   ┆ 6…         ┆            ┆ …          ┆           │\n",
       "│ 2585 ┆ 5550478  ┆ 2023-11-24 ┆ 800000.0   ┆ … ┆ [24247517, ┆ SUELO URBA ┆ ['PARCELA  ┆ null      │\n",
       "│      ┆          ┆ 00:00:00   ┆            ┆   ┆ 60454771,  ┆ NIZABLE    ┆ 133',      ┆           │\n",
       "│      ┆          ┆            ┆            ┆   ┆ 60485302,  ┆ SECTORIZAD ┆ 'STR. S1', ┆           │\n",
       "│      ┆          ┆            ┆            ┆   ┆ 6…         ┆ O          ┆ 'STR.…     ┆           │\n",
       "│ 2595 ┆ 5570649  ┆ 2023-12-18 ┆ 900000.0   ┆ … ┆ 60485454   ┆ INVERSIONE ┆ CL.        ┆ null      │\n",
       "│      ┆          ┆ 00:00:00   ┆            ┆   ┆            ┆ S          ┆ SABINILLA  ┆           │\n",
       "│      ┆          ┆            ┆            ┆   ┆            ┆            ┆ Y RAPADURA ┆           │\n",
       "│      ┆          ┆            ┆            ┆   ┆            ┆            ┆ - LA QU…   ┆           │\n",
       "└──────┴──────────┴────────────┴────────────┴───┴────────────┴────────────┴────────────┴───────────┘"
      ]
     },
     "execution_count": 20,
     "metadata": {},
     "output_type": "execute_result"
    }
   ],
   "source": [
    "df.filter(~pl.col(\"web_price\").str.contains(r\"[\\d\\.,]\"))"
   ]
  },
  {
   "cell_type": "code",
   "execution_count": 5,
   "metadata": {},
   "outputs": [],
   "source": [
    "from conf.settings import DATABASE_FILE\n",
    "import duckdb\n",
    "\n",
    "query = \"\"\"select column_name, data_type, table_name from information_schema.columns where table_name in ('ws_hist_offers', 'ws_current_offers');\"\"\"\n",
    "\n",
    "with duckdb.connect(DATABASE_FILE.as_posix()) as db:\n",
    "    db.sql(query).df().to_clipboard()"
   ]
  },
  {
   "cell_type": "markdown",
   "metadata": {},
   "source": [
    "# 🐍 USAR PYTHON-CALAMINE!!"
   ]
  },
  {
   "cell_type": "code",
   "execution_count": 1,
   "metadata": {},
   "outputs": [],
   "source": [
    "from python_calamine import CalamineWorkbook\n",
    "import glob\n",
    "import time\n",
    "import os\n",
    "import polars as pl\n",
    "\n",
    "dos_ficheros = [\n",
    "    \"N:/CoralHudson/1. AM/8. Wholesale Channel/Ofertas recibidas SVH/2023/20230210/20230210 OF 5525400 PROMO 60466091 Nave industrial en Arakundiaga.xlsx\",\n",
    "    \"N:/CoralHudson/1. AM/8. Wholesale Channel/Ofertas recibidas SVH/2023/20230707/20230707_OF_5549328_UR_60460925_SUELO_AV.BENEMIS 29 PILES_VALENCIA.xlsx\",\n",
    "]\n",
    "ofertas_random = glob.glob(\n",
    "    \"N:/CoralHudson/1. AM/8. Wholesale Channel/Ofertas recibidas SVH/2024/**/[!~$]*.xlsx\"\n",
    ")"
   ]
  },
  {
   "cell_type": "code",
   "execution_count": 128,
   "metadata": {},
   "outputs": [],
   "source": [
    "# los datos a conseguir/igualar son los siguientes\n",
    "import json\n",
    "\n",
    "with open(\"./conf/xy_offer_labels.json\", \"r\") as rjs:\n",
    "    cnf_raw = rjs.read()\n",
    "conf = json.loads(cnf_raw)"
   ]
  },
  {
   "cell_type": "code",
   "execution_count": 142,
   "metadata": {},
   "outputs": [],
   "source": [
    "from typing import List\n",
    "import re\n",
    "\n",
    "tipos_datos = {\n",
    "    \"offer_id\": pl.Float32,\n",
    "    \"offer_price\": pl.Float32,\n",
    "    \"appraisal_price\": pl.Float32,\n",
    "    \"sap_price\": pl.Float32,\n",
    "    \"web_price\": pl.Float32,\n",
    "    \"due_diligence_percent\": pl.Float32,\n",
    "    \"contract_deposit_percent\": pl.Float32,\n",
    "    \"public_deed_percent\": pl.Float32,\n",
    "    \"land_area\": pl.Float32,\n",
    "    \"buildable_area\": pl.Float32,\n",
    "    \"client_phone\": pl.Float32,\n",
    "}\n",
    "\n",
    "second_pass_cast = {\n",
    "    \"offer_id\": pl.UInt32,\n",
    "    \"client_phone\": pl.UInt64,\n",
    "}\n",
    "\n",
    "\n",
    "def find_shtname_from_pattern(sheet_list: List[str], sheet_pattern: str) -> str:\n",
    "    p = re.compile(sheet_pattern, flags=re.IGNORECASE)\n",
    "    x = list(filter(None, map(p.search, sheet_list)))[0]\n",
    "    return x.string  # attribute of a re.match object\n",
    "\n",
    "\n",
    "def get_valid_data(\n",
    "    sheet_as_values_list: List[str], idx_column_to_count: int\n",
    ") -> List[str]:\n",
    "    hdrs = sheet_as_values_list[0]\n",
    "    valid_headers = list(filter(lambda x: len(x) > 0, hdrs))\n",
    "    raw_data = list(\n",
    "        zip(*sheet_as_values_list)\n",
    "    )[\n",
    "        : len(valid_headers)\n",
    "    ]  # <<< limit the headers to a fixed number if the reading fails bcause of formatting\n",
    "    # raw_data = list(zip(*sheet_as_values_list]))[: len(valid_headers)]\n",
    "    actual_height = len(\n",
    "        list(filter(lambda x: x != \"\", raw_data[idx_column_to_count]))\n",
    "    )  # <<< dynamic limit to the raw data\n",
    "    # check the lenght of non-empty items in the first or second column, then crop the data up to that number\n",
    "    valid_data = list(zip(*sheet_as_values_list[1:actual_height]))[: len(valid_headers)]\n",
    "    return valid_headers, valid_data\n",
    "\n",
    "\n",
    "def get_idx_of_pattern_col(pat: str, sheet_as_values_list: List[str]) -> int:\n",
    "    col_pattern = re.compile(pat, re.IGNORECASE)\n",
    "    winner = list(\n",
    "        filter(\n",
    "            None,\n",
    "            map(\n",
    "                col_pattern.search, list(map(lambda x: str(x), sheet_as_values_list[0]))\n",
    "            ),\n",
    "        )\n",
    "    )[0]\n",
    "    # return sheet_as_values_list.index(winner)\n",
    "    return sheet_as_values_list[0].index(winner.string)"
   ]
  },
  {
   "cell_type": "markdown",
   "metadata": {},
   "source": [
    "Aqui hace falta una funcion que arregle los datos antes de volcarlos a DuckDB"
   ]
  },
  {
   "cell_type": "code",
   "execution_count": null,
   "metadata": {},
   "outputs": [],
   "source": [
    "# lo que da problemas por ahora es\n",
    "# 1) el campo \"fecha\" (separado por puntos, no por guiones o por barras hacia delante)\n",
    "# 2) las fechas que no existan, sustituirlas por la extraida de la ruta completa\n"
   ]
  },
  {
   "cell_type": "markdown",
   "metadata": {},
   "source": [
    "### 1. Datos de la oferta con Calamine!"
   ]
  },
  {
   "cell_type": "code",
   "execution_count": 144,
   "metadata": {},
   "outputs": [
    {
     "name": "stdout",
     "output_type": "stream",
     "text": [
      "0 N:/CoralHudson/1. AM/8. Wholesale Channel/Ofertas recibidas SVH/2024\\20230423\\20240423 OFERTA 5579533 PROMO 6073945 WIP ANDRATX.xlsx\n",
      "1 N:/CoralHudson/1. AM/8. Wholesale Channel/Ofertas recibidas SVH/2024\\20230423\\20240423 OFERTA 5584147 PROMO 6073609 VIVIENDA, ROTA, CADIZ.xlsx\n",
      "2 N:/CoralHudson/1. AM/8. Wholesale Channel/Ofertas recibidas SVH/2024\\20230423\\20240423_OF_5583510_PROMO 6082032_SUELO_CL. SUP-8 RUEDOS DE CONSOLACION M23-24_UTRERA_SEVILLA.xlsx\n",
      "3 N:/CoralHudson/1. AM/8. Wholesale Channel/Ofertas recibidas SVH/2024\\20230423\\20240423_OF_5583836_UR_60531816_ SUNC_CL_SAN PEDRO_LLERENA_CH.xlsx\n",
      "4 N:/CoralHudson/1. AM/8. Wholesale Channel/Ofertas recibidas SVH/2024\\20240102\\20231219_OF 5570280 UR 60529132_LOCAL_CL.REPUBLICA 3_SABADELL.xlsx\n",
      "5 N:/CoralHudson/1. AM/8. Wholesale Channel/Ofertas recibidas SVH/2024\\20240102\\20231227_OF 5570700_ UR 60456464_PARCELA 12.1 STR SUB-CC-9.2 LAS PALOMAS (BADAJOZ) CH.xlsx\n",
      "6 N:/CoralHudson/1. AM/8. Wholesale Channel/Ofertas recibidas SVH/2024\\20240102\\20231227_OF_5569367_PC_6073825_WIP_CL. LA MILAGROSA, 4 _CH_SCTF.xlsx\n",
      "7 N:/CoralHudson/1. AM/8. Wholesale Channel/Ofertas recibidas SVH/2024\\20240102\\20231227_OF_5570711_PC_6073207_EDIFICIO_CL. ALEMANIA, 46_CH_LPA.xlsx\n",
      "8 N:/CoralHudson/1. AM/8. Wholesale Channel/Ofertas recibidas SVH/2024\\20240102\\20231229_OF 5565302 UR 6101549_SUELO_S-1-S2-S3 3_ALGETE.xlsx\n",
      "9 N:/CoralHudson/1. AM/8. Wholesale Channel/Ofertas recibidas SVH/2024\\20240102\\20231229_OF 5565718_PROMO6072261_WIP_AV. DE LA GRAN BRETAÑA, N.3_CADIZ_CHICLANA_CORAL.xlsx\n",
      "10 N:/CoralHudson/1. AM/8. Wholesale Channel/Ofertas recibidas SVH/2024\\20240102\\20231229_OF_5569507_PROMO 6080645_EDIFICIO_AV. VISTAMAR, N.94_ALGECIRAS_CADIZ_CORAL.xlsx\n",
      "11 N:/CoralHudson/1. AM/8. Wholesale Channel/Ofertas recibidas SVH/2024\\20240103\\20240103_OF_5571432_PROMO 6076127_WIP_ CL. PERAFÁN DE RIBERA_TORRE DE LA REINA_SEVILLA.xlsx\n",
      "12 N:/CoralHudson/1. AM/8. Wholesale Channel/Ofertas recibidas SVH/2024\\20240104\\20240101_OF5568846_UR60480878 NAVE CAN GUARRO- STA MARIA PALAUTORDERA_ CH.xlsx\n",
      "13 N:/CoralHudson/1. AM/8. Wholesale Channel/Ofertas recibidas SVH/2024\\20240109\\20240108_OF_5572097_ UR 60511253_SUELO_CL. ALCORNOQUE, N.37_BOLLULLOS DE LA MITACION_SEVILLA_CORAL.xlsx\n",
      "14 N:/CoralHudson/1. AM/8. Wholesale Channel/Ofertas recibidas SVH/2024\\20240109\\20240109_ OF_ 5570480  PROMO 6075238 WIP AV EUROPA_ VILLAJOYOSA_ ALICANTE CORAL ok.xlsx\n",
      "15 N:/CoralHudson/1. AM/8. Wholesale Channel/Ofertas recibidas SVH/2024\\20240109\\20240109_OF_5571868_ UR 60515572_SUELO_CL. MAR MEDITERRANEO, N.29_ALCALA DE GUADAIRA_SEVILLA_CORAL.xlsx\n",
      "16 N:/CoralHudson/1. AM/8. Wholesale Channel/Ofertas recibidas SVH/2024\\20240110\\20240109 OF 5568210 UR_60480303 CL. REAL DE ORIENTE, N.83_CH_hotel.xlsx\n",
      "17 N:/CoralHudson/1. AM/8. Wholesale Channel/Ofertas recibidas SVH/2024\\20240110\\20240109_ OF_ 5569740_UR 60531524_NAVE ENRIQUE GIMENO_CASTELLON.xlsx\n",
      "18 N:/CoralHudson/1. AM/8. Wholesale Channel/Ofertas recibidas SVH/2024\\20240110\\20240109_of_5572151_UR_60510739_ NAVE1_Jain_Cantabria CH.xlsx\n",
      "19 N:/CoralHudson/1. AM/8. Wholesale Channel/Ofertas recibidas SVH/2024\\20240110\\20240110_OF 5572625_UR 60521535_SUELO CADAQUES - Proyecto Vision.xlsx\n",
      "20 N:/CoralHudson/1. AM/8. Wholesale Channel/Ofertas recibidas SVH/2024\\20240110\\20240110_OF_5570970_PC_60516391_WIP_CL. ISLA DEL HIERRO_CH_SCTF.xlsx\n",
      "21 N:/CoralHudson/1. AM/8. Wholesale Channel/Ofertas recibidas SVH/2024\\20240111\\20240110 OF 5563920 UR 60506632 MORERAS TALAVERA CH.xlsx\n",
      "22 N:/CoralHudson/1. AM/8. Wholesale Channel/Ofertas recibidas SVH/2024\\20240111\\20240110 OF 5566312 UR_60523853 CL.CARMEN CALZADO_CH_LOCAL.xlsx\n",
      "23 N:/CoralHudson/1. AM/8. Wholesale Channel/Ofertas recibidas SVH/2024\\20240111\\20240110 OF 5568669 UR_60490324 CL. ISAAC PERAL , N.5_CH_NAVEl.xlsx\n",
      "24 N:/CoralHudson/1. AM/8. Wholesale Channel/Ofertas recibidas SVH/2024\\20240111\\20240111_OF_5571332_PC_6073207_EDIFICIO_CL. ALEMANIA, 46_CH_LPA.xlsx\n",
      "25 N:/CoralHudson/1. AM/8. Wholesale Channel/Ofertas recibidas SVH/2024\\20240111\\20240111_OF_5572231_UR 60516030_SUELO_CL. JARA, N.7, P.PARC, PO.2908_BOLLULLOS DE LA MITACION_SEVILLA.xlsx\n",
      "26 N:/CoralHudson/1. AM/8. Wholesale Channel/Ofertas recibidas SVH/2024\\20240112 -\\20240111 OF 5569076 PROMO 6080399 CTRA TOLEDO AVILA WIP TOLEDO CH.xlsx\n",
      "27 N:/CoralHudson/1. AM/8. Wholesale Channel/Ofertas recibidas SVH/2024\\20240112 -\\20240111 OF 5572154 PROMO 6080088 WIP CAÑO VIEJO GERINDOTE CH.xlsx\n",
      "28 N:/CoralHudson/1. AM/8. Wholesale Channel/Ofertas recibidas SVH/2024\\20240112 -\\20240111_OF 5570690 UR 60487139 CL. BOADILLA, N.SN, P.INMO, Po.7 ILLESCAS TOLEDO CH.xlsx\n",
      "29 N:/CoralHudson/1. AM/8. Wholesale Channel/Ofertas recibidas SVH/2024\\20240112 -\\20240112_OF_5571192_UR 60455820_SUELO_URB. LA JULIANA, P.PARC, PO.5218_BOLLULLOS DE LA MITACION_SEVILLA.xlsx\n",
      "30 N:/CoralHudson/1. AM/8. Wholesale Channel/Ofertas recibidas SVH/2024\\20240112 -\\20240112_OF_5572230_UR_60440042_NAVE_CALLE FELIPE_TRIGO_BADAJOZ_CH.xlsx\n",
      "31 N:/CoralHudson/1. AM/8. Wholesale Channel/Ofertas recibidas SVH/2024\\20240115\\20231204_OF 5568947_PROMO 6073029_WIP_AV. JUAN PABLO II N.4_BOLLULLOS DE LA MITACION_SEVILLA_CORAL.xlsx\n",
      "32 N:/CoralHudson/1. AM/8. Wholesale Channel/Ofertas recibidas SVH/2024\\20240115\\20240112_ OF 5571982 UR 60514561 _WIP Hernández AmadorSC Tfe.xlsx\n",
      "33 N:/CoralHudson/1. AM/8. Wholesale Channel/Ofertas recibidas SVH/2024\\20240115\\20240112_OF_5571073_UR_60485759_Suelo Bicora_SCTF.xlsx\n",
      "34 N:/CoralHudson/1. AM/8. Wholesale Channel/Ofertas recibidas SVH/2024\\20240116\\20230115_OF_5572900_PC_6071973_EDIFICIO_CL. ALEMANIA, 46_CH.xlsx\n",
      "35 N:/CoralHudson/1. AM/8. Wholesale Channel/Ofertas recibidas SVH/2024\\20240116\\20240112_OF 5571985_UR 60523538_SUELO_CL EDUARD MARQUINA_TERRASSA.xlsx\n",
      "36 N:/CoralHudson/1. AM/8. Wholesale Channel/Ofertas recibidas SVH/2024\\20240116\\20240115_OF 5569532 _ UR 60484446 LLORAC SECTOR- SUELO STA COLOMA DE QUERALT-CH.xlsx\n",
      "37 N:/CoralHudson/1. AM/8. Wholesale Channel/Ofertas recibidas SVH/2024\\20240116\\20240115_OF 5570589_UR 60484896 SOLAR JOAQUIN RODRIGO (PUERTOLLANO) CH.xlsx\n",
      "38 N:/CoralHudson/1. AM/8. Wholesale Channel/Ofertas recibidas SVH/2024\\20240116\\20240115_OF 5571828_UR 60499567_WIP CL.DOMINGO RIVERO-LPA-CH.xlsx\n",
      "39 N:/CoralHudson/1. AM/8. Wholesale Channel/Ofertas recibidas SVH/2024\\20240116\\20240115_OF_5571491_UR_60533572 LOCAL PL VICENTE BARBADILLO_(CACERES) CH.xlsx\n",
      "40 N:/CoralHudson/1. AM/8. Wholesale Channel/Ofertas recibidas SVH/2024\\20240117\\20240116_ OF 5570665 UR 60451265 EDIFICIO  Crta N340 KM 1.079 Amposta-CH.xlsx\n",
      "41 N:/CoralHudson/1. AM/8. Wholesale Channel/Ofertas recibidas SVH/2024\\20240122\\20240122_OF 5572623_Promo 6074506_WIP VIOLETA_ SCTF.xlsx\n",
      "42 N:/CoralHudson/1. AM/8. Wholesale Channel/Ofertas recibidas SVH/2024\\20240123\\20240123_OF 5572290_PROMO 6079072_WIP CL.DOMINGO RIVERO-LPA-CH.xlsx\n",
      "43 N:/CoralHudson/1. AM/8. Wholesale Channel/Ofertas recibidas SVH/2024\\20240123\\20240123_OF_5572650_PROMO_6083185_WIP_LA CAROLINA_JAEN_CH.xlsx\n",
      "44 N:/CoralHudson/1. AM/8. Wholesale Channel/Ofertas recibidas SVH/2024\\20240124\\20240124_ OF 5573882 UR 60452847_WIP JOAN MARIA ROMA_ST VICENÇ CASTELLET.xlsx\n",
      "45 N:/CoralHudson/1. AM/8. Wholesale Channel/Ofertas recibidas SVH/2024\\20240124\\20240124_OF_5565809_UR_60508021_STR. PLAN PARCIAL CAMPO DE AVIACIÓN, P_VILLARCAYO_BURGOS_CH.xlsx\n",
      "46 N:/CoralHudson/1. AM/8. Wholesale Channel/Ofertas recibidas SVH/2024\\20240124\\20240124_OF_5568106_UR_60464764_STR. PLAN PARCIAL_CAMPO DE AVIACIÓN, P_VILLARCAYO_BURGOS_CH.xlsx\n",
      "47 N:/CoralHudson/1. AM/8. Wholesale Channel/Ofertas recibidas SVH/2024\\20240124\\20240124_OF_5568600_UR__60490844_C QUEMADA O CORRAL MOCHO_HOTEL_CH.xlsx\n",
      "48 N:/CoralHudson/1. AM/8. Wholesale Channel/Ofertas recibidas SVH/2024\\20240124\\20240124_OF_5571439_UR_60464752_STR. PLAN PARCIAL_CAMPO DE AVIACIÓN, P_VILLARCAYO_BURGOS_CH.xlsx\n",
      "49 N:/CoralHudson/1. AM/8. Wholesale Channel/Ofertas recibidas SVH/2024\\20240124\\20240124_OF_5572260 UR_60531918_ CL LEVANTE 4_LERMA_NAVE_CH.xlsx\n",
      "50 N:/CoralHudson/1. AM/8. Wholesale Channel/Ofertas recibidas SVH/2024\\20240124\\20240124_OF_5572347_UR_60459861_SUELO_AV. DE LA CAMOCHA, N.540_GIJON_ASTURIAS.xlsx\n",
      "51 N:/CoralHudson/1. AM/8. Wholesale Channel/Ofertas recibidas SVH/2024\\20240124\\20240124_OF_5573345_PROMO 6082204_SUELO_CL. PROSPERIDAD SN PARCELA 6_ALCALA DE GUADAIRA_SEVILLA_.xlsx\n",
      "52 N:/CoralHudson/1. AM/8. Wholesale Channel/Ofertas recibidas SVH/2024\\20240125\\20240125 OF 5574514 UR 60487319  CL PLATA ARROYO VEDADO CH.xlsx\n",
      "53 N:/CoralHudson/1. AM/8. Wholesale Channel/Ofertas recibidas SVH/2024\\20240125\\20240125_OF_5573212_PROMO_6074536_WIP_CL. CERVANTES, N.5_PALOMARES DEL RÍO_SEVILLA.xlsx\n",
      "54 N:/CoralHudson/1. AM/8. Wholesale Channel/Ofertas recibidas SVH/2024\\20240125\\20240125_OF_5573337_PROMO 6079737_LOCALES PK_C BALTASAR ALCAZAR_SEVILLA_CORAL.xlsx\n",
      "55 N:/CoralHudson/1. AM/8. Wholesale Channel/Ofertas recibidas SVH/2024\\20240126\\20240126_OF_5573220_UR_60485470_Parcela M16 La Quinta_SCTF.xlsx\n",
      "56 N:/CoralHudson/1. AM/8. Wholesale Channel/Ofertas recibidas SVH/2024\\20240129\\20240129_OF_5573156_UR´S 60532394 y 060532402_SUELO_ AV. GRANJA N.15_ JEREZ DE LA FRA_CADIZ.xlsx\n",
      "57 N:/CoralHudson/1. AM/8. Wholesale Channel/Ofertas recibidas SVH/2024\\20240129\\20240129_OF_5573330_PROMO 6077444_ CL. OLIVO, N.21_LA BARCA DE LA FLORIDA_CÁDIZ.xlsx\n",
      "58 N:/CoralHudson/1. AM/8. Wholesale Channel/Ofertas recibidas SVH/2024\\20240129\\29012024_OF_5574227_UR_60526447_Parcela CL. PETRONILA SCTF.xlsx\n",
      "59 N:/CoralHudson/1. AM/8. Wholesale Channel/Ofertas recibidas SVH/2024\\20240130\\20240130_OF 5574056_PROMO 6078538_WIP_CL RAVAL_ANGLES.xlsx\n",
      "60 N:/CoralHudson/1. AM/8. Wholesale Channel/Ofertas recibidas SVH/2024\\20240130\\20240130_OF 5574081_PROMO 6081407 WIP CL TALAVERA GERINDOTE CH.xlsx\n",
      "61 N:/CoralHudson/1. AM/8. Wholesale Channel/Ofertas recibidas SVH/2024\\20240131\\20240131_OF 5573738_PROMO 6083156_AV. AZUCAICA_SUELO_TOLEDO CH_ VISION.xlsx\n",
      "62 N:/CoralHudson/1. AM/8. Wholesale Channel/Ofertas recibidas SVH/2024\\20240201\\20240201 OF 5574318 UR 60514332 MANZANA ZGZ CH.xlsx\n",
      "63 N:/CoralHudson/1. AM/8. Wholesale Channel/Ofertas recibidas SVH/2024\\20240201\\20240201_OF_5574533_UR_60461756_NAVE_Ctra.SENMENAT_RIPOLLET_BARCELONA.xlsx\n",
      "64 N:/CoralHudson/1. AM/8. Wholesale Channel/Ofertas recibidas SVH/2024\\20240202\\20240202 OF 5573743 UR 60515612 CL GENERAL MOLAS CH.xlsx\n",
      "65 N:/CoralHudson/1. AM/8. Wholesale Channel/Ofertas recibidas SVH/2024\\20240202\\20240202_OF_5572900_PC_6071973_EDIFICIO_CL. ALEMANIA, 46_CH.xlsx\n",
      "66 N:/CoralHudson/1. AM/8. Wholesale Channel/Ofertas recibidas SVH/2024\\20240202\\20240202_OF_5575493_UR 60531982_SUELO_STR. LA CAMPANA 14A_LA LINEA DE LA CONCEPCION_CADIZ.xlsx\n",
      "67 N:/CoralHudson/1. AM/8. Wholesale Channel/Ofertas recibidas SVH/2024\\20240202\\20240202_OF_5575540_PROMO 6074967_WIP_STR. 14B-01-01, N.SN, P.PARC, B.G3_LA LINEA DE LA CONCEPCION_CADIZ.xlsx\n",
      "68 N:/CoralHudson/1. AM/8. Wholesale Channel/Ofertas recibidas SVH/2024\\20240202\\20240202_OF_5575546_UR 60527070_SUELO_CL. DEL BURGO, N.SN, P.PARC_LA LINEA DE LA CONCEPCION_CADIZ.xlsx\n",
      "69 N:/CoralHudson/1. AM/8. Wholesale Channel/Ofertas recibidas SVH/2024\\20240202\\20240202_OF_5575550_UR 60534610_SUELO_URB. SOTO ALTO, Nº39_SOTOGRANDE_CADIZ.xlsx\n",
      "70 N:/CoralHudson/1. AM/8. Wholesale Channel/Ofertas recibidas SVH/2024\\20240202\\20240405_OF_5580439_UR_6082576_Wips_Margarita Peña_SCTF_CH.xlsx\n",
      "71 N:/CoralHudson/1. AM/8. Wholesale Channel/Ofertas recibidas SVH/2024\\20240205\\20240205_OF_5575461_PROMO 6127223_SUELO_PLAN PARCIAL EL CONCHAL II_LA LINEA DE LA CONCEPCION_CADIZ.xlsx\n",
      "72 N:/CoralHudson/1. AM/8. Wholesale Channel/Ofertas recibidas SVH/2024\\20240206\\20240206_ OF 5571031_UR 60698080_ SUELO_Cl Major 17 els Muntells.xlsx\n",
      "73 N:/CoralHudson/1. AM/8. Wholesale Channel/Ofertas recibidas SVH/2024\\20240206\\20240206_OF 5574331_PROMO 6081951_OFICINA_AVDA REINO UNIDO 9 _SEVILLA.xlsx\n",
      "74 N:/CoralHudson/1. AM/8. Wholesale Channel/Ofertas recibidas SVH/2024\\20240206\\20240206_OF_5574344 PROMO_6080277_WIP_CL_FEDERICO_GARCIA_LORCA_GIBRALEÓN_CH.xlsx\n",
      "75 N:/CoralHudson/1. AM/8. Wholesale Channel/Ofertas recibidas SVH/2024\\20240206\\20240206_OF_5575512_UR 60525978_SUELO_URB. SOTO GRANDE SUBSECTOR 50, PARCELA 28_SOTOGRANDE_CADIZ.xlsx\n",
      "76 N:/CoralHudson/1. AM/8. Wholesale Channel/Ofertas recibidas SVH/2024\\20240207\\20240207_OF_5575379_PROMO_6073264_STR PP3 LA FLORIDA (HUELVA)_CH.xlsx\n",
      "77 N:/CoralHudson/1. AM/8. Wholesale Channel/Ofertas recibidas SVH/2024\\20240207\\20240207_OF_5575678_PC_6079774_WIP_CL. TAGANANA_SCTF.xlsx\n",
      "78 N:/CoralHudson/1. AM/8. Wholesale Channel/Ofertas recibidas SVH/2024\\20240207\\20240207_of_5576148_Promo_6083482_local_Avda Gasteiz_CH.xlsx\n",
      "79 N:/CoralHudson/1. AM/8. Wholesale Channel/Ofertas recibidas SVH/2024\\20240208\\20240208_ OF 5575665 PROMO 6081141 _WIP Lujo y Herrera _SC Tfe_CH.xlsx\n",
      "80 N:/CoralHudson/1. AM/8. Wholesale Channel/Ofertas recibidas SVH/2024\\20240208\\20240208_OF_5575241_PROMO 6076127_WIP_ CL. PERAFÁN DE RIBERA_TORRE DE LA REINA_SEVILLA.xlsx\n",
      "81 N:/CoralHudson/1. AM/8. Wholesale Channel/Ofertas recibidas SVH/2024\\20240212\\20240212_OF 5567663_UR 60469785_60469760_LOCAL CANALEJAS-LPA-CH.xlsx\n",
      "82 N:/CoralHudson/1. AM/8. Wholesale Channel/Ofertas recibidas SVH/2024\\20240212\\20240212_OF 5575581_PROMO 6074908_LOCAL CANALEJAS-LPA-CH.xlsx\n",
      "83 N:/CoralHudson/1. AM/8. Wholesale Channel/Ofertas recibidas SVH/2024\\20240212\\20240212_OF 5575790_PROMO  6072681_SUELO_URB. LA JULIANA, P.PARC, PO.5216_BOLLULLOS DE LA MITACION_SEVILLA.xlsx\n",
      "84 N:/CoralHudson/1. AM/8. Wholesale Channel/Ofertas recibidas SVH/2024\\20240213\\20240213_5576695_ 6069862_WIP_SUN SNO R11_Los Realejos_SC Tfe.xlsx\n",
      "85 N:/CoralHudson/1. AM/8. Wholesale Channel/Ofertas recibidas SVH/2024\\20240213\\20240213_OF_5575718_PROMO 6074536_WIP_CL. CERVANTES, N.5_PALOMARES DEL RÍO_SEVILLA_CORAL.xlsx\n",
      "86 N:/CoralHudson/1. AM/8. Wholesale Channel/Ofertas recibidas SVH/2024\\20240214\\20230214_OF_5576237_ UR_60495301_AVDA ISLANTILLA_CH.xlsx\n",
      "87 N:/CoralHudson/1. AM/8. Wholesale Channel/Ofertas recibidas SVH/2024\\20240214\\20240214_OF_5572936_PROMO_6078770_SUELO_El Mojón M6_CH_SCTF.xlsx\n",
      "88 N:/CoralHudson/1. AM/8. Wholesale Channel/Ofertas recibidas SVH/2024\\20240214\\20240214_OF_5575955 PROMO_6082082_WIP_CL_BELEN VIVIENTE_BEAS_(HUELVA)_CH.xlsx\n",
      "89 N:/CoralHudson/1. AM/8. Wholesale Channel/Ofertas recibidas SVH/2024\\20240214\\20240214_OF_5576876_UR_60488381_PK Santa Rosa de Lima_SCTF.xlsx\n",
      "90 N:/CoralHudson/1. AM/8. Wholesale Channel/Ofertas recibidas SVH/2024\\20240215\\20240215 OF 5572723 UR 6053219 - 60490654 c PICO CEBOLLERA HACHERO CH.xlsx\n",
      "91 N:/CoralHudson/1. AM/8. Wholesale Channel/Ofertas recibidas SVH/2024\\20240215\\20240215_ OF 5576500_UR 60510721_ Calle Coleo_ Fuengirola (Malaga).xlsx\n",
      "92 N:/CoralHudson/1. AM/8. Wholesale Channel/Ofertas recibidas SVH/2024\\20240216\\20240216_ 5575470 _Promo_6081103_WIP_Tosca de Ana Maria  _SCTF.xlsx\n",
      "93 N:/CoralHudson/1. AM/8. Wholesale Channel/Ofertas recibidas SVH/2024\\20240216\\20240216_OF 5574953 Promo_6073164_WIP_Candelaria Monte  _SCTF.xlsx\n",
      "94 N:/CoralHudson/1. AM/8. Wholesale Channel/Ofertas recibidas SVH/2024\\20240216\\20240216_OF5574974_ PROMO_6136547_ Camino del Vertedero_Almuñecar.xlsx\n",
      "95 N:/CoralHudson/1. AM/8. Wholesale Channel/Ofertas recibidas SVH/2024\\20240216\\20240216_OF_5575658_PC_6075818_6075987_SUELO+WIP_CL. REAL_VILAFLOR_SCTF.xlsx\n",
      "96 N:/CoralHudson/1. AM/8. Wholesale Channel/Ofertas recibidas SVH/2024\\20240219\\20240219_ OF 5577022 PROMO 6072268_WIP CL SALLARES I MARRA_SABADELL.xlsx\n",
      "97 N:/CoralHudson/1. AM/8. Wholesale Channel/Ofertas recibidas SVH/2024\\20240219\\20240219_OF 5572497_UR 60509824_SUELO_PL JAVIER UGARTE_COLERA_CH.xlsx\n",
      "98 N:/CoralHudson/1. AM/8. Wholesale Channel/Ofertas recibidas SVH/2024\\20240219\\20240219_OF_5575292_PROMO_6103191_SUELO_CTRA. SINOVAS_BURGOS.xlsx\n",
      "99 N:/CoralHudson/1. AM/8. Wholesale Channel/Ofertas recibidas SVH/2024\\20240219\\20240219_OF_5578008_PROMO 6080933_WIP_AV. DE LAS PAJANOSAS, N.1_GUILLENA_SEVILLA.xlsx\n",
      "100 N:/CoralHudson/1. AM/8. Wholesale Channel/Ofertas recibidas SVH/2024\\20240221\\20240221 OF 5577634 PROMO 6080088  WIP  VIVIENDA  CAÑO VIEJO GERINDOTE CH.xlsx\n",
      "101 N:/CoralHudson/1. AM/8. Wholesale Channel/Ofertas recibidas SVH/2024\\20240221\\20240221 OF 5577642 UR 60520886  WIP  LOCAL CAÑO VIEJO GERINDOTE CH.xlsx\n",
      "102 N:/CoralHudson/1. AM/8. Wholesale Channel/Ofertas recibidas SVH/2024\\20240221\\20240221_ OF 5574156_ PROMO 6071968 WIP Cambrils 3-5 Montroig del Camp.xlsx\n",
      "103 N:/CoralHudson/1. AM/8. Wholesale Channel/Ofertas recibidas SVH/2024\\20240221\\20240221_OF 5578182 PROMO_6080799_WIP CL AGUILAR Y ACUÑA 24 CH.xlsx\n",
      "Error: list index out of range\n",
      "104 N:/CoralHudson/1. AM/8. Wholesale Channel/Ofertas recibidas SVH/2024\\20240221\\20240221_of nº5577960_Ur_60503099_Hotel Ziordia_Navarra_CH.xlsx\n",
      "105 N:/CoralHudson/1. AM/8. Wholesale Channel/Ofertas recibidas SVH/2024\\20240221\\20240221_OF_5570922_ PROMO 6083090_LOS ARENALES_SAN JUAN DEL PUERTO (HUELVA).xlsx\n",
      "106 N:/CoralHudson/1. AM/8. Wholesale Channel/Ofertas recibidas SVH/2024\\20240221\\20240221_OF_5573452_ UR 60512629 AV. BONANZA, N.1_NAVE_JEREZ DE LA FRA_CADIZ_CORAL HOMES.xlsx\n",
      "107 N:/CoralHudson/1. AM/8. Wholesale Channel/Ofertas recibidas SVH/2024\\20240221\\20240221_OF_5576398_ PROMO 6083540_CL NICOLAS MORELES_ (MADRID).xlsx\n",
      "108 N:/CoralHudson/1. AM/8. Wholesale Channel/Ofertas recibidas SVH/2024\\20240222\\20240222_ OF 5577541 UR 60530145_LOCAL_CL. TORRES I BAGES, ST CELONI.xlsx\n",
      "109 N:/CoralHudson/1. AM/8. Wholesale Channel/Ofertas recibidas SVH/2024\\20240222\\20240222_OFERTA OF 5569937 PROMO 6075884 CL CARROZA PARAJE ALGARROBO MAZARRON_MURCIA COR.xlsx\n",
      "110 N:/CoralHudson/1. AM/8. Wholesale Channel/Ofertas recibidas SVH/2024\\20240222\\20240222_OF_5571799_PC_6081305_WIP_CL. MORRO AFONSO_SCTF.xlsx\n",
      "111 N:/CoralHudson/1. AM/8. Wholesale Channel/Ofertas recibidas SVH/2024\\20240223\\20240223 OF 5563920 UR 60506632 MORERAS TALAVERA CH.xlsx\n",
      "112 N:/CoralHudson/1. AM/8. Wholesale Channel/Ofertas recibidas SVH/2024\\20240223\\20240223_OF 5575225 _PROMO_6083597  WIP CL DOÑA SOL CONSUEGRA.xlsx\n",
      "113 N:/CoralHudson/1. AM/8. Wholesale Channel/Ofertas recibidas SVH/2024\\20240223\\20240223_OF 5576531 UR60520686_ Suelo_ Urb. Miravalle_ Coin_ CH.xlsx\n",
      "114 N:/CoralHudson/1. AM/8. Wholesale Channel/Ofertas recibidas SVH/2024\\20240223\\20240223_OF 5577314_UR60460802_ Suelo_ Morralillo_Mijas_ CH.xlsx\n",
      "115 N:/CoralHudson/1. AM/8. Wholesale Channel/Ofertas recibidas SVH/2024\\20240223\\20240223_OF 5578023_PROMO 6081951_OFICINA_AVDA REINO UNIDO 9 _SEVILLA.xlsx\n",
      "116 N:/CoralHudson/1. AM/8. Wholesale Channel/Ofertas recibidas SVH/2024\\20240223\\20240223_OF_5575658_PC_6075818_6075987_SUELO+WI_CL. REAL_VILAFLOR_SCTF.xlsx\n",
      "117 N:/CoralHudson/1. AM/8. Wholesale Channel/Ofertas recibidas SVH/2024\\20240226\\20240226_OF 5567244_UR 60458518_SUELO GARROTXA 9_CAMBRILS.xlsx\n",
      "118 N:/CoralHudson/1. AM/8. Wholesale Channel/Ofertas recibidas SVH/2024\\20240226\\20240226_OF 5575974 PROMO_6080799_WIP CL AGUILAR Y ACUÑA 24 CH.xlsx\n",
      "Error: list index out of range\n",
      "119 N:/CoralHudson/1. AM/8. Wholesale Channel/Ofertas recibidas SVH/2024\\20240226\\20240226_OF 5578566_UR 60499567_WIP CL.DOMINGO RIVERO-LPA-CH.xlsx\n",
      "120 N:/CoralHudson/1. AM/8. Wholesale Channel/Ofertas recibidas SVH/2024\\20240226\\20240226_OF 5578827 UR 60501262 - C.SAGRADA FAMILIA 2, ST PERE DE RIBES_SUELO CH.xlsx\n",
      "121 N:/CoralHudson/1. AM/8. Wholesale Channel/Ofertas recibidas SVH/2024\\20240226\\20240226_OF_5577810_PCIAL_6083412_WIP PP-5_BONARES_HUELVA_CH.xlsx\n",
      "122 N:/CoralHudson/1. AM/8. Wholesale Channel/Ofertas recibidas SVH/2024\\20240226\\20240226_OF_5578822_PR_6078770_SUELO_El Mojón M6_SCTF_CH.xlsx\n",
      "123 N:/CoralHudson/1. AM/8. Wholesale Channel/Ofertas recibidas SVH/2024\\20240227\\20240227_OF_5576837_PROMO_6083899_2 LOCALES_CL. MANUEL AZAÑA, N.24-30_VALLADOLID.xlsx\n",
      "124 N:/CoralHudson/1. AM/8. Wholesale Channel/Ofertas recibidas SVH/2024\\20240228\\20240228 OF 5577053 UR 6083039 SUELO PROINDIVISO FINESTRAT_ALICANTE_ CORAL.xlsx\n",
      "125 N:/CoralHudson/1. AM/8. Wholesale Channel/Ofertas recibidas SVH/2024\\20240228\\20240228_ OF 5577837 _PROMO 6077399_WIP CR ESTACION-LOZOYUELA.xlsx\n",
      "126 N:/CoralHudson/1. AM/8. Wholesale Channel/Ofertas recibidas SVH/2024\\20240228\\20240228_OF 5575876 PROMO 6072522 edificio autonomia aragon sabiñanigo CH.xlsx\n",
      "127 N:/CoralHudson/1. AM/8. Wholesale Channel/Ofertas recibidas SVH/2024\\20240228\\20240228_OF 5578980_PC 6080590_SUELO CASA AYALA-LPA-CH.xlsx\n",
      "128 N:/CoralHudson/1. AM/8. Wholesale Channel/Ofertas recibidas SVH/2024\\20240228\\20240228_OF_5577481_PC 6141542 SUELO_ AV. GRANJA N.15_ JEREZ DE LA FRA_CADIZ.xlsx\n",
      "129 N:/CoralHudson/1. AM/8. Wholesale Channel/Ofertas recibidas SVH/2024\\20240229\\20240229_ OF 5572698 _PROMO 6071576_WIP CL GRANJA 22-MATARO.xlsx\n",
      "130 N:/CoralHudson/1. AM/8. Wholesale Channel/Ofertas recibidas SVH/2024\\20240229\\20240229_OF 5575449_UR 60508279_SUELO_Manresa, Lluis Millet 17.xlsx\n",
      "131 N:/CoralHudson/1. AM/8. Wholesale Channel/Ofertas recibidas SVH/2024\\20240229\\20240229_OF 5575598_PROMO_6083896 WIP NT. SEÑORA DE PUIG_JOYOSA_ZARAGOZA.xlsx\n",
      "132 N:/CoralHudson/1. AM/8. Wholesale Channel/Ofertas recibidas SVH/2024\\20240229\\20240229_OF 5577521_PROMO 6069890_C.PERE III, BERGA_PKS_CH.xlsx\n",
      "133 N:/CoralHudson/1. AM/8. Wholesale Channel/Ofertas recibidas SVH/2024\\20240229\\20240229_OF 5577744 PROMO 6082147 CL MESTRE MICHAVILA_ SAGUNTO _VALENCIA.xlsx\n",
      "134 N:/CoralHudson/1. AM/8. Wholesale Channel/Ofertas recibidas SVH/2024\\20240229\\20240229_OF_5578828_PROMO 6082540_WIP_CL. CABO ROCA_ALGECIRAS_CADIZ.xlsx\n",
      "135 N:/CoralHudson/1. AM/8. Wholesale Channel/Ofertas recibidas SVH/2024\\20240229\\20240229_OF_5578914_PROMO_6080149_SUELO_STR. X Y XI, P.PARC_PALENCIA.xlsx\n",
      "136 N:/CoralHudson/1. AM/8. Wholesale Channel/Ofertas recibidas SVH/2024\\20240304\\20240304_OF 5578772_PC 6081177_WIP CL. TENESOR SEMIDAN-LPA-CH.xlsx\n",
      "137 N:/CoralHudson/1. AM/8. Wholesale Channel/Ofertas recibidas SVH/2024\\20240305\\20240405_OF_5578227-5578230-5578235_PROMOS CONJUNTA 6143599-6143600-6143601_PARKING_CL. CARDENAL BUENO MONREAL, N.33_SEVILLA_SEVILLA.xlsx\n",
      "138 N:/CoralHudson/1. AM/8. Wholesale Channel/Ofertas recibidas SVH/2024\\20240306\\20240306_OF_5577974_PCIAL_6077406_PRE LOS MOJINOS_VVA DEL DUQUE (CORDOBA)_CH.xlsx\n",
      "139 N:/CoralHudson/1. AM/8. Wholesale Channel/Ofertas recibidas SVH/2024\\20240306\\20240306_OF_5578833_PC_6081397_WIP_CL. GARAÑAÑA_SCTF_FENIX.xlsx\n",
      "Error creating dataframe could not append value: 2018-02-26 of type: date to the builder; make sure that all rows have the same schema or consider increasing `infer_schema_length`\n",
      "\n",
      "it might also be that a value overflows the data-type's capacity\n",
      "[('5000', '5000', '5000', '5000', '5000'), ('60515863', '60515886', '60515773', '60515783', '60515797'), (6081397.0, '6081397', '6081397', '6081397', '6081397'), ('6116604', '6116604', '6116604', '6116604', '6116604'), ('CL. GARAÑAÑA, N.35, P.1, Po.5', 'PSO CORNISA (RESIDENCIAL PANORAMA), N.35E, P.PB, Po.2', 'CL. GARAÑAÑA, RESIDENCIAL PANORAMA, N.35, P.2, Po.12', 'CL. GARAÑAÑA, N.35, P.1, Po.8', 'CL. GARAÑAÑA, N.34, P.1, Po.6'), ('COSTA DEL SILENCIO', 'COSTA DEL SILENCIO', 'COSTA DEL SILENCIO', 'COSTA DEL SILENCIO', 'COSTA DEL SILENCIO'), ('Sta. Cruz Tenerife', 'Sta. Cruz Tenerife', 'Sta. Cruz Tenerife', 'Sta. Cruz Tenerife', 'Sta. Cruz Tenerife'), ('WIP', 'WIP', 'WIP', 'WIP', 'WIP'), ('VIVIENDA', 'VIVIENDA', 'VIVIENDA', 'VIVIENDA', 'VIVIENDA'), ('7902216CS3070S0014RL', '7902216CS3070S0011QH', '7902216CS3070S0021IM', '7902216CS3070S0017UX', '7902216CS3070S0015TB'), ('', '', '', '', ''), ('', '', '', '', ''), (62200.0, 55100.0, 52000.0, 52000.0, 47800.0), (103587.0, 120446.0, 108580.0, 108580.0, 93869.0), ('67134', '67128', '67148', '67140', '67136'), ('', '', '', '', ''), ('', '', '', '', ''), ('38630', '38630', '38630', '38630', '38630'), ('TIT. INSCRITO', 'TIT. INSCRITO', 'TIT. INSCRITO', 'TIT. INSCRITO', 'TIT. INSCRITO'), ('DISPONIBLE COMERCIALIZAR', 'DISPONIBLE COMERCIALIZAR', 'DISPONIBLE COMERCIALIZAR', 'DISPONIBLE COMERCIALIZAR', 'DISPONIBLE COMERCIALIZAR'), ('REOCUPADO', 'REOCUPADO', 'REOCUPADO', 'REOCUPADO', 'REOCUPADO'), ('NO DISPONIBLE COMERCIALIZAR ALQUILERES', 'NO DISPONIBLE COMERCIALIZAR ALQUILERES', 'NO DISPONIBLE COMERCIALIZAR ALQUILERES', 'NO DISPONIBLE COMERCIALIZAR ALQUILERES', 'NO DISPONIBLE COMERCIALIZAR ALQUILERES'), ('', '', '', '', ''), (datetime.date(2018, 2, 26), datetime.date(2018, 2, 26), datetime.date(2018, 2, 26), datetime.date(2018, 2, 26), datetime.date(2018, 2, 26)), ('', '', '', '', ''), ('', '', '', '', ''), ('', '', '', '', ''), ('', '', '', '', '')]\n",
      "140 N:/CoralHudson/1. AM/8. Wholesale Channel/Ofertas recibidas SVH/2024\\20240306\\20240306_OF_5580242_PROMO_6082945_Local Heliodoro_SCTF.xlsx\n",
      "141 N:/CoralHudson/1. AM/8. Wholesale Channel/Ofertas recibidas SVH/2024\\20240307\\20240307_OF 5579939_PROMO 6083310_WIP_CL TINTS_FIGUERES_CH.xlsx\n",
      "142 N:/CoralHudson/1. AM/8. Wholesale Channel/Ofertas recibidas SVH/2024\\20240307\\20240307_OF 5580607_PROMO 6078538_WIP_CL RAVAL_ANGLES.xlsx\n",
      "143 N:/CoralHudson/1. AM/8. Wholesale Channel/Ofertas recibidas SVH/2024\\20240307\\20240307_OF_5577877_UR 60481575_NAVE_CL. CUCHIPANDA UNO, N.16_ALCALÁ DE GUADAIRA_SEVILLA.xlsx\n",
      "144 N:/CoralHudson/1. AM/8. Wholesale Channel/Ofertas recibidas SVH/2024\\20240311\\20240311 OF 5575749_PC_6080584_PROMO_SUELO_CL_ENERO_18_MADRID.xlsx\n",
      "145 N:/CoralHudson/1. AM/8. Wholesale Channel/Ofertas recibidas SVH/2024\\20240312\\20240312_OF_5573370_6072347_PROMO 6072347_WIP_CL. ROMERO RESSENDI N.3_GINES_SEVILLA_CORAL.xlsx\n",
      "146 N:/CoralHudson/1. AM/8. Wholesale Channel/Ofertas recibidas SVH/2024\\20240312\\20240312_OF_5577683_UR _60518180_SUELO_PAGO BARRIDA_CADIZ_UBRIQUE_CORAL.xlsx\n",
      "147 N:/CoralHudson/1. AM/8. Wholesale Channel/Ofertas recibidas SVH/2024\\20240312\\20240312_OF_5580605_PROMO_6073386_SUELO_AV. DE LA CAMOCHA, N.540_GIJON_ASTURIAS.xlsx\n",
      "148 N:/CoralHudson/1. AM/8. Wholesale Channel/Ofertas recibidas SVH/2024\\20240314\\20240314 OF 5579911 UR 60455907  SUELO AV JUAN XIII VALENCIA CORAL.xlsx\n",
      "149 N:/CoralHudson/1. AM/8. Wholesale Channel/Ofertas recibidas SVH/2024\\20240314\\20240314_OF_5578693_PROMO_6083351_Local Granados _SCTF.xlsx\n",
      "150 N:/CoralHudson/1. AM/8. Wholesale Channel/Ofertas recibidas SVH/2024\\20240314\\20240314_OF_5580994_UR_60517459_Nave La Peña_Viana_Navarra_CH.xlsx\n",
      "151 N:/CoralHudson/1. AM/8. Wholesale Channel/Ofertas recibidas SVH/2024\\20240315\\20240314_OF_5581105_PC_6081305_WIP_CL. MORRO AFONSO_SCTF_FENIX.xlsx\n",
      "152 N:/CoralHudson/1. AM/8. Wholesale Channel/Ofertas recibidas SVH/2024\\20240315\\20240315_OF_5578114_PC_6072817_2 PARCELAS STR SUB-CC-9.2 LAS PALOMAS (BADAJOZ) CH.xlsx\n",
      "153 N:/CoralHudson/1. AM/8. Wholesale Channel/Ofertas recibidas SVH/2024\\20240318\\20240318_OF 5580418_PROMO_6079053_AV DE LA ESTACION 53 POSADAS (CORDOBA)_CH _.xlsx\n",
      "154 N:/CoralHudson/1. AM/8. Wholesale Channel/Ofertas recibidas SVH/2024\\20240318\\20240318_OF_5574382_PC_6081420_WIP_CL. RAMON PINO_CH_SCTF.xlsx\n",
      "155 N:/CoralHudson/1. AM/8. Wholesale Channel/Ofertas recibidas SVH/2024\\20240318\\20240318_OF_5576228_UR 60488603_SUELO_Avenida Andalucia_ Loja_ Granada.xlsx\n",
      "156 N:/CoralHudson/1. AM/8. Wholesale Channel/Ofertas recibidas SVH/2024\\20240318\\20240318_OF_5579992_UR_60520007_Local Antiguo Calvario_SCTF.xlsx\n",
      "157 N:/CoralHudson/1. AM/8. Wholesale Channel/Ofertas recibidas SVH/2024\\20240319\\20240319_OF5581049_PROMO 6072001_EDIFICIO_CL PEREZ GALDOS 32_BARCELONA.xlsx\n",
      "158 N:/CoralHudson/1. AM/8. Wholesale Channel/Ofertas recibidas SVH/2024\\20240319\\20240319_OF_5580439_UR_6082576_Wips_Margarita Peña_SCTF_CH.xlsx\n",
      "159 N:/CoralHudson/1. AM/8. Wholesale Channel/Ofertas recibidas SVH/2024\\20240320\\20240320 OF 5580050 PC6102069 LOCAL CL ARTISTAS 24 MADRID.xlsx\n",
      "160 N:/CoralHudson/1. AM/8. Wholesale Channel/Ofertas recibidas SVH/2024\\20240320\\20240320_OF 5580902_UR 60455758_SUELO_URB. LA JULIANA, P.PARC, Po.5212.xlsx\n",
      "161 N:/CoralHudson/1. AM/8. Wholesale Channel/Ofertas recibidas SVH/2024\\20240320\\20240320_OF_5579358_PC_6081397_WIP_CL. GARAÑAÑA_SCTF_FENIX.xlsx\n",
      "Error creating dataframe could not append value: 2018-02-26 of type: date to the builder; make sure that all rows have the same schema or consider increasing `infer_schema_length`\n",
      "\n",
      "it might also be that a value overflows the data-type's capacity\n",
      "[('5000', '5000', '5000', '5000', '5000'), ('60515863', '60515886', '60515773', '60515783', '60515797'), ('6081397', '6081397', '6081397', '6081397', '6081397'), ('6116604', '6116604', '6116604', '6116604', '6116604'), ('CL. GARAÑAÑA, N.35, P.1, Po.5', 'PSO CORNISA (RESIDENCIAL PANORAMA), N.35E, P.PB, Po.2', 'CL. GARAÑAÑA, RESIDENCIAL PANORAMA, N.35, P.2, Po.12', 'CL. GARAÑAÑA, N.35, P.1, Po.8', 'CL. GARAÑAÑA, N.34, P.1, Po.6'), ('COSTA DEL SILENCIO', 'COSTA DEL SILENCIO', 'COSTA DEL SILENCIO', 'COSTA DEL SILENCIO', 'COSTA DEL SILENCIO'), ('Sta. Cruz Tenerife', 'Sta. Cruz Tenerife', 'Sta. Cruz Tenerife', 'Sta. Cruz Tenerife', 'Sta. Cruz Tenerife'), ('WIP', 'WIP', 'WIP', 'WIP', 'WIP'), ('VIVIENDA', 'VIVIENDA', 'VIVIENDA', 'VIVIENDA', 'VIVIENDA'), ('7902216CS3070S0014RL', '7902216CS3070S0011QH', '7902216CS3070S0021IM', '7902216CS3070S0017UX', '7902216CS3070S0015TB'), ('', '', '', '', ''), ('', '', '', '', ''), (62200.0, 55100.0, 52000.0, 52000.0, 47800.0), (103587.0, 120446.0, 108580.0, 108580.0, 93869.0), ('67134', '67128', '67148', '67140', '67136'), ('', '', '', '', ''), ('', '', '', '', ''), ('38630', '38630', '38630', '38630', '38630'), ('TIT. INSCRITO', 'TIT. INSCRITO', 'TIT. INSCRITO', 'TIT. INSCRITO', 'TIT. INSCRITO'), ('DISPONIBLE COMERCIALIZAR', 'DISPONIBLE COMERCIALIZAR', 'DISPONIBLE COMERCIALIZAR', 'DISPONIBLE COMERCIALIZAR', 'DISPONIBLE COMERCIALIZAR'), ('REOCUPADO', 'REOCUPADO', 'REOCUPADO', 'REOCUPADO', 'REOCUPADO'), ('NO DISPONIBLE COMERCIALIZAR ALQUILERES', 'NO DISPONIBLE COMERCIALIZAR ALQUILERES', 'NO DISPONIBLE COMERCIALIZAR ALQUILERES', 'NO DISPONIBLE COMERCIALIZAR ALQUILERES', 'NO DISPONIBLE COMERCIALIZAR ALQUILERES'), ('', '', '', '', ''), (datetime.date(2018, 2, 26), datetime.date(2018, 2, 26), datetime.date(2018, 2, 26), datetime.date(2018, 2, 26), datetime.date(2018, 2, 26)), ('', '', '', '', ''), ('', '', '', '', ''), ('', '', '', '', ''), ('', '', '', '', '')]\n",
      "162 N:/CoralHudson/1. AM/8. Wholesale Channel/Ofertas recibidas SVH/2024\\20240320\\20240320_OF_5580164_PC_6114643_WIP_CL. GUASIMETA-LZTE _LPA_CH_FENIX.xlsx\n",
      "163 N:/CoralHudson/1. AM/8. Wholesale Channel/Ofertas recibidas SVH/2024\\20240322\\20240322 OF 5581892 PROMO 6074979 Y 6122270 STR. APR-14, WIP VISO SAN JUAN TOLEDO CH.xlsx\n",
      "164 N:/CoralHudson/1. AM/8. Wholesale Channel/Ofertas recibidas SVH/2024\\20240322\\20240322 OF 5581893 PROMO 6072539 WIP APR-19 y APR-20.xlsx\n",
      "165 N:/CoralHudson/1. AM/8. Wholesale Channel/Ofertas recibidas SVH/2024\\20240322\\20240322_OF_5581869_PC_6079774_WIP_CL. TAGANANA_SCTF.xlsx\n",
      "166 N:/CoralHudson/1. AM/8. Wholesale Channel/Ofertas recibidas SVH/2024\\20240322\\20240323 - OF 5580501_UR6074315-  WIP - Calle Baja 33-35 - Alameda - Malaga.xlsx\n",
      "167 N:/CoralHudson/1. AM/8. Wholesale Channel/Ofertas recibidas SVH/2024\\20240325\\20240322_OF 5581556 PC 6081771_CARLOS V, 13 _LPA_CH_FENIX.xlsx\n",
      "168 N:/CoralHudson/1. AM/8. Wholesale Channel/Ofertas recibidas SVH/2024\\20240325\\20240325 OF 5579987 PROMO 6083162 CL. CHUECA, N.29, TARANCON.xlsx\n",
      "169 N:/CoralHudson/1. AM/8. Wholesale Channel/Ofertas recibidas SVH/2024\\20240325\\20240325 OF 5581830 PROMO 6081010 CL LEVA HUERTA DE VALDECARABANOS CH GRECO.xlsx\n",
      "170 N:/CoralHudson/1. AM/8. Wholesale Channel/Ofertas recibidas SVH/2024\\20240325\\20240325_OF_5581758_PROMO 6074402_NAVE_UR 60465684_ AVDA BARRERILLO 4_BORMUJOS_SEVILLA.xlsx\n",
      "171 N:/CoralHudson/1. AM/8. Wholesale Channel/Ofertas recibidas SVH/2024\\20240326\\20240326_OF_5581753_PR 60486359_NAVE_AVDA REPUBLICA ARGENTINA 2_BORMUJOS_SEVILLA_.xlsx\n",
      "172 N:/CoralHudson/1. AM/8. Wholesale Channel/Ofertas recibidas SVH/2024\\20240326\\20240326_OF_5582064_UR 60478472_NAVE_CL. RODIO N.43_SEVILLA_SEVILLA.xlsx\n",
      "173 N:/CoralHudson/1. AM/8. Wholesale Channel/Ofertas recibidas SVH/2024\\20240327\\20240327_ OF 5582016_PROMO 6083867 _EDIFICIO CALLE MATEO DE ALBA_CADIZ_CORAL.xlsx\n",
      "174 N:/CoralHudson/1. AM/8. Wholesale Channel/Ofertas recibidas SVH/2024\\20240327\\20240327_OF_5580859_UR60520927_SUELO PARBAYON_CH.xlsx\n",
      "175 N:/CoralHudson/1. AM/8. Wholesale Channel/Ofertas recibidas SVH/2024\\20240401\\20240327_OF5580286_ PROMO 6083219_OFICINAS_CL GRAN DE GRACIA 18_Barcelona.xlsx\n",
      "176 N:/CoralHudson/1. AM/8. Wholesale Channel/Ofertas recibidas SVH/2024\\20240401\\20240328_OF5579012_PROMO 6072242_WIP_CL ATENAS_AMPOSTA.xlsx\n",
      "177 N:/CoralHudson/1. AM/8. Wholesale Channel/Ofertas recibidas SVH/2024\\20240401\\20240401_ OF 5581805 _PROMO 6077399_WIP CR ESTACION-LOZOYUELA.xlsx\n",
      "178 N:/CoralHudson/1. AM/8. Wholesale Channel/Ofertas recibidas SVH/2024\\20240401\\20240401_ OF 5582187 PROMO 6083399 Y UR 60529074 LOCAL CL SAGASTA 64 Y 39  ZARAGOZA CH.xlsx\n",
      "179 N:/CoralHudson/1. AM/8. Wholesale Channel/Ofertas recibidas SVH/2024\\20240401\\20240401_OF5574985_PR 6080373_WIP_Las Lajas_Taco_SCTF.xlsx\n",
      "180 N:/CoralHudson/1. AM/8. Wholesale Channel/Ofertas recibidas SVH/2024\\20240402\\20240202_OF 5578653_PROMO 6072602_SANTA PERPETUA MOGODA, SANTIAGO RUSIÑOL 16_WIP_CH.xlsx\n",
      "181 N:/CoralHudson/1. AM/8. Wholesale Channel/Ofertas recibidas SVH/2024\\20240402\\20240401_OF5574985_PR 6080373_WIP_Las Lajas_Taco_SCTF.xlsx\n",
      "182 N:/CoralHudson/1. AM/8. Wholesale Channel/Ofertas recibidas SVH/2024\\20240402\\20240402_OF_5581740_PROMO_6080277_WIP_CL_FEDERICO_GARCIA_LORCA_GIBRALEÓN_CH.xlsx\n",
      "183 N:/CoralHudson/1. AM/8. Wholesale Channel/Ofertas recibidas SVH/2024\\20240403\\20240202_OF 5581448_ Suelo_UR60461908_ Pez Limon_Malaga.xlsx\n",
      "184 N:/CoralHudson/1. AM/8. Wholesale Channel/Ofertas recibidas SVH/2024\\20240403\\20240322_OF_5582351_UR_60767953_SUELO ALISAL_SANTANDER_CH.xlsx\n",
      "185 N:/CoralHudson/1. AM/8. Wholesale Channel/Ofertas recibidas SVH/2024\\20240403\\20240402  OF 5581414 UR 60764680 SUELO BAIX PENEDES_CAMBRILS.xlsx\n",
      "186 N:/CoralHudson/1. AM/8. Wholesale Channel/Ofertas recibidas SVH/2024\\20240403\\20240402 OF 5581634 UR 60516361 SUELO AV. 25 DE JULIO CARBALLINO ORENSE.xlsx\n",
      "187 N:/CoralHudson/1. AM/8. Wholesale Channel/Ofertas recibidas SVH/2024\\20240403\\20240402_ OF 5578544_PROMO 6121847_PARKING JAUME I-REUS.xlsx\n",
      "188 N:/CoralHudson/1. AM/8. Wholesale Channel/Ofertas recibidas SVH/2024\\20240403\\20240402_OF_5577718_UR_60461061_LOCAL_CL. EL CHOCO_LOS ABRIGOS (SCTF).xlsx\n",
      "189 N:/CoralHudson/1. AM/8. Wholesale Channel/Ofertas recibidas SVH/2024\\20240403\\20240402_OF_5580760_UR_60461061_LOCAL_CL. EL CHOCO_LOS ABRIGOS (SCTF).xlsx\n",
      "190 N:/CoralHudson/1. AM/8. Wholesale Channel/Ofertas recibidas SVH/2024\\20240403\\20240403_OF 5580966_PROMO 6072589_WIP CL PLANS_PALAFRUGELL_CH.xlsx\n",
      "191 N:/CoralHudson/1. AM/8. Wholesale Channel/Ofertas recibidas SVH/2024\\20240403\\20240403_OF_5581607_UR 60493557_TAHONA FLEMING 7_CALAÑAS (HUELVA)_CH.xlsx\n",
      "192 N:/CoralHudson/1. AM/8. Wholesale Channel/Ofertas recibidas SVH/2024\\20240403\\20240403_OF_5582736_PROMO 6082540_WIP_CL. CABO ROCA_ALGECIRAS_CADIZ.xlsx\n",
      "193 N:/CoralHudson/1. AM/8. Wholesale Channel/Ofertas recibidas SVH/2024\\20240404\\20240404 OF 5582361 PROMO 6083162 CL. CHUECA N.29 TARANCON.xlsx\n",
      "194 N:/CoralHudson/1. AM/8. Wholesale Channel/Ofertas recibidas SVH/2024\\20240404\\20240404_OF_5575659_UR_60489957_PIELAGOS_SOLAR_CH.xlsx\n",
      "195 N:/CoralHudson/1. AM/8. Wholesale Channel/Ofertas recibidas SVH/2024\\20240405\\20240404_OF 5581997_PROMO_6083597  WIP CL DOÑA SOL CONSUEGRA.xlsx\n",
      "196 N:/CoralHudson/1. AM/8. Wholesale Channel/Ofertas recibidas SVH/2024\\20240405\\20240405_OF 5580952_PROMO 6069890_C.PERE III, BERGA_PKS_CH.xlsx\n",
      "197 N:/CoralHudson/1. AM/8. Wholesale Channel/Ofertas recibidas SVH/2024\\20240405\\20240405_OF_5580439_UR_6082576_Wips_Margarita Peña_SCTF_CH.xlsx\n",
      "198 N:/CoralHudson/1. AM/8. Wholesale Channel/Ofertas recibidas SVH/2024\\20240405\\20240405_OF_5580537_PROMO_6072378_WIP_CL. FUENTE DE ZETA, N.11_BAIONA_PONTEVEDRA.xlsx\n",
      "199 N:/CoralHudson/1. AM/8. Wholesale Channel/Ofertas recibidas SVH/2024\\20240405\\20240405_OF_5582182_PCIAL_6073917_EMIRES_HUELVA_CH.xlsx\n",
      "200 N:/CoralHudson/1. AM/8. Wholesale Channel/Ofertas recibidas SVH/2024\\20240408\\20240408_ OF 5581000_ UR 60475073 Nave C Arbocet 8 Montbrio del camp-CH.xlsx\n",
      "201 N:/CoralHudson/1. AM/8. Wholesale Channel/Ofertas recibidas SVH/2024\\20240408\\20240408_OF_5580033_PR_6077152_Parcela M6 La Quinta_SCTF.xlsx\n",
      "202 N:/CoralHudson/1. AM/8. Wholesale Channel/Ofertas recibidas SVH/2024\\20240408\\20240408_OF_5580248_PC6075857_NAVE_ARRUBAL_CH.xlsx\n",
      "203 N:/CoralHudson/1. AM/8. Wholesale Channel/Ofertas recibidas SVH/2024\\20240409\\20230409_OF_5581032_PROMO 6082623_ WIP ENCINASOLA_ HUELVA_CH.xlsx\n",
      "204 N:/CoralHudson/1. AM/8. Wholesale Channel/Ofertas recibidas SVH/2024\\20240409\\20230409_OF_5581455_PROMO 6102978_WIP CL TRES DE ABRIL_BOLLULLOS PAR DEL CONDADO_HUELVA_CH.xlsx\n",
      "205 N:/CoralHudson/1. AM/8. Wholesale Channel/Ofertas recibidas SVH/2024\\20240409\\20240409_ 5582455 _Promo_6081391_WIP_Igueste de Candelaria  _SCTF.xlsx\n",
      "206 N:/CoralHudson/1. AM/8. Wholesale Channel/Ofertas recibidas SVH/2024\\20240409\\20240409_OF_5581221_PR 6080028_SUELO_CL. AUTILLO, N.7, P.PARC, U.200_SANLUCAR LA MAYOR_SEVILLA.xlsx\n",
      "207 N:/CoralHudson/1. AM/8. Wholesale Channel/Ofertas recibidas SVH/2024\\20240409\\20240409_OF_5582180_PROMOS 6079304-6081214-6081356-6144299_SUELO+WIP_STR. LAS MELGAREJAS, N.SN_SALTERAS_SEVILLA_.xlsx\n",
      "208 N:/CoralHudson/1. AM/8. Wholesale Channel/Ofertas recibidas SVH/2024\\20240410\\20240410_OF_ 5582551_Promo_60473086_Luis Vives_SCTF.xlsx\n",
      "209 N:/CoralHudson/1. AM/8. Wholesale Channel/Ofertas recibidas SVH/2024\\20240411\\20240411_ 5583020_Promo_6076450_WIP_La Pilarica  _SCTF.xlsx\n",
      "210 N:/CoralHudson/1. AM/8. Wholesale Channel/Ofertas recibidas SVH/2024\\20240411\\20240411_OF 5581698 PC 60496549_ SUELO CL. ORQUIDEAS _LPA_CH_FENIX.xlsx\n",
      "211 N:/CoralHudson/1. AM/8. Wholesale Channel/Ofertas recibidas SVH/2024\\20240411\\20240411_OF_5582418_UR_60526301_Suelo Enlace El Ramal_SCTF.xlsx\n",
      "212 N:/CoralHudson/1. AM/8. Wholesale Channel/Ofertas recibidas SVH/2024\\20240411\\20240411_OF_5583175_UR 60468290_SUELO_UE 11_SAN JOSE DEL VALLE_CADIZ.xlsx\n",
      "213 N:/CoralHudson/1. AM/8. Wholesale Channel/Ofertas recibidas SVH/2024\\20240412\\20240412_ OF5583041_UR 6073011_ OLIMPO DE MIJAS__ WIP_Mijas (Malaga).xlsx\n",
      "214 N:/CoralHudson/1. AM/8. Wholesale Channel/Ofertas recibidas SVH/2024\\20240412\\20240412_OFERTA 5581005 PROMO 6079676_SUELOS_CL BANYS DE LA SULTANA_BEGUR_CH.xlsx\n",
      "215 N:/CoralHudson/1. AM/8. Wholesale Channel/Ofertas recibidas SVH/2024\\20240412\\20240412_Oferta 5582958_UR 6076036_ San Isidro de Nijar_ CH.xlsx\n",
      "216 N:/CoralHudson/1. AM/8. Wholesale Channel/Ofertas recibidas SVH/2024\\20240412\\20240412_OF_5582620_UR_60511009_SUELO_CL PIROTECNIA 69_MADRID.xlsx\n",
      "217 N:/CoralHudson/1. AM/8. Wholesale Channel/Ofertas recibidas SVH/2024\\20240415\\20240109_ OF_ 5582263_UR 60531524_NAVE ENRIQUE GIMENO_CASTELLON.xlsx\n",
      "218 N:/CoralHudson/1. AM/8. Wholesale Channel/Ofertas recibidas SVH/2024\\20240415\\20240415_ OF5581871_UR 60477559_SUELO_CL CAMBRILS 28_MONTROIG DEL CAMP.xlsx\n",
      "219 N:/CoralHudson/1. AM/8. Wholesale Channel/Ofertas recibidas SVH/2024\\20240415\\20240415_OF 5583658_PROMO 6079089_TORNABOUS, MAJOR 38_WIP_CH.xlsx\n",
      "220 N:/CoralHudson/1. AM/8. Wholesale Channel/Ofertas recibidas SVH/2024\\20240415\\20240415_OF_5582109_UR_60526301_Suelo Enlace El Ramal_SCTF.xlsx\n",
      "221 N:/CoralHudson/1. AM/8. Wholesale Channel/Ofertas recibidas SVH/2024\\20240416\\20240416_OF 5583330_UR 60499725_TORNABOUS, MAJOR 38_WIP_CH.xlsx\n",
      "222 N:/CoralHudson/1. AM/8. Wholesale Channel/Ofertas recibidas SVH/2024\\20240417\\20240417_OF 5582906_PROMO 6079089 UR 60517816 y 60517827_TORNABOUS, MAJOR 38_WIP_CH.xlsx\n",
      "223 N:/CoralHudson/1. AM/8. Wholesale Channel/Ofertas recibidas SVH/2024\\20240417\\20240417_OF_5581017_PC_6081305_WIP_CL. MORRO AFONSO_SCTF-FENIX.xlsx\n",
      "224 N:/CoralHudson/1. AM/8. Wholesale Channel/Ofertas recibidas SVH/2024\\20240417\\20240417_OF_5582433_PROMO_6072833_SUELO_STR. 14 (POLIGONO DE BOECILLO), N.89_VALLADOLID.xlsx\n",
      "225 N:/CoralHudson/1. AM/8. Wholesale Channel/Ofertas recibidas SVH/2024\\20240417\\20240417_OF_5582833_PR_6083838_WIP_CºDE LA HONDURA _SCTF.xlsx\n",
      "226 N:/CoralHudson/1. AM/8. Wholesale Channel/Ofertas recibidas SVH/2024\\20240417\\20240417_OF_5583943_PC_6081397_WIP_CL. GARAÑAÑA_SCTF_FENIX.xlsx\n",
      "Error creating dataframe could not append value: 2018-02-26 of type: date to the builder; make sure that all rows have the same schema or consider increasing `infer_schema_length`\n",
      "\n",
      "it might also be that a value overflows the data-type's capacity\n",
      "[('5000', '5000', '5000', '5000', '5000'), ('60515863', '60515886', '60515773', '60515783', '60515797'), (6081397.0, '6081397', '6081397', '6081397', '6081397'), ('6116604', '6116604', '6116604', '6116604', '6116604'), ('CL. GARAÑAÑA, N.35, P.1, Po.5', 'PSO CORNISA (RESIDENCIAL PANORAMA), N.35E, P.PB, Po.2', 'CL. GARAÑAÑA, RESIDENCIAL PANORAMA, N.35, P.2, Po.12', 'CL. GARAÑAÑA, N.35, P.1, Po.8', 'CL. GARAÑAÑA, N.34, P.1, Po.6'), ('COSTA DEL SILENCIO', 'COSTA DEL SILENCIO', 'COSTA DEL SILENCIO', 'COSTA DEL SILENCIO', 'COSTA DEL SILENCIO'), ('Sta. Cruz Tenerife', 'Sta. Cruz Tenerife', 'Sta. Cruz Tenerife', 'Sta. Cruz Tenerife', 'Sta. Cruz Tenerife'), ('WIP', 'WIP', 'WIP', 'WIP', 'WIP'), ('VIVIENDA', 'VIVIENDA', 'VIVIENDA', 'VIVIENDA', 'VIVIENDA'), ('7902216CS3070S0014RL', '7902216CS3070S0011QH', '7902216CS3070S0021IM', '7902216CS3070S0017UX', '7902216CS3070S0015TB'), ('', '', '', '', ''), ('', '', '', '', ''), (62200.0, 55100.0, 52000.0, 52000.0, 47800.0), (103587.0, 120446.0, 108580.0, 108580.0, 93869.0), ('67134', '67128', '67148', '67140', '67136'), ('', '', '', '', ''), ('', '', '', '', ''), ('38630', '38630', '38630', '38630', '38630'), ('TIT. INSCRITO', 'TIT. INSCRITO', 'TIT. INSCRITO', 'TIT. INSCRITO', 'TIT. INSCRITO'), ('DISPONIBLE COMERCIALIZAR', 'DISPONIBLE COMERCIALIZAR', 'DISPONIBLE COMERCIALIZAR', 'DISPONIBLE COMERCIALIZAR', 'DISPONIBLE COMERCIALIZAR'), ('REOCUPADO', 'REOCUPADO', 'REOCUPADO', 'REOCUPADO', 'REOCUPADO'), ('NO DISPONIBLE COMERCIALIZAR ALQUILERES', 'NO DISPONIBLE COMERCIALIZAR ALQUILERES', 'NO DISPONIBLE COMERCIALIZAR ALQUILERES', 'NO DISPONIBLE COMERCIALIZAR ALQUILERES', 'NO DISPONIBLE COMERCIALIZAR ALQUILERES'), ('', '', '', '', ''), (datetime.date(2018, 2, 26), datetime.date(2018, 2, 26), datetime.date(2018, 2, 26), datetime.date(2018, 2, 26), datetime.date(2018, 2, 26)), ('', '', '', '', ''), ('', '', '', '', ''), ('', '', '', '', ''), ('', '', '', '', '')]\n",
      "227 N:/CoralHudson/1. AM/8. Wholesale Channel/Ofertas recibidas SVH/2024\\20240418\\20240417_OF 5583967_PR 6091133_BARCELONA, PAVIA_WIP_CH.xlsx\n",
      "228 N:/CoralHudson/1. AM/8. Wholesale Channel/Ofertas recibidas SVH/2024\\20240418\\20240418_OF 5580750_ WIP_PROMO 6082041_ CALLE CADIZ_LANJARON.xlsx\n",
      "229 N:/CoralHudson/1. AM/8. Wholesale Channel/Ofertas recibidas SVH/2024\\20240418\\20240418_OF 5582568_Promo_6073164_WIP_Candelaria Monte  _SCTF.xlsx\n",
      "230 N:/CoralHudson/1. AM/8. Wholesale Channel/Ofertas recibidas SVH/2024\\20240418\\20240418_OF 5583645_UR 60517851_TORNABOUS, MAJOR 38_WIP_CH.xlsx\n",
      "231 N:/CoralHudson/1. AM/8. Wholesale Channel/Ofertas recibidas SVH/2024\\20240418\\20240418_OF_5584108_PC_6075818_6075987_SUELO+WIP_CL. REAL.xlsx\n",
      "232 N:/CoralHudson/1. AM/8. Wholesale Channel/Ofertas recibidas SVH/2024\\20240419\\20240419_OF 5576831 PROMO 6087079 _SUELO ELS JONCARS_ST PERE PESCADOR_CH.xlsx\n",
      "233 N:/CoralHudson/1. AM/8. Wholesale Channel/Ofertas recibidas SVH/2024\\20240419\\20240419_OF 5583019_ Suelo_PROMO 6080047_ Frigiliana_Malaga.xlsx\n",
      "234 N:/CoralHudson/1. AM/8. Wholesale Channel/Ofertas recibidas SVH/2024\\20240419\\20240419_OF5578611_PROMO 6069859_WIP_ CL ST PERE _AMPOSTA.xlsx\n",
      "235 N:/CoralHudson/1. AM/8. Wholesale Channel/Ofertas recibidas SVH/2024\\20240419\\20240419_OF5583701_PROMO 6082780_WIP_CL PEREZ GALDOS 15_QUIJORNA_MADRID.xlsx\n",
      "236 N:/CoralHudson/1. AM/8. Wholesale Channel/Ofertas recibidas SVH/2024\\20240419\\20240419_OF_ 5583500 PR 6082147CL MESTRE MICHAVILA_ SAGUNTO _VALENCIA.xlsx\n",
      "237 N:/CoralHudson/1. AM/8. Wholesale Channel/Ofertas recibidas SVH/2024\\20240419\\20240419_OF_5582362_Promo 6074247 UR_60464752_SUELO_STR. PLAN PARCIAL CAMPO DE AVIACIÓN_VILLARCAYO_BURGOS.xlsx\n",
      "238 N:/CoralHudson/1. AM/8. Wholesale Channel/Ofertas recibidas SVH/2024\\20240419\\20240419_OF_5582539_PROMO 6074536_WIP_CL. CERVANTES, N.5_PALOMARES DEL RÍO_SEVILLA_CORAL.xlsx\n",
      "239 N:/CoralHudson/1. AM/8. Wholesale Channel/Ofertas recibidas SVH/2024\\20240419\\20240419_OF_5582827_UR_6074247_SUELO_STR. PLAN PARCIAL CAMPO DE AVIACIÓN_VILLARCAYO_BURGOS.xlsx\n",
      "240 N:/CoralHudson/1. AM/8. Wholesale Channel/Ofertas recibidas SVH/2024\\20240419\\20240419_OF_5583772_PROMO 6072347_WIP_CL. ROMERO RESSENDI N.3_GINES_SEVILLA_CORAL.xlsx\n",
      "241 N:/CoralHudson/1. AM/8. Wholesale Channel/Ofertas recibidas SVH/2024\\20240419\\20240419_OF_5583917_UR_60526078_CASAS_DE_CASTAÑAR 1_MERIDA_CH.xlsx\n",
      "242 N:/CoralHudson/1. AM/8. Wholesale Channel/Ofertas recibidas SVH/2024\\20240419\\20240419_OF_5584240_PR 6074402_NAVE_ AVDA BARRERILLO 4_BORMUJOS_SEVILLA.xlsx\n",
      "243 N:/CoralHudson/1. AM/8. Wholesale Channel/Ofertas recibidas SVH/2024\\20240422\\20240422_OF5577844_ Suelo_UR60521695_Calle Fray Vicente Pinilla_Motril.xlsx\n",
      "244 N:/CoralHudson/1. AM/8. Wholesale Channel/Ofertas recibidas SVH/2024\\20240422\\20240422_OF_5582800_PROMO_6071352_WIP_Candelaria_SCTF.xlsx\n",
      "245 N:/CoralHudson/1. AM/8. Wholesale Channel/Ofertas recibidas SVH/2024\\20240422\\20240422_OF_5583709_PROMO_6082028_WIP_Fuencaliente_SCTF.xlsx\n",
      "246 N:/CoralHudson/1. AM/8. Wholesale Channel/Ofertas recibidas SVH/2024\\20240423\\20240423 OFERTA 5579533 PROMO 6073945 WIP ANDRATX.xlsx\n",
      "247 N:/CoralHudson/1. AM/8. Wholesale Channel/Ofertas recibidas SVH/2024\\20240423\\20240423 OFERTA 5584147 PROMO 6073609 VIVIENDA, ROTA, CADIZ.xlsx\n",
      "248 N:/CoralHudson/1. AM/8. Wholesale Channel/Ofertas recibidas SVH/2024\\20240423\\20240423_OF_5583510_PROMO 6082032_SUELO_CL. SUP-8 RUEDOS DE CONSOLACION M23-24_UTRERA_SEVILLA.xlsx\n",
      "249 N:/CoralHudson/1. AM/8. Wholesale Channel/Ofertas recibidas SVH/2024\\20240423\\20240423_OF_5583836_UR_60531816_ SUNC_CL_SAN PEDRO_LLERENA_CH.xlsx\n",
      "250 N:/CoralHudson/1. AM/8. Wholesale Channel/Ofertas recibidas SVH/2024\\20240424\\20240424_OF 5583617_PR 6079089_TORNABOUS, MAJOR 38_WIP_CH.xlsx\n",
      "251 N:/CoralHudson/1. AM/8. Wholesale Channel/Ofertas recibidas SVH/2024\\20240424\\20240424_OF 5584048_UR 60479517 CL BRONCE YUNCOS CH.xlsx\n",
      "252 N:/CoralHudson/1. AM/8. Wholesale Channel/Ofertas recibidas SVH/2024\\20240424\\20240424_OF 5584184 - UR 60525806_SABADELL, GRACIA 68_SUELO_CH.xlsx\n",
      "253 N:/CoralHudson/1. AM/8. Wholesale Channel/Ofertas recibidas SVH/2024\\20240424\\20240424_OF_ 55583845_Promo_60473086_Luis Vives_SCTF.xlsx\n",
      "254 N:/CoralHudson/1. AM/8. Wholesale Channel/Ofertas recibidas SVH/2024\\20240424\\20240424_OF_5583393_PROMOS 6078448 Y 6077508_SUNC LA CARLOTA (CORDOBA)_CH.xlsx\n",
      "255 N:/CoralHudson/1. AM/8. Wholesale Channel/Ofertas recibidas SVH/2024\\20240425\\20240425_OF 5584281_PC 6081177_WIP CL. TENESOR SEMIDAN-LPA-CH FENIXII.xlsx\n",
      "256 N:/CoralHudson/1. AM/8. Wholesale Channel/Ofertas recibidas SVH/2024\\20240425\\20240425_OFERTA Nº 5583612_PROMO 6082349 SUELO VILLATUERTA IRANZU, NAVARRA.xlsx\n",
      "257 N:/CoralHudson/1. AM/8. Wholesale Channel/Ofertas recibidas SVH/2024\\20240425\\20240425_OF_5582125_PROMO 6141542_SUELO_ AV. GRANJA N.15_ JEREZ DE LA FRA_CADIZ.xlsx\n",
      "258 N:/CoralHudson/1. AM/8. Wholesale Channel/Ofertas recibidas SVH/2024\\20240425\\20240425_OF_5582215_PROMO_6073388_SUELO_STR. UNIDAD DE ACTUACION 1 SECTOR 3_VILLALOBON_PALENCIA.xlsx\n",
      "259 N:/CoralHudson/1. AM/8. Wholesale Channel/Ofertas recibidas SVH/2024\\20240425\\20240425_OF_5583159_PR_6074247_SUELO_STR. PLAN PARCIAL CAMPO DE AVIACIÓN_VILLARCAYO_BURGOS.xlsx\n",
      "260 N:/CoralHudson/1. AM/8. Wholesale Channel/Ofertas recibidas SVH/2024\\20240426\\20240426_ OF 5581117 UR 6081141 _WIP Lujo y Herrera _SC Tfe_CH.xlsx\n",
      "261 N:/CoralHudson/1. AM/8. Wholesale Channel/Ofertas recibidas SVH/2024\\20240429\\20240429_OF 5584717 PC 6081771_CARLOS V, 13 _LPA_CH_FENIX II.xlsx\n",
      "262 N:/CoralHudson/1. AM/8. Wholesale Channel/Ofertas recibidas SVH/2024\\20240429\\20240429_OF_5582943_UR_60530149_NAVE_CL CAMINO CORTAO 6_MADRID_CH.xlsx\n",
      "263 N:/CoralHudson/1. AM/8. Wholesale Channel/Ofertas recibidas SVH/2024\\20240429\\20240429_OF_5584581_PR 6080584_SUELO_C ENERO 20_MADRID.xlsx\n",
      "264 N:/CoralHudson/1. AM/8. Wholesale Channel/Ofertas recibidas SVH/2024\\20240429\\20240429_OF_5584656 _PC_6075610_Wips_Ctra. General TF-3118_SCTF.xlsx\n",
      "265 N:/CoralHudson/1. AM/8. Wholesale Channel/Ofertas recibidas SVH/2024\\20240429\\OF_5583734_PR_6077421_PROMO SUELO_URB FUENTE ELVIRA_GALAPAGAR_MADRID.xlsx\n",
      "266 N:/CoralHudson/1. AM/8. Wholesale Channel/Ofertas recibidas SVH/2024\\20240430\\20240430_OF 5584881_PROMO6072261_WIP_AV. DE LA GRAN BRETAÑA, N.3_CADIZ_CHICLANA_CORAL.xlsx\n",
      "267 N:/CoralHudson/1. AM/8. Wholesale Channel/Ofertas recibidas SVH/2024\\20240430\\20240430_OF_5582835_UR _6110604 NAVE_CL. BÉLGICA - POLÍGONO INDUSTRIAL TROCADERO, N.32-34, P.PARC_PUERTO REAL_CADIZ.xlsx\n",
      "268 N:/CoralHudson/1. AM/8. Wholesale Channel/Ofertas recibidas SVH/2024\\20240430\\20240430_OF_5585024_PR_6073649_LOCAL_CL. EL CHOCO_LOS ABRIGOS (SCTF).xlsx\n",
      "269 N:/CoralHudson/1. AM/8. Wholesale Channel/Ofertas recibidas SVH/2024\\20240430\\20240430_OF_5585082_PCIAL_6136595_LADERAS SAN GINES_ARACENA_HUELVA_CH.xlsx\n",
      "270 N:/CoralHudson/1. AM/8. Wholesale Channel/Ofertas recibidas SVH/2024\\20240506\\20240506 OF 5585283 UR 60446463 SUELO AREA INTERVENCION G 56-13 ZARAGOZA CH.xlsx\n",
      "271 N:/CoralHudson/1. AM/8. Wholesale Channel/Ofertas recibidas SVH/2024\\20240506\\20240506_OF 5584346_PROMO_6074683 WIP CL DE CARMENA SANTA OLALLA TOLEDO CH.xlsx\n",
      "272 N:/CoralHudson/1. AM/8. Wholesale Channel/Ofertas recibidas SVH/2024\\20240506\\20240506_OF 5585271 PC 60496549_ SUELO CL. ORQUIDEAS _LPA_CH_FENIX II.xlsx\n",
      "273 N:/CoralHudson/1. AM/8. Wholesale Channel/Ofertas recibidas SVH/2024\\20240506\\20240506_OF 5585485_PC_6081487_WIP_CL. ISLA DEL HIERRO_CH_SCTF FENIX II.xlsx\n",
      "274 N:/CoralHudson/1. AM/8. Wholesale Channel/Ofertas recibidas SVH/2024\\20240506\\20240506_OF_5578718_PCIAL_6082409_PP_I4_LAS CANTERAS_MONTILLA(CORDOBA)_CH.xlsx\n",
      "275 N:/CoralHudson/1. AM/8. Wholesale Channel/Ofertas recibidas SVH/2024\\20240506\\20240506_OF_5582254_PROMO 6074601_SUELO_PERI BG-1 BAJO DE GUÍA, UE-1 Y ÁREA DE REPARTO 112_SANLÚCAR DE BARRAMEDA_CÁDIZ.xlsx\n",
      "276 N:/CoralHudson/1. AM/8. Wholesale Channel/Ofertas recibidas SVH/2024\\20240506\\20240506_OF_5583722_PCIAL_6079780_WIP_AVDA DE LA TORRE_SAN BARTOLOME DE LA TORRE (HUELVA)_CH.xlsx\n",
      "277 N:/CoralHudson/1. AM/8. Wholesale Channel/Ofertas recibidas SVH/2024\\20240506\\20240506_OF_5585211_UR60520927_SUELO PARBAYON_CH.xlsx\n",
      "278 N:/CoralHudson/1. AM/8. Wholesale Channel/Ofertas recibidas SVH/2024\\20240506\\20240506_OF_5585327_PCIAL_6073103_CL PELAYO_PEÑARROYA_(CORDOBA)_CH.xlsx\n",
      "Done. Loaded 279 files in 49.76681390000158 seconds\n"
     ]
    }
   ],
   "source": [
    "data = []\n",
    "final_data = []\n",
    "\n",
    "start = time.perf_counter()\n",
    "\n",
    "\n",
    "for idx, item in enumerate(ofertas_random):\n",
    "    file_name_short = os.path.basename(item)\n",
    "    # print(f\"Opening file {idx}: {item}\")\n",
    "    print(idx, item)\n",
    "    wb_inmemory = CalamineWorkbook.from_path(item)\n",
    "    nombre_hoja_ficha = find_shtname_from_pattern(wb_inmemory.sheet_names, \"ficha\")\n",
    "    # Implementar regex y obtener indice\n",
    "    datitos = wb_inmemory.get_sheet_by_name(nombre_hoja_ficha).to_python()\n",
    "    inicio = get_idx_of_pattern_col(\"oferta$\", list(zip(*datitos)))\n",
    "    data = datitos[inicio:]\n",
    "    erres = {}\n",
    "    for label, coords in conf.items():\n",
    "        x, y = coords\n",
    "        # print(f\"{label} is:\", wb_prueba[x][y])\n",
    "        erres[label] = data[x - inicio - 1][y - 1]\n",
    "    # part 2, the sap data\n",
    "    try:\n",
    "        nombre_hoja_sap = find_shtname_from_pattern(wb_inmemory.sheet_names, \"sap\")\n",
    "    except IndexError as e:\n",
    "        print(\"Error:\", e)\n",
    "        nombre_hoja_sap = find_shtname_from_pattern(wb_inmemory.sheet_names, \"oferta\")\n",
    "\n",
    "    hoja = CalamineWorkbook.from_path(item).get_sheet_by_name(nombre_hoja_sap)\n",
    "\n",
    "    if hoja.total_height > 1:\n",
    "        rows_to_select = hoja.total_height\n",
    "    else:\n",
    "        rows_to_select = None\n",
    "    data_rows = hoja.to_python(skip_empty_area=False, nrows=rows_to_select)\n",
    "    idx_of_ur_col = get_idx_of_pattern_col(\"registral\", data_rows)\n",
    "    _, valid_data = get_valid_data(data_rows, idx_of_ur_col)\n",
    "    df_data = (\n",
    "        pl.DataFrame(erres)\n",
    "        .with_columns(\n",
    "            [\n",
    "                pl.when(pl.col(pl.Utf8).str.len_bytes() == 0)\n",
    "                .then(None)\n",
    "                .otherwise(pl.col(pl.Utf8))\n",
    "                .name.keep()\n",
    "            ]\n",
    "        )\n",
    "        # casting, relaxed first then enforced\n",
    "        .cast(pl.String)\n",
    "        .cast(tipos_datos, strict=False)\n",
    "        .cast(second_pass_cast)\n",
    "    )\n",
    "\n",
    "    # get the sap data metrics/aggregates\n",
    "    try:\n",
    "        df_sap = pl.DataFrame(valid_data, strict=False)\n",
    "    except pl.ComputeError as e:\n",
    "        print(\"Error creating dataframe\", e)\n",
    "        flipped = list(zip(*valid_data))[:5]\n",
    "        valid_data = list(zip(*flipped))\n",
    "        print(valid_data)\n",
    "        df_sap = pl.DataFrame(valid_data, strict=False)\n",
    "    try:\n",
    "        df_sap = df_sap.select(\n",
    "            pl.col(f\"column_{idx_of_ur_col}\")\n",
    "            .cast(pl.UInt32)\n",
    "            .implode()\n",
    "            .list.unique()\n",
    "            .alias(\"urs_unicos\"),\n",
    "            pl.col(f\"column_{idx_of_ur_col}\")\n",
    "            .implode()\n",
    "            .list.unique()\n",
    "            .list.len()\n",
    "            .cast(pl.UInt16)\n",
    "            .alias(\"total_urs\"),\n",
    "        )\n",
    "    except pl.ComputeError as e:\n",
    "        print(\"Error in file:\", item, \"for column index\", idx_of_ur_col)\n",
    "        print(df_sap)\n",
    "        raise e\n",
    "    except pl.ColumnNotFoundError as e:\n",
    "        print(\"Error in file:\", item, \"for column index\", idx_of_ur_col)\n",
    "        print(df_sap)\n",
    "        raise e\n",
    "    united_df = pl.concat([df_data, df_sap], how=\"horizontal\").with_columns(\n",
    "        pl.col(\"delegate\").str.to_titlecase().name.keep(),\n",
    "        pl.col(\"client_name\").str.to_titlecase().name.keep(),\n",
    "        pl.col(\"svh_recommendation\").str.to_titlecase().name.keep(),\n",
    "        pl.col(\"client_email\").str.to_lowercase().name.keep(),\n",
    "        full_path=pl.lit(item),\n",
    "        file_name=pl.lit(file_name_short),\n",
    "    )\n",
    "\n",
    "    final_data.append(united_df)\n",
    "\n",
    "print(\n",
    "    f\"Done. Loaded {len(ofertas_random)} files in {time.perf_counter() - start} seconds\"\n",
    ")"
   ]
  },
  {
   "cell_type": "code",
   "execution_count": 155,
   "metadata": {},
   "outputs": [
    {
     "name": "stdout",
     "output_type": "stream",
     "text": [
      "0 ['Num. \\r\\nOFERTA', 'Precio web', 'TASACIÓN\\r\\nV.MERCADO', 'OFERTA', '', 'DOSSIER COMERCIAL', 'PRECIO SAP', 'OFERTANTE', '', '', '', '', '']\n",
      "1 [5583734.0, 'A/C', 391228.9999999999, 224000.0, '', 'SI', 0.0, 'NOMBRE', '', 'CESCASA INMOB Y GESTIÓN DE VIVIENDAS S.L', '', '', '']\n",
      "2 ['', '', '', '', '', '', '', 'CIF', '', 'B82212812', '', '', '']\n",
      "3 ['Delegado', 'TOMAS LOPEZ HERRERA', '', '', '', 'Publicado web SvH/No publicado en web', 'ROLL UP', 'TELEFONO', '', 918425582.0, '', '', '']\n",
      "4 ['Segmentación', 'B', '', '', '', 'Si', '', 'EMAIL', '', '\\t\\r\\nCESCASA@CESCASA.COM', '', '', '']\n",
      "5 ['Reunion Comprador', 'NO', '', '', '', '', '', 'DIRECCION', '', 'C/ Galapagar 4 _  28270 Colmenarejo', '', '', '']\n",
      "6 ['DESCRIPCIÓN DEL ACTIVO', '', '', '', '', '', '', 'CONDICIONES OFERTANTE', '', '', '', '', '']\n",
      "7 ['Conjunto de suelos rústicos destinados a uso residencial en Urbanización Fuente Elvira, Galapagar.\\r\\n\\r\\nSuelos rústicos situados al suroeste de Galapagar, lindando con el término municipal de Colmenarejo y a unos 30 km de la capital. Zona en desarrollo con buenos accesos y comunicaciones próxima a la A-6.', '', '', '', '', '', '', 'DD:', '', 'E.P. 30/05/2024', '', '', '']\n",
      "8 ['', '', '', '', '', '', '', 'Arras:', '', '', '', '', '']\n",
      "9 ['', '', '', '', '', '', '', 'EP:', 1.0, '', '', '', '']\n",
      "10 ['', '', '', '', '', '', '', 'Sup. Parcela', '', 'Edificabilidad', 'Uso ppal', '', '']\n",
      "11 ['', '', '', '', '', '', '', '(m2)', '', '(m2)', '', '', '']\n",
      "12 ['', '', '', '', '', '', '', 10856.0, '', 4000.0, 'RESI', '', '']\n",
      "13 ['', '', '', '', '', '', '', '', '', '', '', '', '']\n",
      "14 ['PLANEAMIENTO', '', 'PROY.REPARCELACION', '', 'PROY. URBANIZACION', '', 'OBRAS URBA.', 'SIT. COMERCIAL', '', 'SIT.\\r\\nJURIDICA', 'SIT. POSESORIA', '', '']\n",
      "15 ['', '', '', '', '', '', '', 'DISPONIBLE COMERCIALIZAR', '', 'TIT. INSCRITO', 'LIBRE CON POSESION', '', '']\n",
      "16 ['', '', '', '', '', '', '', '', '', '', '', '', '']\n",
      "17 ['OPINIÓN SERVIHABITAT (SVH)', '', '', '', '', '', '', 'RECOMENDACIÓN SVH', '', '', 'REPERCUSIÓN', '', '']\n",
      "18 ['Se propone contraofertar ya que se encuentran testigos en la zona con un valor medio de 75 € m2 de suelo, entendemos que un precio de cierre de la operación estria sobre los 50€/m2 suelo. No existe mucha oferta de suelo en la zona de influencia.', '', '', '', '', '', '', 'CONTRAOFERTAR', '', '', 56.0, '', '']\n",
      "19 ['', '', '', '', '', '', '', '', '', '', '', '', '']\n",
      "20 ['', '', '', '', '', '', '', 'ORIGEN OFERTA', '', '', '', '', '']\n",
      "21 ['', '', '', '', '', '', '', 'API', '', 'OC / ID:', 'A001081436', '', 'vb']\n",
      "22 ['Num. \\r\\nOFERTA', 'FECHA', 'IMPORTE', 'APROBACIÓN CORAL', '', 'OFERTANTE', '', 'CONDICIONES APROBACIÓN', '', '', '', '', '']\n",
      "23 ['', datetime.date(2022, 2, 14), 128000.0, 'Anulada', '', 'Guadalix para Vivir  S L', '', '', '', '', '', '', '']\n",
      "24 ['', '', '', '', '', '', '', '', '', '', '', '', '']\n",
      "25 ['', '', '', '', '', '', '', '', '', '', '', '', '']\n",
      "26 ['', '', '', '', '', '', '', '', '', '', '', '', '']\n",
      "27 ['DISPONIBLE COMERCIALIZAR', '', datetime.date(2018, 11, 10), '', '', '', '', '', '', '', '', '', '']\n",
      "28 ['', '', '', '', '', '', '', '', '', '', '', '', '']\n",
      "29 ['', '', '', '', '', '', '', '', '', '', '', '', '']\n",
      "30 ['', '', '', '', '', '', '', '', '', '', '', '', '']\n",
      "31 ['', '', '', '', '', '', '', '', '', '', '', '', '']\n",
      "32 ['', '', '', '', '', '', '', '', '', '', '', '', '']\n",
      "33 ['', '', '', '', '', '', '', '', '', '', '', '', '']\n",
      "34 ['', '', '', '', '', '', '', '', '', '', '', '', '']\n",
      "35 ['', '', '', '', '', '', '', '', '', '', '', '', '']\n",
      "36 ['', '', '', '', '', '', '', '', '', '', '', '', '']\n",
      "37 ['', '', '', '', '', '', '', '', '', '', '', '', '']\n",
      "38 ['', '', '', '', '', '', '', '', '', '', '', '', '']\n",
      "39 ['', '', '', '', '', '', '', '', '', '', '', '', '']\n",
      "40 ['', '', '', '', '', '', '', '', '', '', '', '', '']\n",
      "41 ['', '', '', '', '', '', '', '', '', '', '', '', '']\n",
      "42 ['', '', '', '', '', '', '', '', '', '', '', '', '']\n",
      "43 ['', '', '', '', '', '', '', '', '', '', '', '', '']\n",
      "44 ['', '', '', '', '', '', '', '', '', '', '', '', '']\n",
      "45 ['', '', '', '', '', '', '', '', '', '', '', '', '']\n",
      "46 ['', '', '', '', '', '', '', '', '', '', '', '', '']\n",
      "47 ['', '', '', '', '', '', '', '', '', '', '', '', '']\n",
      "48 ['', '', '', '', '', '', '', '', '', '', '', '', '']\n",
      "49 ['', '', '', '', '', '', '', '', '', '', '', '', '']\n",
      "50 ['', '', '', '', '', '', '', '', '', '', '', '', '']\n",
      "51 ['', '', '', '', '', '', '', '', '', '', '', '', '']\n",
      "52 ['', '', '', '', '', '', '', '', '', '', '', '', '']\n",
      "53 ['', '', '', '', '', '', '', '', '', '', '', '', '']\n",
      "54 ['', '', '', '', '', '', '', '', '', '', '', '', '']\n",
      "55 ['', '', '', '', '', '', '', '', '', '', '', '', '']\n",
      "56 ['', '', '', '', '', '', '', '', '', '', '', '', '']\n",
      "57 ['', '', '', '', '', '', '', '', '', '', '', '', '']\n",
      "58 ['', '', '', '', '', '', '', '', '', '', '', '', '']\n",
      "59 ['', '', '', '', '', 'RED CAIXA', 'KXA', 'SÍ', '', 'VENDER', 'RESI', '', '']\n",
      "60 ['', '', '', '', '', 'CAIXA CON API ACOMPAÑAMIENTO', 'SVH', 'NO', '', 'CONTRAOFERTAR', 'INDUSTRIAL', '', '']\n",
      "61 ['', '', '', '', '', 'API', 'API', 'CONTRAOFERTAR', '', 'RECHAZAR', 'OFICINAS', '', '']\n",
      "62 ['', '', '', '', '', 'SERVIHABITAT', '', '', '', '', 'COMERCIAL', '', '']\n",
      "63 ['', '', '', '', '', 'SVH CON API ACOMPAÑAMIENTO', '', '', '', '', 'DOTACIONAL', '', '']\n",
      "64 ['', '', '', '', '', '', '', '', '', '', 'PARKINGS', '', '']\n"
     ]
    }
   ],
   "source": [
    "from conf.functions import retrieve_all_info\n",
    "\n",
    "# comprobemos ahora las posiciones relativas y mejoremos la ubicacion\n",
    "# ficherito = \"N:/CoralHudson/1. AM/8. Wholesale Channel/Ofertas recibidas SVH/2024/20240424/20240424_OF_ 55583845_Promo_60473086_Luis Vives_SCTF.xlsx\"\n",
    "ficherito = \"//EURFL01/advisors.hal/non-hudson/Coral Homes/CoralHudson/1. AM/8. Wholesale Channel/Ofertas recibidas SVH/2024/20240429/OF_5583734_PR_6077421_PROMO SUELO_URB FUENTE ELVIRA_GALAPAGAR_MADRID.xlsx\"\n",
    "datitos = CalamineWorkbook.from_path(ficherito).get_sheet_by_index(0).to_python()\n",
    "inicio = get_idx_of_pattern_col(\"oferta$\", list(zip(*datitos)))\n",
    "# get_valid_data(datitos, inicio)\n",
    "# retrieve_all_info(\n",
    "#     [ficherito], config_file=\"./conf/xy_offer_labels.json\", fallback_sample_limit=5\n",
    "# )\n",
    "datos = datitos[inicio:]\n",
    "for idx, val in enumerate(datos):\n",
    "    print(idx, val)\n"
   ]
  },
  {
   "cell_type": "code",
   "execution_count": null,
   "metadata": {},
   "outputs": [],
   "source": [
    "# usado para traer los datos de sap correctamente!!\n",
    "def get_valid_data(\n",
    "    sheet_as_values_list: List[str], idx_column_to_count: int\n",
    ") -> List[str]:\n",
    "    hdrs = sheet_as_values_list[0]\n",
    "    valid_headers = list(filter(lambda x: len(x) > 0, hdrs))\n",
    "    raw_data = list(zip(*sheet_as_values_list))[: len(valid_headers)]\n",
    "    # raw_data = list(zip(*sheet_as_values_list]))[: len(valid_headers)]\n",
    "    actual_height = len(list(filter(lambda x: x != \"\", raw_data[idx_column_to_count])))\n",
    "    # check the lenght of non-empty items in the first or second column, then crop the data up to that number\n",
    "    valid_data = list(zip(*sheet_as_values_list[1:actual_height]))[: len(valid_headers)]\n",
    "    return valid_headers, valid_data\n",
    "\n",
    "\n",
    "errorcito = ofertas_random[24]\n",
    "print(errorcito)\n",
    "errorcito = CalamineWorkbook.from_path(errorcito).get_sheet_by_index(1).to_python()\n",
    "idx_of_ur_col = get_idx_of_pattern_col(\"registral\", data_rows)\n",
    "get_valid_data(errorcito, idx_of_ur_col)\n"
   ]
  },
  {
   "cell_type": "code",
   "execution_count": 145,
   "metadata": {},
   "outputs": [
    {
     "name": "stdout",
     "output_type": "stream",
     "text": [
      "0 \t 39 \t [UInt32, Float32, Float32, Float32, Float32, String, String, String, String, String, String, Float32, Float32, Float32, String, String, String, String, String, String, String, String, String, Float32, Float32, String, String, String, String, String, String, String, UInt64, String, String, List(UInt32), UInt16, String, String]\n",
      "1 \t 39 \t [UInt32, Float32, Float32, Float32, Float32, String, String, String, String, String, String, Float32, Float32, Float32, String, String, String, String, String, String, String, String, String, Float32, Float32, String, String, String, String, String, String, String, UInt64, String, String, List(UInt32), UInt16, String, String]\n",
      "2 \t 39 \t [UInt32, Float32, Float32, Float32, Float32, String, String, String, String, String, String, Float32, Float32, Float32, String, String, String, String, String, String, String, String, String, Float32, Float32, String, String, String, String, String, String, String, UInt64, String, String, List(UInt32), UInt16, String, String]\n",
      "3 \t 39 \t [UInt32, Float32, Float32, Float32, Float32, String, String, String, String, String, String, Float32, Float32, Float32, String, String, String, String, String, String, String, String, String, Float32, Float32, String, String, String, String, String, String, String, UInt64, String, String, List(UInt32), UInt16, String, String]\n",
      "4 \t 39 \t [UInt32, Float32, Float32, Float32, Float32, String, String, String, String, String, String, Float32, Float32, Float32, String, String, String, String, String, String, String, String, String, Float32, Float32, String, String, String, String, String, String, String, UInt64, String, String, List(UInt32), UInt16, String, String]\n",
      "5 \t 39 \t [UInt32, Float32, Float32, Float32, Float32, String, String, String, String, String, String, Float32, Float32, Float32, String, String, String, String, String, String, String, String, String, Float32, Float32, String, String, String, String, String, String, String, UInt64, String, String, List(UInt32), UInt16, String, String]\n",
      "6 \t 39 \t [UInt32, Float32, Float32, Float32, Float32, String, String, String, String, String, String, Float32, Float32, Float32, String, String, String, String, String, String, String, String, String, Float32, Float32, String, String, String, String, String, String, String, UInt64, String, String, List(UInt32), UInt16, String, String]\n",
      "7 \t 39 \t [UInt32, Float32, Float32, Float32, Float32, String, String, String, String, String, String, Float32, Float32, Float32, String, String, String, String, String, String, String, String, String, Float32, Float32, String, String, String, String, String, String, String, UInt64, String, String, List(UInt32), UInt16, String, String]\n",
      "8 \t 39 \t [UInt32, Float32, Float32, Float32, Float32, String, String, String, String, String, String, Float32, Float32, Float32, String, String, String, String, String, String, String, String, String, Float32, Float32, String, String, String, String, String, String, String, UInt64, String, String, List(UInt32), UInt16, String, String]\n",
      "9 \t 39 \t [UInt32, Float32, Float32, Float32, Float32, String, String, String, String, String, String, Float32, Float32, Float32, String, String, String, String, String, String, String, String, String, Float32, Float32, String, String, String, String, String, String, String, UInt64, String, String, List(UInt32), UInt16, String, String]\n",
      "10 \t 39 \t [UInt32, Float32, Float32, Float32, Float32, String, String, String, String, String, String, Float32, Float32, Float32, String, String, String, String, String, String, String, String, String, Float32, Float32, String, String, String, String, String, String, String, UInt64, String, String, List(UInt32), UInt16, String, String]\n",
      "11 \t 39 \t [UInt32, Float32, Float32, Float32, Float32, String, String, String, String, String, String, Float32, Float32, Float32, String, String, String, String, String, String, String, String, String, Float32, Float32, String, String, String, String, String, String, String, UInt64, String, String, List(UInt32), UInt16, String, String]\n",
      "12 \t 39 \t [UInt32, Float32, Float32, Float32, Float32, String, String, String, String, String, String, Float32, Float32, Float32, String, String, String, String, String, String, String, String, String, Float32, Float32, String, String, String, String, String, String, String, UInt64, String, String, List(UInt32), UInt16, String, String]\n",
      "13 \t 39 \t [UInt32, Float32, Float32, Float32, Float32, String, String, String, String, String, String, Float32, Float32, Float32, String, String, String, String, String, String, String, String, String, Float32, Float32, String, String, String, String, String, String, String, UInt64, String, String, List(UInt32), UInt16, String, String]\n",
      "14 \t 39 \t [UInt32, Float32, Float32, Float32, Float32, String, String, String, String, String, String, Float32, Float32, Float32, String, String, String, String, String, String, String, String, String, Float32, Float32, String, String, String, String, String, String, String, UInt64, String, String, List(UInt32), UInt16, String, String]\n",
      "15 \t 39 \t [UInt32, Float32, Float32, Float32, Float32, String, String, String, String, String, String, Float32, Float32, Float32, String, String, String, String, String, String, String, String, String, Float32, Float32, String, String, String, String, String, String, String, UInt64, String, String, List(UInt32), UInt16, String, String]\n",
      "16 \t 39 \t [UInt32, Float32, Float32, Float32, Float32, String, String, String, String, String, String, Float32, Float32, Float32, String, String, String, String, String, String, String, String, String, Float32, Float32, String, String, String, String, String, String, String, UInt64, String, String, List(UInt32), UInt16, String, String]\n",
      "17 \t 39 \t [UInt32, Float32, Float32, Float32, Float32, String, String, String, String, String, String, Float32, Float32, Float32, String, String, String, String, String, String, String, String, String, Float32, Float32, String, String, String, String, String, String, String, UInt64, String, String, List(UInt32), UInt16, String, String]\n",
      "18 \t 39 \t [UInt32, Float32, Float32, Float32, Float32, String, String, String, String, String, String, Float32, Float32, Float32, String, String, String, String, String, String, String, String, String, Float32, Float32, String, String, String, String, String, String, String, UInt64, String, String, List(UInt32), UInt16, String, String]\n",
      "19 \t 39 \t [UInt32, Float32, Float32, Float32, Float32, String, String, String, String, String, String, Float32, Float32, Float32, String, String, String, String, String, String, String, String, String, Float32, Float32, String, String, String, String, String, String, String, UInt64, String, String, List(UInt32), UInt16, String, String]\n",
      "20 \t 39 \t [UInt32, Float32, Float32, Float32, Float32, String, String, String, String, String, String, Float32, Float32, Float32, String, String, String, String, String, String, String, String, String, Float32, Float32, String, String, String, String, String, String, String, UInt64, String, String, List(UInt32), UInt16, String, String]\n",
      "21 \t 39 \t [UInt32, Float32, Float32, Float32, Float32, String, String, String, String, String, String, Float32, Float32, Float32, String, String, String, String, String, String, String, String, String, Float32, Float32, String, String, String, String, String, String, String, UInt64, String, String, List(UInt32), UInt16, String, String]\n",
      "22 \t 39 \t [UInt32, Float32, Float32, Float32, Float32, String, String, String, String, String, String, Float32, Float32, Float32, String, String, String, String, String, String, String, String, String, Float32, Float32, String, String, String, String, String, String, String, UInt64, String, String, List(UInt32), UInt16, String, String]\n",
      "23 \t 39 \t [UInt32, Float32, Float32, Float32, Float32, String, String, String, String, String, String, Float32, Float32, Float32, String, String, String, String, String, String, String, String, String, Float32, Float32, String, String, String, String, String, String, String, UInt64, String, String, List(UInt32), UInt16, String, String]\n",
      "24 \t 39 \t [UInt32, Float32, Float32, Float32, Float32, String, String, String, String, String, String, Float32, Float32, Float32, String, String, String, String, String, String, String, String, String, Float32, Float32, String, String, String, String, String, String, String, UInt64, String, String, List(UInt32), UInt16, String, String]\n",
      "25 \t 39 \t [UInt32, Float32, Float32, Float32, Float32, String, String, String, String, String, String, Float32, Float32, Float32, String, String, String, String, String, String, String, String, String, Float32, Float32, String, String, String, String, String, String, String, UInt64, String, String, List(UInt32), UInt16, String, String]\n",
      "26 \t 39 \t [UInt32, Float32, Float32, Float32, Float32, String, String, String, String, String, String, Float32, Float32, Float32, String, String, String, String, String, String, String, String, String, Float32, Float32, String, String, String, String, String, String, String, UInt64, String, String, List(UInt32), UInt16, String, String]\n",
      "27 \t 39 \t [UInt32, Float32, Float32, Float32, Float32, String, String, String, String, String, String, Float32, Float32, Float32, String, String, String, String, String, String, String, String, String, Float32, Float32, String, String, String, String, String, String, String, UInt64, String, String, List(UInt32), UInt16, String, String]\n",
      "28 \t 39 \t [UInt32, Float32, Float32, Float32, Float32, String, String, String, String, String, String, Float32, Float32, Float32, String, String, String, String, String, String, String, String, String, Float32, Float32, String, String, String, String, String, String, String, UInt64, String, String, List(UInt32), UInt16, String, String]\n",
      "29 \t 39 \t [UInt32, Float32, Float32, Float32, Float32, String, String, String, String, String, String, Float32, Float32, Float32, String, String, String, String, String, String, String, String, String, Float32, Float32, String, String, String, String, String, String, String, UInt64, String, String, List(UInt32), UInt16, String, String]\n",
      "30 \t 39 \t [UInt32, Float32, Float32, Float32, Float32, String, String, String, String, String, String, Float32, Float32, Float32, String, String, String, String, String, String, String, String, String, Float32, Float32, String, String, String, String, String, String, String, UInt64, String, String, List(UInt32), UInt16, String, String]\n",
      "31 \t 39 \t [UInt32, Float32, Float32, Float32, Float32, String, String, String, String, String, String, Float32, Float32, Float32, String, String, String, String, String, String, String, String, String, Float32, Float32, String, String, String, String, String, String, String, UInt64, String, String, List(UInt32), UInt16, String, String]\n",
      "32 \t 39 \t [UInt32, Float32, Float32, Float32, Float32, String, String, String, String, String, String, Float32, Float32, Float32, String, String, String, String, String, String, String, String, String, Float32, Float32, String, String, String, String, String, String, String, UInt64, String, String, List(UInt32), UInt16, String, String]\n",
      "33 \t 39 \t [UInt32, Float32, Float32, Float32, Float32, String, String, String, String, String, String, Float32, Float32, Float32, String, String, String, String, String, String, String, String, String, Float32, Float32, String, String, String, String, String, String, String, UInt64, String, String, List(UInt32), UInt16, String, String]\n",
      "34 \t 39 \t [UInt32, Float32, Float32, Float32, Float32, String, String, String, String, String, String, Float32, Float32, Float32, String, String, String, String, String, String, String, String, String, Float32, Float32, String, String, String, String, String, String, String, UInt64, String, String, List(UInt32), UInt16, String, String]\n",
      "35 \t 39 \t [UInt32, Float32, Float32, Float32, Float32, String, String, String, String, String, String, Float32, Float32, Float32, String, String, String, String, String, String, String, String, String, Float32, Float32, String, String, String, String, String, String, String, UInt64, String, String, List(UInt32), UInt16, String, String]\n",
      "36 \t 39 \t [UInt32, Float32, Float32, Float32, Float32, String, String, String, String, String, String, Float32, Float32, Float32, String, String, String, String, String, String, String, String, String, Float32, Float32, String, String, String, String, String, String, String, UInt64, String, String, List(UInt32), UInt16, String, String]\n",
      "37 \t 39 \t [UInt32, Float32, Float32, Float32, Float32, String, String, String, String, String, String, Float32, Float32, Float32, String, String, String, String, String, String, String, String, String, Float32, Float32, String, String, String, String, String, String, String, UInt64, String, String, List(UInt32), UInt16, String, String]\n",
      "38 \t 39 \t [UInt32, Float32, Float32, Float32, Float32, String, String, String, String, String, String, Float32, Float32, Float32, String, String, String, String, String, String, String, String, String, Float32, Float32, String, String, String, String, String, String, String, UInt64, String, String, List(UInt32), UInt16, String, String]\n",
      "39 \t 39 \t [UInt32, Float32, Float32, Float32, Float32, String, String, String, String, String, String, Float32, Float32, Float32, String, String, String, String, String, String, String, String, String, Float32, Float32, String, String, String, String, String, String, String, UInt64, String, String, List(UInt32), UInt16, String, String]\n",
      "40 \t 39 \t [UInt32, Float32, Float32, Float32, Float32, String, String, String, String, String, String, Float32, Float32, Float32, String, String, String, String, String, String, String, String, String, Float32, Float32, String, String, String, String, String, String, String, UInt64, String, String, List(UInt32), UInt16, String, String]\n",
      "41 \t 39 \t [UInt32, Float32, Float32, Float32, Float32, String, String, String, String, String, String, Float32, Float32, Float32, String, String, String, String, String, String, String, String, String, Float32, Float32, String, String, String, String, String, String, String, UInt64, String, String, List(UInt32), UInt16, String, String]\n",
      "42 \t 39 \t [UInt32, Float32, Float32, Float32, Float32, String, String, String, String, String, String, Float32, Float32, Float32, String, String, String, String, String, String, String, String, String, Float32, Float32, String, String, String, String, String, String, String, UInt64, String, String, List(UInt32), UInt16, String, String]\n",
      "43 \t 39 \t [UInt32, Float32, Float32, Float32, Float32, String, String, String, String, String, String, Float32, Float32, Float32, String, String, String, String, String, String, String, String, String, Float32, Float32, String, String, String, String, String, String, String, UInt64, String, String, List(UInt32), UInt16, String, String]\n",
      "44 \t 39 \t [UInt32, Float32, Float32, Float32, Float32, String, String, String, String, String, String, Float32, Float32, Float32, String, String, String, String, String, String, String, String, String, Float32, Float32, String, String, String, String, String, String, String, UInt64, String, String, List(UInt32), UInt16, String, String]\n",
      "45 \t 39 \t [UInt32, Float32, Float32, Float32, Float32, String, String, String, String, String, String, Float32, Float32, Float32, String, String, String, String, String, String, String, String, String, Float32, Float32, String, String, String, String, String, String, String, UInt64, String, String, List(UInt32), UInt16, String, String]\n",
      "46 \t 39 \t [UInt32, Float32, Float32, Float32, Float32, String, String, String, String, String, String, Float32, Float32, Float32, String, String, String, String, String, String, String, String, String, Float32, Float32, String, String, String, String, String, String, String, UInt64, String, String, List(UInt32), UInt16, String, String]\n",
      "47 \t 39 \t [UInt32, Float32, Float32, Float32, Float32, String, String, String, String, String, String, Float32, Float32, Float32, String, String, String, String, String, String, String, String, String, Float32, Float32, String, String, String, String, String, String, String, UInt64, String, String, List(UInt32), UInt16, String, String]\n",
      "48 \t 39 \t [UInt32, Float32, Float32, Float32, Float32, String, String, String, String, String, String, Float32, Float32, Float32, String, String, String, String, String, String, String, String, String, Float32, Float32, String, String, String, String, String, String, String, UInt64, String, String, List(UInt32), UInt16, String, String]\n",
      "49 \t 39 \t [UInt32, Float32, Float32, Float32, Float32, String, String, String, String, String, String, Float32, Float32, Float32, String, String, String, String, String, String, String, String, String, Float32, Float32, String, String, String, String, String, String, String, UInt64, String, String, List(UInt32), UInt16, String, String]\n",
      "50 \t 39 \t [UInt32, Float32, Float32, Float32, Float32, String, String, String, String, String, String, Float32, Float32, Float32, String, String, String, String, String, String, String, String, String, Float32, Float32, String, String, String, String, String, String, String, UInt64, String, String, List(UInt32), UInt16, String, String]\n",
      "51 \t 39 \t [UInt32, Float32, Float32, Float32, Float32, String, String, String, String, String, String, Float32, Float32, Float32, String, String, String, String, String, String, String, String, String, Float32, Float32, String, String, String, String, String, String, String, UInt64, String, String, List(UInt32), UInt16, String, String]\n",
      "52 \t 39 \t [UInt32, Float32, Float32, Float32, Float32, String, String, String, String, String, String, Float32, Float32, Float32, String, String, String, String, String, String, String, String, String, Float32, Float32, String, String, String, String, String, String, String, UInt64, String, String, List(UInt32), UInt16, String, String]\n",
      "53 \t 39 \t [UInt32, Float32, Float32, Float32, Float32, String, String, String, String, String, String, Float32, Float32, Float32, String, String, String, String, String, String, String, String, String, Float32, Float32, String, String, String, String, String, String, String, UInt64, String, String, List(UInt32), UInt16, String, String]\n",
      "54 \t 39 \t [UInt32, Float32, Float32, Float32, Float32, String, String, String, String, String, String, Float32, Float32, Float32, String, String, String, String, String, String, String, String, String, Float32, Float32, String, String, String, String, String, String, String, UInt64, String, String, List(UInt32), UInt16, String, String]\n",
      "55 \t 39 \t [UInt32, Float32, Float32, Float32, Float32, String, String, String, String, String, String, Float32, Float32, Float32, String, String, String, String, String, String, String, String, String, Float32, Float32, String, String, String, String, String, String, String, UInt64, String, String, List(UInt32), UInt16, String, String]\n",
      "56 \t 39 \t [UInt32, Float32, Float32, Float32, Float32, String, String, String, String, String, String, Float32, Float32, Float32, String, String, String, String, String, String, String, String, String, Float32, Float32, String, String, String, String, String, String, String, UInt64, String, String, List(UInt32), UInt16, String, String]\n",
      "57 \t 39 \t [UInt32, Float32, Float32, Float32, Float32, String, String, String, String, String, String, Float32, Float32, Float32, String, String, String, String, String, String, String, String, String, Float32, Float32, String, String, String, String, String, String, String, UInt64, String, String, List(UInt32), UInt16, String, String]\n",
      "58 \t 39 \t [UInt32, Float32, Float32, Float32, Float32, String, String, String, String, String, String, Float32, Float32, Float32, String, String, String, String, String, String, String, String, String, Float32, Float32, String, String, String, String, String, String, String, UInt64, String, String, List(UInt32), UInt16, String, String]\n",
      "59 \t 39 \t [UInt32, Float32, Float32, Float32, Float32, String, String, String, String, String, String, Float32, Float32, Float32, String, String, String, String, String, String, String, String, String, Float32, Float32, String, String, String, String, String, String, String, UInt64, String, String, List(UInt32), UInt16, String, String]\n",
      "60 \t 39 \t [UInt32, Float32, Float32, Float32, Float32, String, String, String, String, String, String, Float32, Float32, Float32, String, String, String, String, String, String, String, String, String, Float32, Float32, String, String, String, String, String, String, String, UInt64, String, String, List(UInt32), UInt16, String, String]\n",
      "61 \t 39 \t [UInt32, Float32, Float32, Float32, Float32, String, String, String, String, String, String, Float32, Float32, Float32, String, String, String, String, String, String, String, String, String, Float32, Float32, String, String, String, String, String, String, String, UInt64, String, String, List(UInt32), UInt16, String, String]\n",
      "62 \t 39 \t [UInt32, Float32, Float32, Float32, Float32, String, String, String, String, String, String, Float32, Float32, Float32, String, String, String, String, String, String, String, String, String, Float32, Float32, String, String, String, String, String, String, String, UInt64, String, String, List(UInt32), UInt16, String, String]\n",
      "63 \t 39 \t [UInt32, Float32, Float32, Float32, Float32, String, String, String, String, String, String, Float32, Float32, Float32, String, String, String, String, String, String, String, String, String, Float32, Float32, String, String, String, String, String, String, String, UInt64, String, String, List(UInt32), UInt16, String, String]\n",
      "64 \t 39 \t [UInt32, Float32, Float32, Float32, Float32, String, String, String, String, String, String, Float32, Float32, Float32, String, String, String, String, String, String, String, String, String, Float32, Float32, String, String, String, String, String, String, String, UInt64, String, String, List(UInt32), UInt16, String, String]\n",
      "65 \t 39 \t [UInt32, Float32, Float32, Float32, Float32, String, String, String, String, String, String, Float32, Float32, Float32, String, String, String, String, String, String, String, String, String, Float32, Float32, String, String, String, String, String, String, String, UInt64, String, String, List(UInt32), UInt16, String, String]\n",
      "66 \t 39 \t [UInt32, Float32, Float32, Float32, Float32, String, String, String, String, String, String, Float32, Float32, Float32, String, String, String, String, String, String, String, String, String, Float32, Float32, String, String, String, String, String, String, String, UInt64, String, String, List(UInt32), UInt16, String, String]\n",
      "67 \t 39 \t [UInt32, Float32, Float32, Float32, Float32, String, String, String, String, String, String, Float32, Float32, Float32, String, String, String, String, String, String, String, String, String, Float32, Float32, String, String, String, String, String, String, String, UInt64, String, String, List(UInt32), UInt16, String, String]\n",
      "68 \t 39 \t [UInt32, Float32, Float32, Float32, Float32, String, String, String, String, String, String, Float32, Float32, Float32, String, String, String, String, String, String, String, String, String, Float32, Float32, String, String, String, String, String, String, String, UInt64, String, String, List(UInt32), UInt16, String, String]\n",
      "69 \t 39 \t [UInt32, Float32, Float32, Float32, Float32, String, String, String, String, String, String, Float32, Float32, Float32, String, String, String, String, String, String, String, String, String, Float32, Float32, String, String, String, String, String, String, String, UInt64, String, String, List(UInt32), UInt16, String, String]\n",
      "70 \t 39 \t [UInt32, Float32, Float32, Float32, Float32, String, String, String, String, String, String, Float32, Float32, Float32, String, String, String, String, String, String, String, String, String, Float32, Float32, String, String, String, String, String, String, String, UInt64, String, String, List(UInt32), UInt16, String, String]\n",
      "71 \t 39 \t [UInt32, Float32, Float32, Float32, Float32, String, String, String, String, String, String, Float32, Float32, Float32, String, String, String, String, String, String, String, String, String, Float32, Float32, String, String, String, String, String, String, String, UInt64, String, String, List(UInt32), UInt16, String, String]\n",
      "72 \t 39 \t [UInt32, Float32, Float32, Float32, Float32, String, String, String, String, String, String, Float32, Float32, Float32, String, String, String, String, String, String, String, String, String, Float32, Float32, String, String, String, String, String, String, String, UInt64, String, String, List(UInt32), UInt16, String, String]\n",
      "73 \t 39 \t [UInt32, Float32, Float32, Float32, Float32, String, String, String, String, String, String, Float32, Float32, Float32, String, String, String, String, String, String, String, String, String, Float32, Float32, String, String, String, String, String, String, String, UInt64, String, String, List(UInt32), UInt16, String, String]\n",
      "74 \t 39 \t [UInt32, Float32, Float32, Float32, Float32, String, String, String, String, String, String, Float32, Float32, Float32, String, String, String, String, String, String, String, String, String, Float32, Float32, String, String, String, String, String, String, String, UInt64, String, String, List(UInt32), UInt16, String, String]\n",
      "75 \t 39 \t [UInt32, Float32, Float32, Float32, Float32, String, String, String, String, String, String, Float32, Float32, Float32, String, String, String, String, String, String, String, String, String, Float32, Float32, String, String, String, String, String, String, String, UInt64, String, String, List(UInt32), UInt16, String, String]\n",
      "76 \t 39 \t [UInt32, Float32, Float32, Float32, Float32, String, String, String, String, String, String, Float32, Float32, Float32, String, String, String, String, String, String, String, String, String, Float32, Float32, String, String, String, String, String, String, String, UInt64, String, String, List(UInt32), UInt16, String, String]\n",
      "77 \t 39 \t [UInt32, Float32, Float32, Float32, Float32, String, String, String, String, String, String, Float32, Float32, Float32, String, String, String, String, String, String, String, String, String, Float32, Float32, String, String, String, String, String, String, String, UInt64, String, String, List(UInt32), UInt16, String, String]\n",
      "78 \t 39 \t [UInt32, Float32, Float32, Float32, Float32, String, String, String, String, String, String, Float32, Float32, Float32, String, String, String, String, String, String, String, String, String, Float32, Float32, String, String, String, String, String, String, String, UInt64, String, String, List(UInt32), UInt16, String, String]\n",
      "79 \t 39 \t [UInt32, Float32, Float32, Float32, Float32, String, String, String, String, String, String, Float32, Float32, Float32, String, String, String, String, String, String, String, String, String, Float32, Float32, String, String, String, String, String, String, String, UInt64, String, String, List(UInt32), UInt16, String, String]\n",
      "80 \t 39 \t [UInt32, Float32, Float32, Float32, Float32, String, String, String, String, String, String, Float32, Float32, Float32, String, String, String, String, String, String, String, String, String, Float32, Float32, String, String, String, String, String, String, String, UInt64, String, String, List(UInt32), UInt16, String, String]\n",
      "81 \t 39 \t [UInt32, Float32, Float32, Float32, Float32, String, String, String, String, String, String, Float32, Float32, Float32, String, String, String, String, String, String, String, String, String, Float32, Float32, String, String, String, String, String, String, String, UInt64, String, String, List(UInt32), UInt16, String, String]\n",
      "82 \t 39 \t [UInt32, Float32, Float32, Float32, Float32, String, String, String, String, String, String, Float32, Float32, Float32, String, String, String, String, String, String, String, String, String, Float32, Float32, String, String, String, String, String, String, String, UInt64, String, String, List(UInt32), UInt16, String, String]\n",
      "83 \t 39 \t [UInt32, Float32, Float32, Float32, Float32, String, String, String, String, String, String, Float32, Float32, Float32, String, String, String, String, String, String, String, String, String, Float32, Float32, String, String, String, String, String, String, String, UInt64, String, String, List(UInt32), UInt16, String, String]\n",
      "84 \t 39 \t [UInt32, Float32, Float32, Float32, Float32, String, String, String, String, String, String, Float32, Float32, Float32, String, String, String, String, String, String, String, String, String, Float32, Float32, String, String, String, String, String, String, String, UInt64, String, String, List(UInt32), UInt16, String, String]\n",
      "85 \t 39 \t [UInt32, Float32, Float32, Float32, Float32, String, String, String, String, String, String, Float32, Float32, Float32, String, String, String, String, String, String, String, String, String, Float32, Float32, String, String, String, String, String, String, String, UInt64, String, String, List(UInt32), UInt16, String, String]\n",
      "86 \t 39 \t [UInt32, Float32, Float32, Float32, Float32, String, String, String, String, String, String, Float32, Float32, Float32, String, String, String, String, String, String, String, String, String, Float32, Float32, String, String, String, String, String, String, String, UInt64, String, String, List(UInt32), UInt16, String, String]\n",
      "87 \t 39 \t [UInt32, Float32, Float32, Float32, Float32, String, String, String, String, String, String, Float32, Float32, Float32, String, String, String, String, String, String, String, String, String, Float32, Float32, String, String, String, String, String, String, String, UInt64, String, String, List(UInt32), UInt16, String, String]\n",
      "88 \t 39 \t [UInt32, Float32, Float32, Float32, Float32, String, String, String, String, String, String, Float32, Float32, Float32, String, String, String, String, String, String, String, String, String, Float32, Float32, String, String, String, String, String, String, String, UInt64, String, String, List(UInt32), UInt16, String, String]\n",
      "89 \t 39 \t [UInt32, Float32, Float32, Float32, Float32, String, String, String, String, String, String, Float32, Float32, Float32, String, String, String, String, String, String, String, String, String, Float32, Float32, String, String, String, String, String, String, String, UInt64, String, String, List(UInt32), UInt16, String, String]\n",
      "90 \t 39 \t [UInt32, Float32, Float32, Float32, Float32, String, String, String, String, String, String, Float32, Float32, Float32, String, String, String, String, String, String, String, String, String, Float32, Float32, String, String, String, String, String, String, String, UInt64, String, String, List(UInt32), UInt16, String, String]\n",
      "91 \t 39 \t [UInt32, Float32, Float32, Float32, Float32, String, String, String, String, String, String, Float32, Float32, Float32, String, String, String, String, String, String, String, String, String, Float32, Float32, String, String, String, String, String, String, String, UInt64, String, String, List(UInt32), UInt16, String, String]\n",
      "92 \t 39 \t [UInt32, Float32, Float32, Float32, Float32, String, String, String, String, String, String, Float32, Float32, Float32, String, String, String, String, String, String, String, String, String, Float32, Float32, String, String, String, String, String, String, String, UInt64, String, String, List(UInt32), UInt16, String, String]\n",
      "93 \t 39 \t [UInt32, Float32, Float32, Float32, Float32, String, String, String, String, String, String, Float32, Float32, Float32, String, String, String, String, String, String, String, String, String, Float32, Float32, String, String, String, String, String, String, String, UInt64, String, String, List(UInt32), UInt16, String, String]\n",
      "94 \t 39 \t [UInt32, Float32, Float32, Float32, Float32, String, String, String, String, String, String, Float32, Float32, Float32, String, String, String, String, String, String, String, String, String, Float32, Float32, String, String, String, String, String, String, String, UInt64, String, String, List(UInt32), UInt16, String, String]\n",
      "95 \t 39 \t [UInt32, Float32, Float32, Float32, Float32, String, String, String, String, String, String, Float32, Float32, Float32, String, String, String, String, String, String, String, String, String, Float32, Float32, String, String, String, String, String, String, String, UInt64, String, String, List(UInt32), UInt16, String, String]\n",
      "96 \t 39 \t [UInt32, Float32, Float32, Float32, Float32, String, String, String, String, String, String, Float32, Float32, Float32, String, String, String, String, String, String, String, String, String, Float32, Float32, String, String, String, String, String, String, String, UInt64, String, String, List(UInt32), UInt16, String, String]\n",
      "97 \t 39 \t [UInt32, Float32, Float32, Float32, Float32, String, String, String, String, String, String, Float32, Float32, Float32, String, String, String, String, String, String, String, String, String, Float32, Float32, String, String, String, String, String, String, String, UInt64, String, String, List(UInt32), UInt16, String, String]\n",
      "98 \t 39 \t [UInt32, Float32, Float32, Float32, Float32, String, String, String, String, String, String, Float32, Float32, Float32, String, String, String, String, String, String, String, String, String, Float32, Float32, String, String, String, String, String, String, String, UInt64, String, String, List(UInt32), UInt16, String, String]\n",
      "99 \t 39 \t [UInt32, Float32, Float32, Float32, Float32, String, String, String, String, String, String, Float32, Float32, Float32, String, String, String, String, String, String, String, String, String, Float32, Float32, String, String, String, String, String, String, String, UInt64, String, String, List(UInt32), UInt16, String, String]\n",
      "100 \t 39 \t [UInt32, Float32, Float32, Float32, Float32, String, String, String, String, String, String, Float32, Float32, Float32, String, String, String, String, String, String, String, String, String, Float32, Float32, String, String, String, String, String, String, String, UInt64, String, String, List(UInt32), UInt16, String, String]\n",
      "101 \t 39 \t [UInt32, Float32, Float32, Float32, Float32, String, String, String, String, String, String, Float32, Float32, Float32, String, String, String, String, String, String, String, String, String, Float32, Float32, String, String, String, String, String, String, String, UInt64, String, String, List(UInt32), UInt16, String, String]\n",
      "102 \t 39 \t [UInt32, Float32, Float32, Float32, Float32, String, String, String, String, String, String, Float32, Float32, Float32, String, String, String, String, String, String, String, String, String, Float32, Float32, String, String, String, String, String, String, String, UInt64, String, String, List(UInt32), UInt16, String, String]\n",
      "103 \t 39 \t [UInt32, Float32, Float32, Float32, Float32, String, String, String, String, String, String, Float32, Float32, Float32, String, String, String, String, String, String, String, String, String, Float32, Float32, String, String, String, String, String, String, String, UInt64, String, String, List(UInt32), UInt16, String, String]\n",
      "104 \t 39 \t [UInt32, Float32, Float32, Float32, Float32, String, String, String, String, String, String, Float32, Float32, Float32, String, String, String, String, String, String, String, String, String, Float32, Float32, String, String, String, String, String, String, String, UInt64, String, String, List(UInt32), UInt16, String, String]\n",
      "105 \t 39 \t [UInt32, Float32, Float32, Float32, Float32, String, String, String, String, String, String, Float32, Float32, Float32, String, String, String, String, String, String, String, String, String, Float32, Float32, String, String, String, String, String, String, String, UInt64, String, String, List(UInt32), UInt16, String, String]\n",
      "106 \t 39 \t [UInt32, Float32, Float32, Float32, Float32, String, String, String, String, String, String, Float32, Float32, Float32, String, String, String, String, String, String, String, String, String, Float32, Float32, String, String, String, String, String, String, String, UInt64, String, String, List(UInt32), UInt16, String, String]\n",
      "107 \t 39 \t [UInt32, Float32, Float32, Float32, Float32, String, String, String, String, String, String, Float32, Float32, Float32, String, String, String, String, String, String, String, String, String, Float32, Float32, String, String, String, String, String, String, String, UInt64, String, String, List(UInt32), UInt16, String, String]\n",
      "108 \t 39 \t [UInt32, Float32, Float32, Float32, Float32, String, String, String, String, String, String, Float32, Float32, Float32, String, String, String, String, String, String, String, String, String, Float32, Float32, String, String, String, String, String, String, String, UInt64, String, String, List(UInt32), UInt16, String, String]\n",
      "109 \t 39 \t [UInt32, Float32, Float32, Float32, Float32, String, String, String, String, String, String, Float32, Float32, Float32, String, String, String, String, String, String, String, String, String, Float32, Float32, String, String, String, String, String, String, String, UInt64, String, String, List(UInt32), UInt16, String, String]\n",
      "110 \t 39 \t [UInt32, Float32, Float32, Float32, Float32, String, String, String, String, String, String, Float32, Float32, Float32, String, String, String, String, String, String, String, String, String, Float32, Float32, String, String, String, String, String, String, String, UInt64, String, String, List(UInt32), UInt16, String, String]\n",
      "111 \t 39 \t [UInt32, Float32, Float32, Float32, Float32, String, String, String, String, String, String, Float32, Float32, Float32, String, String, String, String, String, String, String, String, String, Float32, Float32, String, String, String, String, String, String, String, UInt64, String, String, List(UInt32), UInt16, String, String]\n",
      "112 \t 39 \t [UInt32, Float32, Float32, Float32, Float32, String, String, String, String, String, String, Float32, Float32, Float32, String, String, String, String, String, String, String, String, String, Float32, Float32, String, String, String, String, String, String, String, UInt64, String, String, List(UInt32), UInt16, String, String]\n",
      "113 \t 39 \t [UInt32, Float32, Float32, Float32, Float32, String, String, String, String, String, String, Float32, Float32, Float32, String, String, String, String, String, String, String, String, String, Float32, Float32, String, String, String, String, String, String, String, UInt64, String, String, List(UInt32), UInt16, String, String]\n",
      "114 \t 39 \t [UInt32, Float32, Float32, Float32, Float32, String, String, String, String, String, String, Float32, Float32, Float32, String, String, String, String, String, String, String, String, String, Float32, Float32, String, String, String, String, String, String, String, UInt64, String, String, List(UInt32), UInt16, String, String]\n",
      "115 \t 39 \t [UInt32, Float32, Float32, Float32, Float32, String, String, String, String, String, String, Float32, Float32, Float32, String, String, String, String, String, String, String, String, String, Float32, Float32, String, String, String, String, String, String, String, UInt64, String, String, List(UInt32), UInt16, String, String]\n",
      "116 \t 39 \t [UInt32, Float32, Float32, Float32, Float32, String, String, String, String, String, String, Float32, Float32, Float32, String, String, String, String, String, String, String, String, String, Float32, Float32, String, String, String, String, String, String, String, UInt64, String, String, List(UInt32), UInt16, String, String]\n",
      "117 \t 39 \t [UInt32, Float32, Float32, Float32, Float32, String, String, String, String, String, String, Float32, Float32, Float32, String, String, String, String, String, String, String, String, String, Float32, Float32, String, String, String, String, String, String, String, UInt64, String, String, List(UInt32), UInt16, String, String]\n",
      "118 \t 39 \t [UInt32, Float32, Float32, Float32, Float32, String, String, String, String, String, String, Float32, Float32, Float32, String, String, String, String, String, String, String, String, String, Float32, Float32, String, String, String, String, String, String, String, UInt64, String, String, List(UInt32), UInt16, String, String]\n",
      "119 \t 39 \t [UInt32, Float32, Float32, Float32, Float32, String, String, String, String, String, String, Float32, Float32, Float32, String, String, String, String, String, String, String, String, String, Float32, Float32, String, String, String, String, String, String, String, UInt64, String, String, List(UInt32), UInt16, String, String]\n",
      "120 \t 39 \t [UInt32, Float32, Float32, Float32, Float32, String, String, String, String, String, String, Float32, Float32, Float32, String, String, String, String, String, String, String, String, String, Float32, Float32, String, String, String, String, String, String, String, UInt64, String, String, List(UInt32), UInt16, String, String]\n",
      "121 \t 39 \t [UInt32, Float32, Float32, Float32, Float32, String, String, String, String, String, String, Float32, Float32, Float32, String, String, String, String, String, String, String, String, String, Float32, Float32, String, String, String, String, String, String, String, UInt64, String, String, List(UInt32), UInt16, String, String]\n",
      "122 \t 39 \t [UInt32, Float32, Float32, Float32, Float32, String, String, String, String, String, String, Float32, Float32, Float32, String, String, String, String, String, String, String, String, String, Float32, Float32, String, String, String, String, String, String, String, UInt64, String, String, List(UInt32), UInt16, String, String]\n",
      "123 \t 39 \t [UInt32, Float32, Float32, Float32, Float32, String, String, String, String, String, String, Float32, Float32, Float32, String, String, String, String, String, String, String, String, String, Float32, Float32, String, String, String, String, String, String, String, UInt64, String, String, List(UInt32), UInt16, String, String]\n",
      "124 \t 39 \t [UInt32, Float32, Float32, Float32, Float32, String, String, String, String, String, String, Float32, Float32, Float32, String, String, String, String, String, String, String, String, String, Float32, Float32, String, String, String, String, String, String, String, UInt64, String, String, List(UInt32), UInt16, String, String]\n",
      "125 \t 39 \t [UInt32, Float32, Float32, Float32, Float32, String, String, String, String, String, String, Float32, Float32, Float32, String, String, String, String, String, String, String, String, String, Float32, Float32, String, String, String, String, String, String, String, UInt64, String, String, List(UInt32), UInt16, String, String]\n",
      "126 \t 39 \t [UInt32, Float32, Float32, Float32, Float32, String, String, String, String, String, String, Float32, Float32, Float32, String, String, String, String, String, String, String, String, String, Float32, Float32, String, String, String, String, String, String, String, UInt64, String, String, List(UInt32), UInt16, String, String]\n",
      "127 \t 39 \t [UInt32, Float32, Float32, Float32, Float32, String, String, String, String, String, String, Float32, Float32, Float32, String, String, String, String, String, String, String, String, String, Float32, Float32, String, String, String, String, String, String, String, UInt64, String, String, List(UInt32), UInt16, String, String]\n",
      "128 \t 39 \t [UInt32, Float32, Float32, Float32, Float32, String, String, String, String, String, String, Float32, Float32, Float32, String, String, String, String, String, String, String, String, String, Float32, Float32, String, String, String, String, String, String, String, UInt64, String, String, List(UInt32), UInt16, String, String]\n",
      "129 \t 39 \t [UInt32, Float32, Float32, Float32, Float32, String, String, String, String, String, String, Float32, Float32, Float32, String, String, String, String, String, String, String, String, String, Float32, Float32, String, String, String, String, String, String, String, UInt64, String, String, List(UInt32), UInt16, String, String]\n",
      "130 \t 39 \t [UInt32, Float32, Float32, Float32, Float32, String, String, String, String, String, String, Float32, Float32, Float32, String, String, String, String, String, String, String, String, String, Float32, Float32, String, String, String, String, String, String, String, UInt64, String, String, List(UInt32), UInt16, String, String]\n",
      "131 \t 39 \t [UInt32, Float32, Float32, Float32, Float32, String, String, String, String, String, String, Float32, Float32, Float32, String, String, String, String, String, String, String, String, String, Float32, Float32, String, String, String, String, String, String, String, UInt64, String, String, List(UInt32), UInt16, String, String]\n",
      "132 \t 39 \t [UInt32, Float32, Float32, Float32, Float32, String, String, String, String, String, String, Float32, Float32, Float32, String, String, String, String, String, String, String, String, String, Float32, Float32, String, String, String, String, String, String, String, UInt64, String, String, List(UInt32), UInt16, String, String]\n",
      "133 \t 39 \t [UInt32, Float32, Float32, Float32, Float32, String, String, String, String, String, String, Float32, Float32, Float32, String, String, String, String, String, String, String, String, String, Float32, Float32, String, String, String, String, String, String, String, UInt64, String, String, List(UInt32), UInt16, String, String]\n",
      "134 \t 39 \t [UInt32, Float32, Float32, Float32, Float32, String, String, String, String, String, String, Float32, Float32, Float32, String, String, String, String, String, String, String, String, String, Float32, Float32, String, String, String, String, String, String, String, UInt64, String, String, List(UInt32), UInt16, String, String]\n",
      "135 \t 39 \t [UInt32, Float32, Float32, Float32, Float32, String, String, String, String, String, String, Float32, Float32, Float32, String, String, String, String, String, String, String, String, String, Float32, Float32, String, String, String, String, String, String, String, UInt64, String, String, List(UInt32), UInt16, String, String]\n",
      "136 \t 39 \t [UInt32, Float32, Float32, Float32, Float32, String, String, String, String, String, String, Float32, Float32, Float32, String, String, String, String, String, String, String, String, String, Float32, Float32, String, String, String, String, String, String, String, UInt64, String, String, List(UInt32), UInt16, String, String]\n",
      "137 \t 39 \t [UInt32, Float32, Float32, Float32, Float32, String, String, String, String, String, String, Float32, Float32, Float32, String, String, String, String, String, String, String, String, String, Float32, Float32, String, String, String, String, String, String, String, UInt64, String, String, List(UInt32), UInt16, String, String]\n",
      "138 \t 39 \t [UInt32, Float32, Float32, Float32, Float32, String, String, String, String, String, String, Float32, Float32, Float32, String, String, String, String, String, String, String, String, String, Float32, Float32, String, String, String, String, String, String, String, UInt64, String, String, List(UInt32), UInt16, String, String]\n",
      "139 \t 39 \t [UInt32, Float32, Float32, Float32, Float32, String, String, String, String, String, String, Float32, Float32, Float32, String, String, String, String, String, String, String, String, String, Float32, Float32, String, String, String, String, String, String, String, UInt64, String, String, List(UInt32), UInt16, String, String]\n",
      "140 \t 39 \t [UInt32, Float32, Float32, Float32, Float32, String, String, String, String, String, String, Float32, Float32, Float32, String, String, String, String, String, String, String, String, String, Float32, Float32, String, String, String, String, String, String, String, UInt64, String, String, List(UInt32), UInt16, String, String]\n",
      "141 \t 39 \t [UInt32, Float32, Float32, Float32, Float32, String, String, String, String, String, String, Float32, Float32, Float32, String, String, String, String, String, String, String, String, String, Float32, Float32, String, String, String, String, String, String, String, UInt64, String, String, List(UInt32), UInt16, String, String]\n",
      "142 \t 39 \t [UInt32, Float32, Float32, Float32, Float32, String, String, String, String, String, String, Float32, Float32, Float32, String, String, String, String, String, String, String, String, String, Float32, Float32, String, String, String, String, String, String, String, UInt64, String, String, List(UInt32), UInt16, String, String]\n",
      "143 \t 39 \t [UInt32, Float32, Float32, Float32, Float32, String, String, String, String, String, String, Float32, Float32, Float32, String, String, String, String, String, String, String, String, String, Float32, Float32, String, String, String, String, String, String, String, UInt64, String, String, List(UInt32), UInt16, String, String]\n",
      "144 \t 39 \t [UInt32, Float32, Float32, Float32, Float32, String, String, String, String, String, String, Float32, Float32, Float32, String, String, String, String, String, String, String, String, String, Float32, Float32, String, String, String, String, String, String, String, UInt64, String, String, List(UInt32), UInt16, String, String]\n",
      "145 \t 39 \t [UInt32, Float32, Float32, Float32, Float32, String, String, String, String, String, String, Float32, Float32, Float32, String, String, String, String, String, String, String, String, String, Float32, Float32, String, String, String, String, String, String, String, UInt64, String, String, List(UInt32), UInt16, String, String]\n",
      "146 \t 39 \t [UInt32, Float32, Float32, Float32, Float32, String, String, String, String, String, String, Float32, Float32, Float32, String, String, String, String, String, String, String, String, String, Float32, Float32, String, String, String, String, String, String, String, UInt64, String, String, List(UInt32), UInt16, String, String]\n",
      "147 \t 39 \t [UInt32, Float32, Float32, Float32, Float32, String, String, String, String, String, String, Float32, Float32, Float32, String, String, String, String, String, String, String, String, String, Float32, Float32, String, String, String, String, String, String, String, UInt64, String, String, List(UInt32), UInt16, String, String]\n",
      "148 \t 39 \t [UInt32, Float32, Float32, Float32, Float32, String, String, String, String, String, String, Float32, Float32, Float32, String, String, String, String, String, String, String, String, String, Float32, Float32, String, String, String, String, String, String, String, UInt64, String, String, List(UInt32), UInt16, String, String]\n",
      "149 \t 39 \t [UInt32, Float32, Float32, Float32, Float32, String, String, String, String, String, String, Float32, Float32, Float32, String, String, String, String, String, String, String, String, String, Float32, Float32, String, String, String, String, String, String, String, UInt64, String, String, List(UInt32), UInt16, String, String]\n",
      "150 \t 39 \t [UInt32, Float32, Float32, Float32, Float32, String, String, String, String, String, String, Float32, Float32, Float32, String, String, String, String, String, String, String, String, String, Float32, Float32, String, String, String, String, String, String, String, UInt64, String, String, List(UInt32), UInt16, String, String]\n",
      "151 \t 39 \t [UInt32, Float32, Float32, Float32, Float32, String, String, String, String, String, String, Float32, Float32, Float32, String, String, String, String, String, String, String, String, String, Float32, Float32, String, String, String, String, String, String, String, UInt64, String, String, List(UInt32), UInt16, String, String]\n",
      "152 \t 39 \t [UInt32, Float32, Float32, Float32, Float32, String, String, String, String, String, String, Float32, Float32, Float32, String, String, String, String, String, String, String, String, String, Float32, Float32, String, String, String, String, String, String, String, UInt64, String, String, List(UInt32), UInt16, String, String]\n",
      "153 \t 39 \t [UInt32, Float32, Float32, Float32, Float32, String, String, String, String, String, String, Float32, Float32, Float32, String, String, String, String, String, String, String, String, String, Float32, Float32, String, String, String, String, String, String, String, UInt64, String, String, List(UInt32), UInt16, String, String]\n",
      "154 \t 39 \t [UInt32, Float32, Float32, Float32, Float32, String, String, String, String, String, String, Float32, Float32, Float32, String, String, String, String, String, String, String, String, String, Float32, Float32, String, String, String, String, String, String, String, UInt64, String, String, List(UInt32), UInt16, String, String]\n",
      "155 \t 39 \t [UInt32, Float32, Float32, Float32, Float32, String, String, String, String, String, String, Float32, Float32, Float32, String, String, String, String, String, String, String, String, String, Float32, Float32, String, String, String, String, String, String, String, UInt64, String, String, List(UInt32), UInt16, String, String]\n",
      "156 \t 39 \t [UInt32, Float32, Float32, Float32, Float32, String, String, String, String, String, String, Float32, Float32, Float32, String, String, String, String, String, String, String, String, String, Float32, Float32, String, String, String, String, String, String, String, UInt64, String, String, List(UInt32), UInt16, String, String]\n",
      "157 \t 39 \t [UInt32, Float32, Float32, Float32, Float32, String, String, String, String, String, String, Float32, Float32, Float32, String, String, String, String, String, String, String, String, String, Float32, Float32, String, String, String, String, String, String, String, UInt64, String, String, List(UInt32), UInt16, String, String]\n",
      "158 \t 39 \t [UInt32, Float32, Float32, Float32, Float32, String, String, String, String, String, String, Float32, Float32, Float32, String, String, String, String, String, String, String, String, String, Float32, Float32, String, String, String, String, String, String, String, UInt64, String, String, List(UInt32), UInt16, String, String]\n",
      "159 \t 39 \t [UInt32, Float32, Float32, Float32, Float32, String, String, String, String, String, String, Float32, Float32, Float32, String, String, String, String, String, String, String, String, String, Float32, Float32, String, String, String, String, String, String, String, UInt64, String, String, List(UInt32), UInt16, String, String]\n",
      "160 \t 39 \t [UInt32, Float32, Float32, Float32, Float32, String, String, String, String, String, String, Float32, Float32, Float32, String, String, String, String, String, String, String, String, String, Float32, Float32, String, String, String, String, String, String, String, UInt64, String, String, List(UInt32), UInt16, String, String]\n",
      "161 \t 39 \t [UInt32, Float32, Float32, Float32, Float32, String, String, String, String, String, String, Float32, Float32, Float32, String, String, String, String, String, String, String, String, String, Float32, Float32, String, String, String, String, String, String, String, UInt64, String, String, List(UInt32), UInt16, String, String]\n",
      "162 \t 39 \t [UInt32, Float32, Float32, Float32, Float32, String, String, String, String, String, String, Float32, Float32, Float32, String, String, String, String, String, String, String, String, String, Float32, Float32, String, String, String, String, String, String, String, UInt64, String, String, List(UInt32), UInt16, String, String]\n",
      "163 \t 39 \t [UInt32, Float32, Float32, Float32, Float32, String, String, String, String, String, String, Float32, Float32, Float32, String, String, String, String, String, String, String, String, String, Float32, Float32, String, String, String, String, String, String, String, UInt64, String, String, List(UInt32), UInt16, String, String]\n",
      "164 \t 39 \t [UInt32, Float32, Float32, Float32, Float32, String, String, String, String, String, String, Float32, Float32, Float32, String, String, String, String, String, String, String, String, String, Float32, Float32, String, String, String, String, String, String, String, UInt64, String, String, List(UInt32), UInt16, String, String]\n",
      "165 \t 39 \t [UInt32, Float32, Float32, Float32, Float32, String, String, String, String, String, String, Float32, Float32, Float32, String, String, String, String, String, String, String, String, String, Float32, Float32, String, String, String, String, String, String, String, UInt64, String, String, List(UInt32), UInt16, String, String]\n",
      "166 \t 39 \t [UInt32, Float32, Float32, Float32, Float32, String, String, String, String, String, String, Float32, Float32, Float32, String, String, String, String, String, String, String, String, String, Float32, Float32, String, String, String, String, String, String, String, UInt64, String, String, List(UInt32), UInt16, String, String]\n",
      "167 \t 39 \t [UInt32, Float32, Float32, Float32, Float32, String, String, String, String, String, String, Float32, Float32, Float32, String, String, String, String, String, String, String, String, String, Float32, Float32, String, String, String, String, String, String, String, UInt64, String, String, List(UInt32), UInt16, String, String]\n",
      "168 \t 39 \t [UInt32, Float32, Float32, Float32, Float32, String, String, String, String, String, String, Float32, Float32, Float32, String, String, String, String, String, String, String, String, String, Float32, Float32, String, String, String, String, String, String, String, UInt64, String, String, List(UInt32), UInt16, String, String]\n",
      "169 \t 39 \t [UInt32, Float32, Float32, Float32, Float32, String, String, String, String, String, String, Float32, Float32, Float32, String, String, String, String, String, String, String, String, String, Float32, Float32, String, String, String, String, String, String, String, UInt64, String, String, List(UInt32), UInt16, String, String]\n",
      "170 \t 39 \t [UInt32, Float32, Float32, Float32, Float32, String, String, String, String, String, String, Float32, Float32, Float32, String, String, String, String, String, String, String, String, String, Float32, Float32, String, String, String, String, String, String, String, UInt64, String, String, List(UInt32), UInt16, String, String]\n",
      "171 \t 39 \t [UInt32, Float32, Float32, Float32, Float32, String, String, String, String, String, String, Float32, Float32, Float32, String, String, String, String, String, String, String, String, String, Float32, Float32, String, String, String, String, String, String, String, UInt64, String, String, List(UInt32), UInt16, String, String]\n",
      "172 \t 39 \t [UInt32, Float32, Float32, Float32, Float32, String, String, String, String, String, String, Float32, Float32, Float32, String, String, String, String, String, String, String, String, String, Float32, Float32, String, String, String, String, String, String, String, UInt64, String, String, List(UInt32), UInt16, String, String]\n",
      "173 \t 39 \t [UInt32, Float32, Float32, Float32, Float32, String, String, String, String, String, String, Float32, Float32, Float32, String, String, String, String, String, String, String, String, String, Float32, Float32, String, String, String, String, String, String, String, UInt64, String, String, List(UInt32), UInt16, String, String]\n",
      "174 \t 39 \t [UInt32, Float32, Float32, Float32, Float32, String, String, String, String, String, String, Float32, Float32, Float32, String, String, String, String, String, String, String, String, String, Float32, Float32, String, String, String, String, String, String, String, UInt64, String, String, List(UInt32), UInt16, String, String]\n",
      "175 \t 39 \t [UInt32, Float32, Float32, Float32, Float32, String, String, String, String, String, String, Float32, Float32, Float32, String, String, String, String, String, String, String, String, String, Float32, Float32, String, String, String, String, String, String, String, UInt64, String, String, List(UInt32), UInt16, String, String]\n",
      "176 \t 39 \t [UInt32, Float32, Float32, Float32, Float32, String, String, String, String, String, String, Float32, Float32, Float32, String, String, String, String, String, String, String, String, String, Float32, Float32, String, String, String, String, String, String, String, UInt64, String, String, List(UInt32), UInt16, String, String]\n",
      "177 \t 39 \t [UInt32, Float32, Float32, Float32, Float32, String, String, String, String, String, String, Float32, Float32, Float32, String, String, String, String, String, String, String, String, String, Float32, Float32, String, String, String, String, String, String, String, UInt64, String, String, List(UInt32), UInt16, String, String]\n",
      "178 \t 39 \t [UInt32, Float32, Float32, Float32, Float32, String, String, String, String, String, String, Float32, Float32, Float32, String, String, String, String, String, String, String, String, String, Float32, Float32, String, String, String, String, String, String, String, UInt64, String, String, List(UInt32), UInt16, String, String]\n",
      "179 \t 39 \t [UInt32, Float32, Float32, Float32, Float32, String, String, String, String, String, String, Float32, Float32, Float32, String, String, String, String, String, String, String, String, String, Float32, Float32, String, String, String, String, String, String, String, UInt64, String, String, List(UInt32), UInt16, String, String]\n",
      "180 \t 39 \t [UInt32, Float32, Float32, Float32, Float32, String, String, String, String, String, String, Float32, Float32, Float32, String, String, String, String, String, String, String, String, String, Float32, Float32, String, String, String, String, String, String, String, UInt64, String, String, List(UInt32), UInt16, String, String]\n",
      "181 \t 39 \t [UInt32, Float32, Float32, Float32, Float32, String, String, String, String, String, String, Float32, Float32, Float32, String, String, String, String, String, String, String, String, String, Float32, Float32, String, String, String, String, String, String, String, UInt64, String, String, List(UInt32), UInt16, String, String]\n",
      "182 \t 39 \t [UInt32, Float32, Float32, Float32, Float32, String, String, String, String, String, String, Float32, Float32, Float32, String, String, String, String, String, String, String, String, String, Float32, Float32, String, String, String, String, String, String, String, UInt64, String, String, List(UInt32), UInt16, String, String]\n",
      "183 \t 39 \t [UInt32, Float32, Float32, Float32, Float32, String, String, String, String, String, String, Float32, Float32, Float32, String, String, String, String, String, String, String, String, String, Float32, Float32, String, String, String, String, String, String, String, UInt64, String, String, List(UInt32), UInt16, String, String]\n",
      "184 \t 39 \t [UInt32, Float32, Float32, Float32, Float32, String, String, String, String, String, String, Float32, Float32, Float32, String, String, String, String, String, String, String, String, String, Float32, Float32, String, String, String, String, String, String, String, UInt64, String, String, List(UInt32), UInt16, String, String]\n",
      "185 \t 39 \t [UInt32, Float32, Float32, Float32, Float32, String, String, String, String, String, String, Float32, Float32, Float32, String, String, String, String, String, String, String, String, String, Float32, Float32, String, String, String, String, String, String, String, UInt64, String, String, List(UInt32), UInt16, String, String]\n",
      "186 \t 39 \t [UInt32, Float32, Float32, Float32, Float32, String, String, String, String, String, String, Float32, Float32, Float32, String, String, String, String, String, String, String, String, String, Float32, Float32, String, String, String, String, String, String, String, UInt64, String, String, List(UInt32), UInt16, String, String]\n",
      "187 \t 39 \t [UInt32, Float32, Float32, Float32, Float32, String, String, String, String, String, String, Float32, Float32, Float32, String, String, String, String, String, String, String, String, String, Float32, Float32, String, String, String, String, String, String, String, UInt64, String, String, List(UInt32), UInt16, String, String]\n",
      "188 \t 39 \t [UInt32, Float32, Float32, Float32, Float32, String, String, String, String, String, String, Float32, Float32, Float32, String, String, String, String, String, String, String, String, String, Float32, Float32, String, String, String, String, String, String, String, UInt64, String, String, List(UInt32), UInt16, String, String]\n",
      "189 \t 39 \t [UInt32, Float32, Float32, Float32, Float32, String, String, String, String, String, String, Float32, Float32, Float32, String, String, String, String, String, String, String, String, String, Float32, Float32, String, String, String, String, String, String, String, UInt64, String, String, List(UInt32), UInt16, String, String]\n",
      "190 \t 39 \t [UInt32, Float32, Float32, Float32, Float32, String, String, String, String, String, String, Float32, Float32, Float32, String, String, String, String, String, String, String, String, String, Float32, Float32, String, String, String, String, String, String, String, UInt64, String, String, List(UInt32), UInt16, String, String]\n",
      "191 \t 39 \t [UInt32, Float32, Float32, Float32, Float32, String, String, String, String, String, String, Float32, Float32, Float32, String, String, String, String, String, String, String, String, String, Float32, Float32, String, String, String, String, String, String, String, UInt64, String, String, List(UInt32), UInt16, String, String]\n",
      "192 \t 39 \t [UInt32, Float32, Float32, Float32, Float32, String, String, String, String, String, String, Float32, Float32, Float32, String, String, String, String, String, String, String, String, String, Float32, Float32, String, String, String, String, String, String, String, UInt64, String, String, List(UInt32), UInt16, String, String]\n",
      "193 \t 39 \t [UInt32, Float32, Float32, Float32, Float32, String, String, String, String, String, String, Float32, Float32, Float32, String, String, String, String, String, String, String, String, String, Float32, Float32, String, String, String, String, String, String, String, UInt64, String, String, List(UInt32), UInt16, String, String]\n",
      "194 \t 39 \t [UInt32, Float32, Float32, Float32, Float32, String, String, String, String, String, String, Float32, Float32, Float32, String, String, String, String, String, String, String, String, String, Float32, Float32, String, String, String, String, String, String, String, UInt64, String, String, List(UInt32), UInt16, String, String]\n",
      "195 \t 39 \t [UInt32, Float32, Float32, Float32, Float32, String, String, String, String, String, String, Float32, Float32, Float32, String, String, String, String, String, String, String, String, String, Float32, Float32, String, String, String, String, String, String, String, UInt64, String, String, List(UInt32), UInt16, String, String]\n",
      "196 \t 39 \t [UInt32, Float32, Float32, Float32, Float32, String, String, String, String, String, String, Float32, Float32, Float32, String, String, String, String, String, String, String, String, String, Float32, Float32, String, String, String, String, String, String, String, UInt64, String, String, List(UInt32), UInt16, String, String]\n",
      "197 \t 39 \t [UInt32, Float32, Float32, Float32, Float32, String, String, String, String, String, String, Float32, Float32, Float32, String, String, String, String, String, String, String, String, String, Float32, Float32, String, String, String, String, String, String, String, UInt64, String, String, List(UInt32), UInt16, String, String]\n",
      "198 \t 39 \t [UInt32, Float32, Float32, Float32, Float32, String, String, String, String, String, String, Float32, Float32, Float32, String, String, String, String, String, String, String, String, String, Float32, Float32, String, String, String, String, String, String, String, UInt64, String, String, List(UInt32), UInt16, String, String]\n",
      "199 \t 39 \t [UInt32, Float32, Float32, Float32, Float32, String, String, String, String, String, String, Float32, Float32, Float32, String, String, String, String, String, String, String, String, String, Float32, Float32, String, String, String, String, String, String, String, UInt64, String, String, List(UInt32), UInt16, String, String]\n",
      "200 \t 39 \t [UInt32, Float32, Float32, Float32, Float32, String, String, String, String, String, String, Float32, Float32, Float32, String, String, String, String, String, String, String, String, String, Float32, Float32, String, String, String, String, String, String, String, UInt64, String, String, List(UInt32), UInt16, String, String]\n",
      "201 \t 39 \t [UInt32, Float32, Float32, Float32, Float32, String, String, String, String, String, String, Float32, Float32, Float32, String, String, String, String, String, String, String, String, String, Float32, Float32, String, String, String, String, String, String, String, UInt64, String, String, List(UInt32), UInt16, String, String]\n",
      "202 \t 39 \t [UInt32, Float32, Float32, Float32, Float32, String, String, String, String, String, String, Float32, Float32, Float32, String, String, String, String, String, String, String, String, String, Float32, Float32, String, String, String, String, String, String, String, UInt64, String, String, List(UInt32), UInt16, String, String]\n",
      "203 \t 39 \t [UInt32, Float32, Float32, Float32, Float32, String, String, String, String, String, String, Float32, Float32, Float32, String, String, String, String, String, String, String, String, String, Float32, Float32, String, String, String, String, String, String, String, UInt64, String, String, List(UInt32), UInt16, String, String]\n",
      "204 \t 39 \t [UInt32, Float32, Float32, Float32, Float32, String, String, String, String, String, String, Float32, Float32, Float32, String, String, String, String, String, String, String, String, String, Float32, Float32, String, String, String, String, String, String, String, UInt64, String, String, List(UInt32), UInt16, String, String]\n",
      "205 \t 39 \t [UInt32, Float32, Float32, Float32, Float32, String, String, String, String, String, String, Float32, Float32, Float32, String, String, String, String, String, String, String, String, String, Float32, Float32, String, String, String, String, String, String, String, UInt64, String, String, List(UInt32), UInt16, String, String]\n",
      "206 \t 39 \t [UInt32, Float32, Float32, Float32, Float32, String, String, String, String, String, String, Float32, Float32, Float32, String, String, String, String, String, String, String, String, String, Float32, Float32, String, String, String, String, String, String, String, UInt64, String, String, List(UInt32), UInt16, String, String]\n",
      "207 \t 39 \t [UInt32, Float32, Float32, Float32, Float32, String, String, String, String, String, String, Float32, Float32, Float32, String, String, String, String, String, String, String, String, String, Float32, Float32, String, String, String, String, String, String, String, UInt64, String, String, List(UInt32), UInt16, String, String]\n",
      "208 \t 39 \t [UInt32, Float32, Float32, Float32, Float32, String, String, String, String, String, String, Float32, Float32, Float32, String, String, String, String, String, String, String, String, String, Float32, Float32, String, String, String, String, String, String, String, UInt64, String, String, List(UInt32), UInt16, String, String]\n",
      "209 \t 39 \t [UInt32, Float32, Float32, Float32, Float32, String, String, String, String, String, String, Float32, Float32, Float32, String, String, String, String, String, String, String, String, String, Float32, Float32, String, String, String, String, String, String, String, UInt64, String, String, List(UInt32), UInt16, String, String]\n",
      "210 \t 39 \t [UInt32, Float32, Float32, Float32, Float32, String, String, String, String, String, String, Float32, Float32, Float32, String, String, String, String, String, String, String, String, String, Float32, Float32, String, String, String, String, String, String, String, UInt64, String, String, List(UInt32), UInt16, String, String]\n",
      "211 \t 39 \t [UInt32, Float32, Float32, Float32, Float32, String, String, String, String, String, String, Float32, Float32, Float32, String, String, String, String, String, String, String, String, String, Float32, Float32, String, String, String, String, String, String, String, UInt64, String, String, List(UInt32), UInt16, String, String]\n",
      "212 \t 39 \t [UInt32, Float32, Float32, Float32, Float32, String, String, String, String, String, String, Float32, Float32, Float32, String, String, String, String, String, String, String, String, String, Float32, Float32, String, String, String, String, String, String, String, UInt64, String, String, List(UInt32), UInt16, String, String]\n",
      "213 \t 39 \t [UInt32, Float32, Float32, Float32, Float32, String, String, String, String, String, String, Float32, Float32, Float32, String, String, String, String, String, String, String, String, String, Float32, Float32, String, String, String, String, String, String, String, UInt64, String, String, List(UInt32), UInt16, String, String]\n",
      "214 \t 39 \t [UInt32, Float32, Float32, Float32, Float32, String, String, String, String, String, String, Float32, Float32, Float32, String, String, String, String, String, String, String, String, String, Float32, Float32, String, String, String, String, String, String, String, UInt64, String, String, List(UInt32), UInt16, String, String]\n",
      "215 \t 39 \t [UInt32, Float32, Float32, Float32, Float32, String, String, String, String, String, String, Float32, Float32, Float32, String, String, String, String, String, String, String, String, String, Float32, Float32, String, String, String, String, String, String, String, UInt64, String, String, List(UInt32), UInt16, String, String]\n",
      "216 \t 39 \t [UInt32, Float32, Float32, Float32, Float32, String, String, String, String, String, String, Float32, Float32, Float32, String, String, String, String, String, String, String, String, String, Float32, Float32, String, String, String, String, String, String, String, UInt64, String, String, List(UInt32), UInt16, String, String]\n",
      "217 \t 39 \t [UInt32, Float32, Float32, Float32, Float32, String, String, String, String, String, String, Float32, Float32, Float32, String, String, String, String, String, String, String, String, String, Float32, Float32, String, String, String, String, String, String, String, UInt64, String, String, List(UInt32), UInt16, String, String]\n",
      "218 \t 39 \t [UInt32, Float32, Float32, Float32, Float32, String, String, String, String, String, String, Float32, Float32, Float32, String, String, String, String, String, String, String, String, String, Float32, Float32, String, String, String, String, String, String, String, UInt64, String, String, List(UInt32), UInt16, String, String]\n",
      "219 \t 39 \t [UInt32, Float32, Float32, Float32, Float32, String, String, String, String, String, String, Float32, Float32, Float32, String, String, String, String, String, String, String, String, String, Float32, Float32, String, String, String, String, String, String, String, UInt64, String, String, List(UInt32), UInt16, String, String]\n",
      "220 \t 39 \t [UInt32, Float32, Float32, Float32, Float32, String, String, String, String, String, String, Float32, Float32, Float32, String, String, String, String, String, String, String, String, String, Float32, Float32, String, String, String, String, String, String, String, UInt64, String, String, List(UInt32), UInt16, String, String]\n",
      "221 \t 39 \t [UInt32, Float32, Float32, Float32, Float32, String, String, String, String, String, String, Float32, Float32, Float32, String, String, String, String, String, String, String, String, String, Float32, Float32, String, String, String, String, String, String, String, UInt64, String, String, List(UInt32), UInt16, String, String]\n",
      "222 \t 39 \t [UInt32, Float32, Float32, Float32, Float32, String, String, String, String, String, String, Float32, Float32, Float32, String, String, String, String, String, String, String, String, String, Float32, Float32, String, String, String, String, String, String, String, UInt64, String, String, List(UInt32), UInt16, String, String]\n",
      "223 \t 39 \t [UInt32, Float32, Float32, Float32, Float32, String, String, String, String, String, String, Float32, Float32, Float32, String, String, String, String, String, String, String, String, String, Float32, Float32, String, String, String, String, String, String, String, UInt64, String, String, List(UInt32), UInt16, String, String]\n",
      "224 \t 39 \t [UInt32, Float32, Float32, Float32, Float32, String, String, String, String, String, String, Float32, Float32, Float32, String, String, String, String, String, String, String, String, String, Float32, Float32, String, String, String, String, String, String, String, UInt64, String, String, List(UInt32), UInt16, String, String]\n",
      "225 \t 39 \t [UInt32, Float32, Float32, Float32, Float32, String, String, String, String, String, String, Float32, Float32, Float32, String, String, String, String, String, String, String, String, String, Float32, Float32, String, String, String, String, String, String, String, UInt64, String, String, List(UInt32), UInt16, String, String]\n",
      "226 \t 39 \t [UInt32, Float32, Float32, Float32, Float32, String, String, String, String, String, String, Float32, Float32, Float32, String, String, String, String, String, String, String, String, String, Float32, Float32, String, String, String, String, String, String, String, UInt64, String, String, List(UInt32), UInt16, String, String]\n",
      "227 \t 39 \t [UInt32, Float32, Float32, Float32, Float32, String, String, String, String, String, String, Float32, Float32, Float32, String, String, String, String, String, String, String, String, String, Float32, Float32, String, String, String, String, String, String, String, UInt64, String, String, List(UInt32), UInt16, String, String]\n",
      "228 \t 39 \t [UInt32, Float32, Float32, Float32, Float32, String, String, String, String, String, String, Float32, Float32, Float32, String, String, String, String, String, String, String, String, String, Float32, Float32, String, String, String, String, String, String, String, UInt64, String, String, List(UInt32), UInt16, String, String]\n",
      "229 \t 39 \t [UInt32, Float32, Float32, Float32, Float32, String, String, String, String, String, String, Float32, Float32, Float32, String, String, String, String, String, String, String, String, String, Float32, Float32, String, String, String, String, String, String, String, UInt64, String, String, List(UInt32), UInt16, String, String]\n",
      "230 \t 39 \t [UInt32, Float32, Float32, Float32, Float32, String, String, String, String, String, String, Float32, Float32, Float32, String, String, String, String, String, String, String, String, String, Float32, Float32, String, String, String, String, String, String, String, UInt64, String, String, List(UInt32), UInt16, String, String]\n",
      "231 \t 39 \t [UInt32, Float32, Float32, Float32, Float32, String, String, String, String, String, String, Float32, Float32, Float32, String, String, String, String, String, String, String, String, String, Float32, Float32, String, String, String, String, String, String, String, UInt64, String, String, List(UInt32), UInt16, String, String]\n",
      "232 \t 39 \t [UInt32, Float32, Float32, Float32, Float32, String, String, String, String, String, String, Float32, Float32, Float32, String, String, String, String, String, String, String, String, String, Float32, Float32, String, String, String, String, String, String, String, UInt64, String, String, List(UInt32), UInt16, String, String]\n",
      "233 \t 39 \t [UInt32, Float32, Float32, Float32, Float32, String, String, String, String, String, String, Float32, Float32, Float32, String, String, String, String, String, String, String, String, String, Float32, Float32, String, String, String, String, String, String, String, UInt64, String, String, List(UInt32), UInt16, String, String]\n",
      "234 \t 39 \t [UInt32, Float32, Float32, Float32, Float32, String, String, String, String, String, String, Float32, Float32, Float32, String, String, String, String, String, String, String, String, String, Float32, Float32, String, String, String, String, String, String, String, UInt64, String, String, List(UInt32), UInt16, String, String]\n",
      "235 \t 39 \t [UInt32, Float32, Float32, Float32, Float32, String, String, String, String, String, String, Float32, Float32, Float32, String, String, String, String, String, String, String, String, String, Float32, Float32, String, String, String, String, String, String, String, UInt64, String, String, List(UInt32), UInt16, String, String]\n",
      "236 \t 39 \t [UInt32, Float32, Float32, Float32, Float32, String, String, String, String, String, String, Float32, Float32, Float32, String, String, String, String, String, String, String, String, String, Float32, Float32, String, String, String, String, String, String, String, UInt64, String, String, List(UInt32), UInt16, String, String]\n",
      "237 \t 39 \t [UInt32, Float32, Float32, Float32, Float32, String, String, String, String, String, String, Float32, Float32, Float32, String, String, String, String, String, String, String, String, String, Float32, Float32, String, String, String, String, String, String, String, UInt64, String, String, List(UInt32), UInt16, String, String]\n",
      "238 \t 39 \t [UInt32, Float32, Float32, Float32, Float32, String, String, String, String, String, String, Float32, Float32, Float32, String, String, String, String, String, String, String, String, String, Float32, Float32, String, String, String, String, String, String, String, UInt64, String, String, List(UInt32), UInt16, String, String]\n",
      "239 \t 39 \t [UInt32, Float32, Float32, Float32, Float32, String, String, String, String, String, String, Float32, Float32, Float32, String, String, String, String, String, String, String, String, String, Float32, Float32, String, String, String, String, String, String, String, UInt64, String, String, List(UInt32), UInt16, String, String]\n",
      "240 \t 39 \t [UInt32, Float32, Float32, Float32, Float32, String, String, String, String, String, String, Float32, Float32, Float32, String, String, String, String, String, String, String, String, String, Float32, Float32, String, String, String, String, String, String, String, UInt64, String, String, List(UInt32), UInt16, String, String]\n",
      "241 \t 39 \t [UInt32, Float32, Float32, Float32, Float32, String, String, String, String, String, String, Float32, Float32, Float32, String, String, String, String, String, String, String, String, String, Float32, Float32, String, String, String, String, String, String, String, UInt64, String, String, List(UInt32), UInt16, String, String]\n",
      "242 \t 39 \t [UInt32, Float32, Float32, Float32, Float32, String, String, String, String, String, String, Float32, Float32, Float32, String, String, String, String, String, String, String, String, String, Float32, Float32, String, String, String, String, String, String, String, UInt64, String, String, List(UInt32), UInt16, String, String]\n",
      "243 \t 39 \t [UInt32, Float32, Float32, Float32, Float32, String, String, String, String, String, String, Float32, Float32, Float32, String, String, String, String, String, String, String, String, String, Float32, Float32, String, String, String, String, String, String, String, UInt64, String, String, List(UInt32), UInt16, String, String]\n",
      "244 \t 39 \t [UInt32, Float32, Float32, Float32, Float32, String, String, String, String, String, String, Float32, Float32, Float32, String, String, String, String, String, String, String, String, String, Float32, Float32, String, String, String, String, String, String, String, UInt64, String, String, List(UInt32), UInt16, String, String]\n",
      "245 \t 39 \t [UInt32, Float32, Float32, Float32, Float32, String, String, String, String, String, String, Float32, Float32, Float32, String, String, String, String, String, String, String, String, String, Float32, Float32, String, String, String, String, String, String, String, UInt64, String, String, List(UInt32), UInt16, String, String]\n",
      "246 \t 39 \t [UInt32, Float32, Float32, Float32, Float32, String, String, String, String, String, String, Float32, Float32, Float32, String, String, String, String, String, String, String, String, String, Float32, Float32, String, String, String, String, String, String, String, UInt64, String, String, List(UInt32), UInt16, String, String]\n",
      "247 \t 39 \t [UInt32, Float32, Float32, Float32, Float32, String, String, String, String, String, String, Float32, Float32, Float32, String, String, String, String, String, String, String, String, String, Float32, Float32, String, String, String, String, String, String, String, UInt64, String, String, List(UInt32), UInt16, String, String]\n",
      "248 \t 39 \t [UInt32, Float32, Float32, Float32, Float32, String, String, String, String, String, String, Float32, Float32, Float32, String, String, String, String, String, String, String, String, String, Float32, Float32, String, String, String, String, String, String, String, UInt64, String, String, List(UInt32), UInt16, String, String]\n",
      "249 \t 39 \t [UInt32, Float32, Float32, Float32, Float32, String, String, String, String, String, String, Float32, Float32, Float32, String, String, String, String, String, String, String, String, String, Float32, Float32, String, String, String, String, String, String, String, UInt64, String, String, List(UInt32), UInt16, String, String]\n",
      "250 \t 39 \t [UInt32, Float32, Float32, Float32, Float32, String, String, String, String, String, String, Float32, Float32, Float32, String, String, String, String, String, String, String, String, String, Float32, Float32, String, String, String, String, String, String, String, UInt64, String, String, List(UInt32), UInt16, String, String]\n",
      "251 \t 39 \t [UInt32, Float32, Float32, Float32, Float32, String, String, String, String, String, String, Float32, Float32, Float32, String, String, String, String, String, String, String, String, String, Float32, Float32, String, String, String, String, String, String, String, UInt64, String, String, List(UInt32), UInt16, String, String]\n",
      "252 \t 39 \t [UInt32, Float32, Float32, Float32, Float32, String, String, String, String, String, String, Float32, Float32, Float32, String, String, String, String, String, String, String, String, String, Float32, Float32, String, String, String, String, String, String, String, UInt64, String, String, List(UInt32), UInt16, String, String]\n",
      "253 \t 39 \t [UInt32, Float32, Float32, Float32, Float32, String, String, String, String, String, String, Float32, Float32, Float32, String, String, String, String, String, String, String, String, String, Float32, Float32, String, String, String, String, String, String, String, UInt64, String, String, List(UInt32), UInt16, String, String]\n",
      "254 \t 39 \t [UInt32, Float32, Float32, Float32, Float32, String, String, String, String, String, String, Float32, Float32, Float32, String, String, String, String, String, String, String, String, String, Float32, Float32, String, String, String, String, String, String, String, UInt64, String, String, List(UInt32), UInt16, String, String]\n",
      "255 \t 39 \t [UInt32, Float32, Float32, Float32, Float32, String, String, String, String, String, String, Float32, Float32, Float32, String, String, String, String, String, String, String, String, String, Float32, Float32, String, String, String, String, String, String, String, UInt64, String, String, List(UInt32), UInt16, String, String]\n",
      "256 \t 39 \t [UInt32, Float32, Float32, Float32, Float32, String, String, String, String, String, String, Float32, Float32, Float32, String, String, String, String, String, String, String, String, String, Float32, Float32, String, String, String, String, String, String, String, UInt64, String, String, List(UInt32), UInt16, String, String]\n",
      "257 \t 39 \t [UInt32, Float32, Float32, Float32, Float32, String, String, String, String, String, String, Float32, Float32, Float32, String, String, String, String, String, String, String, String, String, Float32, Float32, String, String, String, String, String, String, String, UInt64, String, String, List(UInt32), UInt16, String, String]\n",
      "258 \t 39 \t [UInt32, Float32, Float32, Float32, Float32, String, String, String, String, String, String, Float32, Float32, Float32, String, String, String, String, String, String, String, String, String, Float32, Float32, String, String, String, String, String, String, String, UInt64, String, String, List(UInt32), UInt16, String, String]\n",
      "259 \t 39 \t [UInt32, Float32, Float32, Float32, Float32, String, String, String, String, String, String, Float32, Float32, Float32, String, String, String, String, String, String, String, String, String, Float32, Float32, String, String, String, String, String, String, String, UInt64, String, String, List(UInt32), UInt16, String, String]\n",
      "260 \t 39 \t [UInt32, Float32, Float32, Float32, Float32, String, String, String, String, String, String, Float32, Float32, Float32, String, String, String, String, String, String, String, String, String, Float32, Float32, String, String, String, String, String, String, String, UInt64, String, String, List(UInt32), UInt16, String, String]\n",
      "261 \t 39 \t [UInt32, Float32, Float32, Float32, Float32, String, String, String, String, String, String, Float32, Float32, Float32, String, String, String, String, String, String, String, String, String, Float32, Float32, String, String, String, String, String, String, String, UInt64, String, String, List(UInt32), UInt16, String, String]\n",
      "262 \t 39 \t [UInt32, Float32, Float32, Float32, Float32, String, String, String, String, String, String, Float32, Float32, Float32, String, String, String, String, String, String, String, String, String, Float32, Float32, String, String, String, String, String, String, String, UInt64, String, String, List(UInt32), UInt16, String, String]\n",
      "263 \t 39 \t [UInt32, Float32, Float32, Float32, Float32, String, String, String, String, String, String, Float32, Float32, Float32, String, String, String, String, String, String, String, String, String, Float32, Float32, String, String, String, String, String, String, String, UInt64, String, String, List(UInt32), UInt16, String, String]\n",
      "264 \t 39 \t [UInt32, Float32, Float32, Float32, Float32, String, String, String, String, String, String, Float32, Float32, Float32, String, String, String, String, String, String, String, String, String, Float32, Float32, String, String, String, String, String, String, String, UInt64, String, String, List(UInt32), UInt16, String, String]\n",
      "265 \t 39 \t [UInt32, Float32, Float32, Float32, Float32, String, String, String, String, String, String, Float32, Float32, Float32, String, String, String, String, String, String, String, String, String, Float32, Float32, String, String, String, String, String, String, String, UInt64, String, String, List(UInt32), UInt16, String, String]\n",
      "266 \t 39 \t [UInt32, Float32, Float32, Float32, Float32, String, String, String, String, String, String, Float32, Float32, Float32, String, String, String, String, String, String, String, String, String, Float32, Float32, String, String, String, String, String, String, String, UInt64, String, String, List(UInt32), UInt16, String, String]\n",
      "267 \t 39 \t [UInt32, Float32, Float32, Float32, Float32, String, String, String, String, String, String, Float32, Float32, Float32, String, String, String, String, String, String, String, String, String, Float32, Float32, String, String, String, String, String, String, String, UInt64, String, String, List(UInt32), UInt16, String, String]\n",
      "268 \t 39 \t [UInt32, Float32, Float32, Float32, Float32, String, String, String, String, String, String, Float32, Float32, Float32, String, String, String, String, String, String, String, String, String, Float32, Float32, String, String, String, String, String, String, String, UInt64, String, String, List(UInt32), UInt16, String, String]\n",
      "269 \t 39 \t [UInt32, Float32, Float32, Float32, Float32, String, String, String, String, String, String, Float32, Float32, Float32, String, String, String, String, String, String, String, String, String, Float32, Float32, String, String, String, String, String, String, String, UInt64, String, String, List(UInt32), UInt16, String, String]\n",
      "270 \t 39 \t [UInt32, Float32, Float32, Float32, Float32, String, String, String, String, String, String, Float32, Float32, Float32, String, String, String, String, String, String, String, String, String, Float32, Float32, String, String, String, String, String, String, String, UInt64, String, String, List(UInt32), UInt16, String, String]\n",
      "271 \t 39 \t [UInt32, Float32, Float32, Float32, Float32, String, String, String, String, String, String, Float32, Float32, Float32, String, String, String, String, String, String, String, String, String, Float32, Float32, String, String, String, String, String, String, String, UInt64, String, String, List(UInt32), UInt16, String, String]\n",
      "272 \t 39 \t [UInt32, Float32, Float32, Float32, Float32, String, String, String, String, String, String, Float32, Float32, Float32, String, String, String, String, String, String, String, String, String, Float32, Float32, String, String, String, String, String, String, String, UInt64, String, String, List(UInt32), UInt16, String, String]\n",
      "273 \t 39 \t [UInt32, Float32, Float32, Float32, Float32, String, String, String, String, String, String, Float32, Float32, Float32, String, String, String, String, String, String, String, String, String, Float32, Float32, String, String, String, String, String, String, String, UInt64, String, String, List(UInt32), UInt16, String, String]\n",
      "274 \t 39 \t [UInt32, Float32, Float32, Float32, Float32, String, String, String, String, String, String, Float32, Float32, Float32, String, String, String, String, String, String, String, String, String, Float32, Float32, String, String, String, String, String, String, String, UInt64, String, String, List(UInt32), UInt16, String, String]\n",
      "275 \t 39 \t [UInt32, Float32, Float32, Float32, Float32, String, String, String, String, String, String, Float32, Float32, Float32, String, String, String, String, String, String, String, String, String, Float32, Float32, String, String, String, String, String, String, String, UInt64, String, String, List(UInt32), UInt16, String, String]\n",
      "276 \t 39 \t [UInt32, Float32, Float32, Float32, Float32, String, String, String, String, String, String, Float32, Float32, Float32, String, String, String, String, String, String, String, String, String, Float32, Float32, String, String, String, String, String, String, String, UInt64, String, String, List(UInt32), UInt16, String, String]\n",
      "277 \t 39 \t [UInt32, Float32, Float32, Float32, Float32, String, String, String, String, String, String, Float32, Float32, Float32, String, String, String, String, String, String, String, String, String, Float32, Float32, String, String, String, String, String, String, String, UInt64, String, String, List(UInt32), UInt16, String, String]\n",
      "278 \t 39 \t [UInt32, Float32, Float32, Float32, Float32, String, String, String, String, String, String, Float32, Float32, Float32, String, String, String, String, String, String, String, String, String, Float32, Float32, String, String, String, String, String, String, String, UInt64, String, String, List(UInt32), UInt16, String, String]\n"
     ]
    }
   ],
   "source": [
    "for i, d in enumerate(final_data):\n",
    "    print(i, \"\\t\", len(d.columns), \"\\t\", d.dtypes)"
   ]
  },
  {
   "cell_type": "code",
   "execution_count": 146,
   "metadata": {},
   "outputs": [
    {
     "data": {
      "text/html": [
       "<div><style>\n",
       ".dataframe > thead > tr,\n",
       ".dataframe > tbody > tr {\n",
       "  text-align: right;\n",
       "  white-space: pre-wrap;\n",
       "}\n",
       "</style>\n",
       "<small>shape: (1, 39)</small><table border=\"1\" class=\"dataframe\"><thead><tr><th>offer_id</th><th>offer_price</th><th>appraisal_price</th><th>sap_price</th><th>web_price</th><th>delegate</th><th>segment</th><th>buyer_meeting</th><th>listed</th><th>rollup</th><th>dossier</th><th>due_diligence_percent</th><th>contract_deposit_percent</th><th>public_deed_percent</th><th>conditions</th><th>offer_description</th><th>svh_opinion</th><th>svh_recommendation</th><th>lead_type</th><th>lead_id</th><th>commercial_status</th><th>possession_status</th><th>legal_status</th><th>land_area</th><th>buildable_area</th><th>main_use</th><th>planning_works</th><th>reparcelation_project</th><th>urbanization_project</th><th>urban_works</th><th>client_name</th><th>client_tax_id</th><th>client_phone</th><th>client_email</th><th>client_address</th><th>urs_unicos</th><th>total_urs</th><th>full_path</th><th>file_name</th></tr><tr><td>u32</td><td>f32</td><td>f32</td><td>f32</td><td>f32</td><td>str</td><td>str</td><td>str</td><td>str</td><td>str</td><td>str</td><td>f32</td><td>f32</td><td>f32</td><td>str</td><td>str</td><td>str</td><td>str</td><td>str</td><td>str</td><td>str</td><td>str</td><td>str</td><td>f32</td><td>f32</td><td>str</td><td>str</td><td>str</td><td>str</td><td>str</td><td>str</td><td>str</td><td>u64</td><td>str</td><td>str</td><td>list[u32]</td><td>u16</td><td>str</td><td>str</td></tr></thead><tbody><tr><td>5570711</td><td>680000.0</td><td>1.2796e6</td><td>null</td><td>null</td><td>&quot;Alejandro Bosch&quot;</td><td>&quot;B&quot;</td><td>&quot;40%FFPP/60% FINANCIACIÓN 45 di…</td><td>&quot;SI&quot;</td><td>&quot;No&quot;</td><td>&quot;No&quot;</td><td>null</td><td>null</td><td>null</td><td>null</td><td>&quot;La PC del asunto es un edifici…</td><td>&quot;Segunda oferta recibida por es…</td><td>&quot;Contraofertar&quot;</td><td>&quot;API&quot;</td><td>&quot;A070013004&quot;</td><td>&quot;DISPONIBLE COMERCIALIZAR&quot;</td><td>&quot;LIBRE CON POSESIÓN&quot;</td><td>&quot;TIT. INSCRITO&quot;</td><td>null</td><td>1324.26001</td><td>&quot;RESI&quot;</td><td>&quot;NA&quot;</td><td>&quot;NA&quot;</td><td>&quot;NA&quot;</td><td>&quot;NA&quot;</td><td>&quot;Pablo Javier Lopez Hernandez&quot;</td><td>&quot;78517643 J&quot;</td><td>696623168</td><td>&quot;pablojaloro@hotmail.com&quot;</td><td>&quot;Rambla Roger de Lauria, 75 351…</td><td>[60451523, 60451537, … 60492078]</td><td>37</td><td>&quot;N:/CoralHudson/1. AM/8. Wholes…</td><td>&quot;20231227_OF_5570711_PC_6073207…</td></tr></tbody></table></div>"
      ],
      "text/plain": [
       "shape: (1, 39)\n",
       "┌──────────┬───────────┬───────────┬───────────┬───┬───────────┬───────────┬───────────┬───────────┐\n",
       "│ offer_id ┆ offer_pri ┆ appraisal ┆ sap_price ┆ … ┆ urs_unico ┆ total_urs ┆ full_path ┆ file_name │\n",
       "│ ---      ┆ ce        ┆ _price    ┆ ---       ┆   ┆ s         ┆ ---       ┆ ---       ┆ ---       │\n",
       "│ u32      ┆ ---       ┆ ---       ┆ f32       ┆   ┆ ---       ┆ u16       ┆ str       ┆ str       │\n",
       "│          ┆ f32       ┆ f32       ┆           ┆   ┆ list[u32] ┆           ┆           ┆           │\n",
       "╞══════════╪═══════════╪═══════════╪═══════════╪═══╪═══════════╪═══════════╪═══════════╪═══════════╡\n",
       "│ 5570711  ┆ 680000.0  ┆ 1.2796e6  ┆ null      ┆ … ┆ [60451523 ┆ 37        ┆ N:/CoralH ┆ 20231227_ │\n",
       "│          ┆           ┆           ┆           ┆   ┆ ,         ┆           ┆ udson/1.  ┆ OF_557071 │\n",
       "│          ┆           ┆           ┆           ┆   ┆ 60451537, ┆           ┆ AM/8.     ┆ 1_PC_6073 │\n",
       "│          ┆           ┆           ┆           ┆   ┆ …         ┆           ┆ Wholes…   ┆ 207…      │\n",
       "│          ┆           ┆           ┆           ┆   ┆ 6049207…  ┆           ┆           ┆           │\n",
       "└──────────┴───────────┴───────────┴───────────┴───┴───────────┴───────────┴───────────┴───────────┘"
      ]
     },
     "execution_count": 146,
     "metadata": {},
     "output_type": "execute_result"
    }
   ],
   "source": [
    "final_data[7]"
   ]
  },
  {
   "cell_type": "code",
   "execution_count": 147,
   "metadata": {},
   "outputs": [
    {
     "data": {
      "text/html": [
       "<div><style>\n",
       ".dataframe > thead > tr,\n",
       ".dataframe > tbody > tr {\n",
       "  text-align: right;\n",
       "  white-space: pre-wrap;\n",
       "}\n",
       "</style>\n",
       "<small>shape: (279, 39)</small><table border=\"1\" class=\"dataframe\"><thead><tr><th>offer_id</th><th>offer_price</th><th>appraisal_price</th><th>sap_price</th><th>web_price</th><th>delegate</th><th>segment</th><th>buyer_meeting</th><th>listed</th><th>rollup</th><th>dossier</th><th>due_diligence_percent</th><th>contract_deposit_percent</th><th>public_deed_percent</th><th>conditions</th><th>offer_description</th><th>svh_opinion</th><th>svh_recommendation</th><th>lead_type</th><th>lead_id</th><th>commercial_status</th><th>possession_status</th><th>legal_status</th><th>land_area</th><th>buildable_area</th><th>main_use</th><th>planning_works</th><th>reparcelation_project</th><th>urbanization_project</th><th>urban_works</th><th>client_name</th><th>client_tax_id</th><th>client_phone</th><th>client_email</th><th>client_address</th><th>urs_unicos</th><th>total_urs</th><th>full_path</th><th>file_name</th></tr><tr><td>u32</td><td>f32</td><td>f32</td><td>f32</td><td>f32</td><td>str</td><td>str</td><td>str</td><td>str</td><td>str</td><td>str</td><td>f32</td><td>f32</td><td>f32</td><td>str</td><td>str</td><td>str</td><td>str</td><td>str</td><td>str</td><td>str</td><td>str</td><td>str</td><td>f32</td><td>f32</td><td>str</td><td>str</td><td>str</td><td>str</td><td>str</td><td>str</td><td>str</td><td>u64</td><td>str</td><td>str</td><td>list[u32]</td><td>u16</td><td>str</td><td>str</td></tr></thead><tbody><tr><td>5579533</td><td>270000.0</td><td>272217.15625</td><td>450000.0</td><td>450000.0</td><td>&quot;Jose Maria Abril&quot;</td><td>null</td><td>&quot;SI &quot;</td><td>&quot;SI&quot;</td><td>&quot;NO&quot;</td><td>&quot;NO&quot;</td><td>null</td><td>0.0</td><td>1.0</td><td>&quot;E.P. 30 DIAS TRAS ACEPTACIÓN D…</td><td>&quot;Obra en curso que se constituy…</td><td>&quot;Oferta procedente del departam…</td><td>&quot;Vender&quot;</td><td>&quot;SERVIHABITAT&quot;</td><td>null</td><td>&quot;DISPONIBLE COMERCIALIZAR&quot;</td><td>&quot;LIBRE CON POSESIÓN&quot;</td><td>&quot;TIT. INSCRITO&quot;</td><td>null</td><td>1345.459961</td><td>&quot;RESI&quot;</td><td>&quot;NA&quot;</td><td>&quot;NA&quot;</td><td>&quot;NA&quot;</td><td>&quot;NA&quot;</td><td>&quot;Ison Terrasa Inversions 2006 S…</td><td>&quot;B57417362&quot;</td><td>971214016</td><td>&quot;canmetles@gmail.com&quot;</td><td>&quot;C/ Jaume III 20, Palma Mallorc…</td><td>[60462639, 60462650, … 60478228]</td><td>8</td><td>&quot;N:/CoralHudson/1. AM/8. Wholes…</td><td>&quot;20240423 OFERTA 5579533 PROMO …</td></tr><tr><td>5584147</td><td>135000.0</td><td>124870.0</td><td>0.0</td><td>0.0</td><td>&quot;Jose Maria Abril&quot;</td><td>null</td><td>&quot;SI &quot;</td><td>&quot;SI&quot;</td><td>&quot;NO&quot;</td><td>&quot;NO&quot;</td><td>null</td><td>0.0</td><td>1.0</td><td>&quot;E.P. 30 DIAS TRAS ACEPTACIÓN D…</td><td>&quot;Vivienda + garaje y trastero e…</td><td>&quot;Oferta procedente del departam…</td><td>&quot;Vender&quot;</td><td>&quot;SERVIHABITAT&quot;</td><td>null</td><td>&quot;DISPONIBLE COMERCIALIZAR&quot;</td><td>&quot;DENEGADA POSESION JUZGADO&quot;</td><td>&quot;TIT. INSCRITO&quot;</td><td>null</td><td>103.0</td><td>&quot;RESI&quot;</td><td>&quot;NA&quot;</td><td>&quot;NA&quot;</td><td>&quot;NA&quot;</td><td>&quot;NA&quot;</td><td>&quot;Telcosur Almudeyne Sl&quot;</td><td>&quot;B90354671&quot;</td><td>677207104</td><td>&quot;cotashome@gmail.com&quot;</td><td>&quot;C/ Arquitectura 2 Sevilla&quot;</td><td>[60460896, 60460908, 60460931]</td><td>3</td><td>&quot;N:/CoralHudson/1. AM/8. Wholes…</td><td>&quot;20240423 OFERTA 5584147 PROMO …</td></tr><tr><td>5583510</td><td>485000.0</td><td>2563422.5</td><td>2.8498e6</td><td>2.8498e6</td><td>&quot;Fernando Ruiz-cabello&quot;</td><td>&quot;D&quot;</td><td>&quot;SI&quot;</td><td>null</td><td>&quot;SI&quot;</td><td>&quot;SI&quot;</td><td>null</td><td>0.0</td><td>1.0</td><td>&quot;E.P. 100% A LOS 40 DIAS DESDE …</td><td>&quot;SUP 8. MANZANAS M23 y M24 SUEL…</td><td>&quot;Se trata de un suelo finalista…</td><td>&quot;Vender&quot;</td><td>&quot;SERVIHABITAT&quot;</td><td>null</td><td>&quot;DISPONIBLE COMERCIALIZAR&quot;</td><td>&quot;LIBRE CON POSESIÓN&quot;</td><td>&quot;TIT. INSCRITO&quot;</td><td>null</td><td>15000.0</td><td>&quot;RESI&quot;</td><td>&quot;NA&quot;</td><td>&quot;NA&quot;</td><td>&quot;NA&quot;</td><td>&quot;NA&quot;</td><td>&quot;S. J. De Inversiones, S.l. .&quot;</td><td>&quot;B-41724402&quot;</td><td>610715328</td><td>&quot;jmsanchez@ibernegociosinmobili…</td><td>&quot;CARNICEROS 32, EL VISO DEL ALC…</td><td>[60520231, 60520252, … 60533772]</td><td>185</td><td>&quot;N:/CoralHudson/1. AM/8. Wholes…</td><td>&quot;20240423_OF_5583510_PROMO 6082…</td></tr><tr><td>5583836</td><td>95000.0</td><td>484676.78125</td><td>390000.0</td><td>390000.0</td><td>&quot;Antonio Expósito Haza&quot;</td><td>&quot;D&quot;</td><td>null</td><td>null</td><td>&quot;SI&quot;</td><td>&quot;SI&quot;</td><td>null</td><td>null</td><td>1.0</td><td>&quot;E.P. antes 30/05/2024&quot;</td><td>&quot;Parcela de SUNC dentro de 3 Un…</td><td>&quot;Dados los precios de venta de …</td><td>&quot;Vender&quot;</td><td>&quot;API&quot;</td><td>&quot;A001025503&quot;</td><td>&quot;DISPONIBLE COMERCIALIZAR&quot;</td><td>&quot;LIBRE POSESIÓN ACTA&quot;</td><td>&quot;TIT. INSCRITO&quot;</td><td>13149.0</td><td>8109.0</td><td>&quot;RESI&quot;</td><td>&quot;NA&quot;</td><td>&quot;NA&quot;</td><td>&quot;NA&quot;</td><td>&quot;NA&quot;</td><td>&quot;Atoga Extrem Sl&quot;</td><td>&quot;B56609480\r\n",
       "&quot;</td><td>607594432</td><td>&quot;javier@javiergaspar.com&quot;</td><td>&quot;PARQUE DE DOÑANA 15, BADAJOZ&quot;</td><td>[60531816]</td><td>1</td><td>&quot;N:/CoralHudson/1. AM/8. Wholes…</td><td>&quot;20240423_OF_5583836_UR_6053181…</td></tr><tr><td>5570280</td><td>305000.0</td><td>536000.0</td><td>350000.0</td><td>null</td><td>&quot;Jordi Sala Arumi&quot;</td><td>&quot;A&quot;</td><td>&quot;NO&quot;</td><td>null</td><td>&quot;NO&quot;</td><td>&quot;SI&quot;</td><td>null</td><td>0.1</td><td>0.9</td><td>&quot;E.P. 22/01/2024&quot;</td><td>&quot;Local en edificio terminado de…</td><td>&quot;Recomendamos esta oferta por t…</td><td>&quot;Vender&quot;</td><td>&quot;API&quot;</td><td>&quot;A070013599&quot;</td><td>&quot;DISPONIBLE COMERCIALIZAR&quot;</td><td>&quot;REVISADA ENTREGA VOLUNTARIA DE…</td><td>&quot;TIT. INSCRITO&quot;</td><td>null</td><td>214.399994</td><td>&quot;COMERCIAL&quot;</td><td>&quot;NA&quot;</td><td>&quot;NA&quot;</td><td>&quot;NA&quot;</td><td>&quot;NA&quot;</td><td>&quot;Sicosa Home Slu&quot;</td><td>&quot;B44578110&quot;</td><td>610523968</td><td>&quot;gerencia@clinicasanident.com&quot;</td><td>&quot;SANT QUIRZE DEL VALLES&quot;</td><td>[60529132]</td><td>1</td><td>&quot;N:/CoralHudson/1. AM/8. Wholes…</td><td>&quot;20231219_OF 5570280 UR 6052913…</td></tr><tr><td>&hellip;</td><td>&hellip;</td><td>&hellip;</td><td>&hellip;</td><td>&hellip;</td><td>&hellip;</td><td>&hellip;</td><td>&hellip;</td><td>&hellip;</td><td>&hellip;</td><td>&hellip;</td><td>&hellip;</td><td>&hellip;</td><td>&hellip;</td><td>&hellip;</td><td>&hellip;</td><td>&hellip;</td><td>&hellip;</td><td>&hellip;</td><td>&hellip;</td><td>&hellip;</td><td>&hellip;</td><td>&hellip;</td><td>&hellip;</td><td>&hellip;</td><td>&hellip;</td><td>&hellip;</td><td>&hellip;</td><td>&hellip;</td><td>&hellip;</td><td>&hellip;</td><td>&hellip;</td><td>&hellip;</td><td>&hellip;</td><td>&hellip;</td><td>&hellip;</td><td>&hellip;</td><td>&hellip;</td><td>&hellip;</td></tr><tr><td>5578718</td><td>250000.0</td><td>443305.5</td><td>0.0</td><td>null</td><td>&quot;Antonio Expósito Haza&quot;</td><td>&quot;D&quot;</td><td>&quot;Si&quot;</td><td>null</td><td>&quot;SI&quot;</td><td>&quot;SI&quot;</td><td>null</td><td>0.0</td><td>1.0</td><td>&quot;EP MAX 180 días desde aprobaci…</td><td>&quot;46 parcelas resultantes de sue…</td><td>&quot;La falta de ofertantes previos…</td><td>&quot;Vender&quot;</td><td>&quot;SERVIHABITAT&quot;</td><td>null</td><td>&quot;DISPONIBLE COMERCIALIZAR&quot;</td><td>&quot;LIBRE CON POSESIÓN&quot;</td><td>&quot;TIT. INSCRITO&quot;</td><td>29848.0</td><td>28057.0</td><td>&quot;INDUSTRIAL&quot;</td><td>&quot;Aprobado&quot;</td><td>&quot;Aprobado&quot;</td><td>&quot;Aprobado&quot;</td><td>&quot;Ejecutadas parcialmente&quot;</td><td>&quot;Ayuntamiento De Montilla&quot;</td><td>&quot;P1404200F&quot;</td><td>647437632</td><td>&quot;lm.bujalance@montilla.es&quot;</td><td>&quot;PUERTA AGUILAR 10, MONTILLA&quot;</td><td>[60762754, 60762755, … 60762798]</td><td>45</td><td>&quot;N:/CoralHudson/1. AM/8. Wholes…</td><td>&quot;20240506_OF_5578718_PCIAL_6082…</td></tr><tr><td>5582254</td><td>692250.0</td><td>1.2432e6</td><td>0.0</td><td>null</td><td>&quot;Fernando Ruiz-cabello&quot;</td><td>&quot;C&quot;</td><td>&quot;SI&quot;</td><td>null</td><td>&quot;SI&quot;</td><td>&quot;SI&quot;</td><td>null</td><td>0.2</td><td>0.9</td><td>&quot;10% Arras a los 30 dias de la …</td><td>&quot;El PERI está constituido por l…</td><td>&quot;Inmueble a la venta desde 2015…</td><td>&quot;Vender&quot;</td><td>&quot;API&quot;</td><td>&quot;A001066417&quot;</td><td>&quot;DISPONIBLE COMERCIALIZAR&quot;</td><td>&quot;LIBRE CON POSESIÓN&quot;</td><td>&quot;TIT. INSCRITO&quot;</td><td>12753.0</td><td>6421.0</td><td>&quot;RESI&quot;</td><td>&quot;SI&quot;</td><td>&quot;SI&quot;</td><td>&quot;SI&quot;</td><td>&quot;NO&quot;</td><td>&quot;Procura Inversion Sociedad De …</td><td>&quot;B-90420183&quot;</td><td>690702016</td><td>&quot;jlmunoz@grupomaben.com&quot;</td><td>&quot;MATEOS GAGO PLANTA 2, SEVILLA&quot;</td><td>[60467352, 60467373, 60467392]</td><td>3</td><td>&quot;N:/CoralHudson/1. AM/8. Wholes…</td><td>&quot;20240506_OF_5582254_PROMO 6074…</td></tr><tr><td>5583722</td><td>300000.0</td><td>581283.75</td><td>595000.0</td><td>null</td><td>&quot;Antonio Expósito Haza&quot;</td><td>&quot;D&quot;</td><td>&quot;Si&quot;</td><td>null</td><td>&quot;SI&quot;</td><td>&quot;SI&quot;</td><td>null</td><td>null</td><td>1.0</td><td>&quot;EP 45 DIAS DESDE APROBACION&quot;</td><td>&quot;Promoción comercial de 16 vivi…</td><td>&quot;La falta de interesados en el …</td><td>&quot;Vender&quot;</td><td>&quot;API&quot;</td><td>&quot;\tA001118735&quot;</td><td>&quot;DISPONIBLE COMERCIALIZAR&quot;</td><td>&quot;LIBRE CON POSESIÓN&quot;</td><td>&quot;TIT. INSCRITO&quot;</td><td>2786.0</td><td>1339.959961</td><td>&quot;RESI&quot;</td><td>&quot;NA&quot;</td><td>&quot;NA&quot;</td><td>&quot;NA&quot;</td><td>&quot;NA&quot;</td><td>&quot;Rotracsa Sl&quot;</td><td>&quot;B87613261&quot;</td><td>609620608</td><td>&quot;joseluisbel@rotracsa.com&quot;</td><td>&quot;SANTA ENGRACIA 14, MADRID&quot;</td><td>[60504461, 60504472, … 60527790]</td><td>15</td><td>&quot;N:/CoralHudson/1. AM/8. Wholes…</td><td>&quot;20240506_OF_5583722_PCIAL_6079…</td></tr><tr><td>5585211</td><td>100000.0</td><td>402900.0</td><td>300000.0</td><td>300000.0</td><td>&quot;Carlos Revenga Frauca&quot;</td><td>&quot;c&quot;</td><td>&quot;si&quot;</td><td>null</td><td>&quot;si&quot;</td><td>&quot;SI&quot;</td><td>null</td><td>0.0</td><td>1.0</td><td>&quot;E.P.  A los 60 días de aprobac…</td><td>&quot;Parcela de 3493m2, según catas…</td><td>&quot;Debido a que se trata de una o…</td><td>&quot;Contraofertar&quot;</td><td>&quot;API&quot;</td><td>&quot;A001116764&quot;</td><td>&quot;DISPONIBLE COMERCIALIZAR&quot;</td><td>&quot;LIBRE CON POSESIÓN&quot;</td><td>&quot;TIT. INSCRITO&quot;</td><td>3493.0</td><td>2445.0</td><td>&quot;RESI&quot;</td><td>&quot;NA&quot;</td><td>&quot;NA&quot;</td><td>&quot;NA&quot;</td><td>&quot;NA&quot;</td><td>&quot;Promociones Parbanorte S.l.&quot;</td><td>&quot;B39867411&quot;</td><td>942355136</td><td>&quot;promocionesparbanorte@gmail.co…</td><td>&quot;C/Los Ciruelos 32, Santander&quot;</td><td>[60520927]</td><td>1</td><td>&quot;N:/CoralHudson/1. AM/8. Wholes…</td><td>&quot;20240506_OF_5585211_UR60520927…</td></tr><tr><td>5585327</td><td>262500.0</td><td>1.6492e6</td><td>0.0</td><td>null</td><td>&quot;Antonio Expósito Haza&quot;</td><td>&quot;D&quot;</td><td>&quot;Si&quot;</td><td>null</td><td>&quot;SI&quot;</td><td>&quot;SI&quot;</td><td>null</td><td>0.1</td><td>1.0</td><td>&quot;10% ARRAS, EP 90% ANTES 30/06/…</td><td>&quot;Promoción comercial de 21 vivi…</td><td>&quot;Dada la falta de ofertantes en…</td><td>&quot;Vender&quot;</td><td>&quot;API&quot;</td><td>&quot;A001112154&quot;</td><td>&quot;DISPONIBLE COMERCIALIZAR&quot;</td><td>&quot;REVISADA ENTREGA VOLUNTARIA DE…</td><td>&quot;TIT. INSCRITO&quot;</td><td>1422.0</td><td>2623.0</td><td>&quot;RESI&quot;</td><td>&quot;NA&quot;</td><td>&quot;NA&quot;</td><td>&quot;NA&quot;</td><td>&quot;NA&quot;</td><td>&quot;Focus Gestiones De Inmuebles&quot;</td><td>&quot;B06618847&quot;</td><td>629881152</td><td>&quot;focusgestionesdeinmuebles@gmai…</td><td>&quot;SINFORIANO MADROÑERO 7, BADAJO…</td><td>[60457755, 60457767, … 60458170]</td><td>35</td><td>&quot;N:/CoralHudson/1. AM/8. Wholes…</td><td>&quot;20240506_OF_5585327_PCIAL_6073…</td></tr></tbody></table></div>"
      ],
      "text/plain": [
       "shape: (279, 39)\n",
       "┌──────────┬───────────┬───────────┬───────────┬───┬───────────┬───────────┬───────────┬───────────┐\n",
       "│ offer_id ┆ offer_pri ┆ appraisal ┆ sap_price ┆ … ┆ urs_unico ┆ total_urs ┆ full_path ┆ file_name │\n",
       "│ ---      ┆ ce        ┆ _price    ┆ ---       ┆   ┆ s         ┆ ---       ┆ ---       ┆ ---       │\n",
       "│ u32      ┆ ---       ┆ ---       ┆ f32       ┆   ┆ ---       ┆ u16       ┆ str       ┆ str       │\n",
       "│          ┆ f32       ┆ f32       ┆           ┆   ┆ list[u32] ┆           ┆           ┆           │\n",
       "╞══════════╪═══════════╪═══════════╪═══════════╪═══╪═══════════╪═══════════╪═══════════╪═══════════╡\n",
       "│ 5579533  ┆ 270000.0  ┆ 272217.15 ┆ 450000.0  ┆ … ┆ [60462639 ┆ 8         ┆ N:/CoralH ┆ 20240423  │\n",
       "│          ┆           ┆ 625       ┆           ┆   ┆ ,         ┆           ┆ udson/1.  ┆ OFERTA    │\n",
       "│          ┆           ┆           ┆           ┆   ┆ 60462650, ┆           ┆ AM/8.     ┆ 5579533   │\n",
       "│          ┆           ┆           ┆           ┆   ┆ …         ┆           ┆ Wholes…   ┆ PROMO …   │\n",
       "│          ┆           ┆           ┆           ┆   ┆ 6047822…  ┆           ┆           ┆           │\n",
       "│ 5584147  ┆ 135000.0  ┆ 124870.0  ┆ 0.0       ┆ … ┆ [60460896 ┆ 3         ┆ N:/CoralH ┆ 20240423  │\n",
       "│          ┆           ┆           ┆           ┆   ┆ ,         ┆           ┆ udson/1.  ┆ OFERTA    │\n",
       "│          ┆           ┆           ┆           ┆   ┆ 60460908, ┆           ┆ AM/8.     ┆ 5584147   │\n",
       "│          ┆           ┆           ┆           ┆   ┆ 60460931] ┆           ┆ Wholes…   ┆ PROMO …   │\n",
       "│ 5583510  ┆ 485000.0  ┆ 2563422.5 ┆ 2.8498e6  ┆ … ┆ [60520231 ┆ 185       ┆ N:/CoralH ┆ 20240423_ │\n",
       "│          ┆           ┆           ┆           ┆   ┆ ,         ┆           ┆ udson/1.  ┆ OF_558351 │\n",
       "│          ┆           ┆           ┆           ┆   ┆ 60520252, ┆           ┆ AM/8.     ┆ 0_PROMO   │\n",
       "│          ┆           ┆           ┆           ┆   ┆ …         ┆           ┆ Wholes…   ┆ 6082…     │\n",
       "│          ┆           ┆           ┆           ┆   ┆ 6053377…  ┆           ┆           ┆           │\n",
       "│ 5583836  ┆ 95000.0   ┆ 484676.78 ┆ 390000.0  ┆ … ┆ [60531816 ┆ 1         ┆ N:/CoralH ┆ 20240423_ │\n",
       "│          ┆           ┆ 125       ┆           ┆   ┆ ]         ┆           ┆ udson/1.  ┆ OF_558383 │\n",
       "│          ┆           ┆           ┆           ┆   ┆           ┆           ┆ AM/8.     ┆ 6_UR_6053 │\n",
       "│          ┆           ┆           ┆           ┆   ┆           ┆           ┆ Wholes…   ┆ 181…      │\n",
       "│ 5570280  ┆ 305000.0  ┆ 536000.0  ┆ 350000.0  ┆ … ┆ [60529132 ┆ 1         ┆ N:/CoralH ┆ 20231219_ │\n",
       "│          ┆           ┆           ┆           ┆   ┆ ]         ┆           ┆ udson/1.  ┆ OF        │\n",
       "│          ┆           ┆           ┆           ┆   ┆           ┆           ┆ AM/8.     ┆ 5570280   │\n",
       "│          ┆           ┆           ┆           ┆   ┆           ┆           ┆ Wholes…   ┆ UR        │\n",
       "│          ┆           ┆           ┆           ┆   ┆           ┆           ┆           ┆ 6052913…  │\n",
       "│ …        ┆ …         ┆ …         ┆ …         ┆ … ┆ …         ┆ …         ┆ …         ┆ …         │\n",
       "│ 5578718  ┆ 250000.0  ┆ 443305.5  ┆ 0.0       ┆ … ┆ [60762754 ┆ 45        ┆ N:/CoralH ┆ 20240506_ │\n",
       "│          ┆           ┆           ┆           ┆   ┆ ,         ┆           ┆ udson/1.  ┆ OF_557871 │\n",
       "│          ┆           ┆           ┆           ┆   ┆ 60762755, ┆           ┆ AM/8.     ┆ 8_PCIAL_6 │\n",
       "│          ┆           ┆           ┆           ┆   ┆ …         ┆           ┆ Wholes…   ┆ 082…      │\n",
       "│          ┆           ┆           ┆           ┆   ┆ 6076279…  ┆           ┆           ┆           │\n",
       "│ 5582254  ┆ 692250.0  ┆ 1.2432e6  ┆ 0.0       ┆ … ┆ [60467352 ┆ 3         ┆ N:/CoralH ┆ 20240506_ │\n",
       "│          ┆           ┆           ┆           ┆   ┆ ,         ┆           ┆ udson/1.  ┆ OF_558225 │\n",
       "│          ┆           ┆           ┆           ┆   ┆ 60467373, ┆           ┆ AM/8.     ┆ 4_PROMO   │\n",
       "│          ┆           ┆           ┆           ┆   ┆ 60467392] ┆           ┆ Wholes…   ┆ 6074…     │\n",
       "│ 5583722  ┆ 300000.0  ┆ 581283.75 ┆ 595000.0  ┆ … ┆ [60504461 ┆ 15        ┆ N:/CoralH ┆ 20240506_ │\n",
       "│          ┆           ┆           ┆           ┆   ┆ ,         ┆           ┆ udson/1.  ┆ OF_558372 │\n",
       "│          ┆           ┆           ┆           ┆   ┆ 60504472, ┆           ┆ AM/8.     ┆ 2_PCIAL_6 │\n",
       "│          ┆           ┆           ┆           ┆   ┆ …         ┆           ┆ Wholes…   ┆ 079…      │\n",
       "│          ┆           ┆           ┆           ┆   ┆ 6052779…  ┆           ┆           ┆           │\n",
       "│ 5585211  ┆ 100000.0  ┆ 402900.0  ┆ 300000.0  ┆ … ┆ [60520927 ┆ 1         ┆ N:/CoralH ┆ 20240506_ │\n",
       "│          ┆           ┆           ┆           ┆   ┆ ]         ┆           ┆ udson/1.  ┆ OF_558521 │\n",
       "│          ┆           ┆           ┆           ┆   ┆           ┆           ┆ AM/8.     ┆ 1_UR60520 │\n",
       "│          ┆           ┆           ┆           ┆   ┆           ┆           ┆ Wholes…   ┆ 927…      │\n",
       "│ 5585327  ┆ 262500.0  ┆ 1.6492e6  ┆ 0.0       ┆ … ┆ [60457755 ┆ 35        ┆ N:/CoralH ┆ 20240506_ │\n",
       "│          ┆           ┆           ┆           ┆   ┆ ,         ┆           ┆ udson/1.  ┆ OF_558532 │\n",
       "│          ┆           ┆           ┆           ┆   ┆ 60457767, ┆           ┆ AM/8.     ┆ 7_PCIAL_6 │\n",
       "│          ┆           ┆           ┆           ┆   ┆ …         ┆           ┆ Wholes…   ┆ 073…      │\n",
       "│          ┆           ┆           ┆           ┆   ┆ 6045817…  ┆           ┆           ┆           │\n",
       "└──────────┴───────────┴───────────┴───────────┴───┴───────────┴───────────┴───────────┴───────────┘"
      ]
     },
     "execution_count": 147,
     "metadata": {},
     "output_type": "execute_result"
    }
   ],
   "source": [
    "unidos = pl.concat(final_data)\n",
    "unidos"
   ]
  },
  {
   "cell_type": "markdown",
   "metadata": {},
   "source": [
    "| cols1           | cols2                     | cols3                       |\n",
    "|-----------------|---------------------------|-----------------------------|\n",
    "| offer_id        | main_use                  | client_email                |\n",
    "| offer_date      | planning_works            | client_address              |\n",
    "| offer_price     | land_readjustment_project | due_diligence               |\n",
    "| appraisal_price | urbanization_project      | contract_deposit            |\n",
    "| sap_price       | urban_works               | public_deed                 |\n",
    "| web_price       | commercial_status         | conditions_details          |\n",
    "| delegate        | legal_status              | offer_description_long      |\n",
    "| segment         | possession_status         | servihabitat_opinion        |\n",
    "| buyer_meeting   | client_name               | servihabitat_recommendation |\n",
    "| listed_y_n      | client_description        | offer_lead_type             |\n",
    "| rollup_y_n      | client_tax_id             | offer_lead_id               |\n",
    "| dossier         | client_phone              |                             |\n",
    "| land_area       |                           |                             |\n",
    "| buildable_area  |                           |                             |"
   ]
  },
  {
   "cell_type": "markdown",
   "metadata": {},
   "source": [
    "#### 1.1 Integrar los resultados en duckdb"
   ]
  },
  {
   "cell_type": "code",
   "execution_count": 148,
   "metadata": {},
   "outputs": [
    {
     "name": "stdout",
     "output_type": "stream",
     "text": [
      "┌──────────┬─────────────┬─────────────────┬───┬───────────┬──────────────────────┬──────────────────────┐\n",
      "│ offer_id │ offer_price │ appraisal_price │ … │ total_urs │      full_path       │      file_name       │\n",
      "│  uint32  │    float    │      float      │   │  uint16   │       varchar        │       varchar        │\n",
      "├──────────┼─────────────┼─────────────────┼───┼───────────┼──────────────────────┼──────────────────────┤\n",
      "│  5579533 │    270000.0 │       272217.16 │ … │         8 │ N:/CoralHudson/1. …  │ 20240423 OFERTA 55…  │\n",
      "│  5584147 │    135000.0 │        124870.0 │ … │         3 │ N:/CoralHudson/1. …  │ 20240423 OFERTA 55…  │\n",
      "│  5583510 │    485000.0 │       2563422.5 │ … │       185 │ N:/CoralHudson/1. …  │ 20240423_OF_558351…  │\n",
      "│  5583836 │     95000.0 │       484676.78 │ … │         1 │ N:/CoralHudson/1. …  │ 20240423_OF_558383…  │\n",
      "│  5570280 │    305000.0 │        536000.0 │ … │         1 │ N:/CoralHudson/1. …  │ 20231219_OF 557028…  │\n",
      "│  5570700 │    594400.0 │       434122.66 │ … │         1 │ N:/CoralHudson/1. …  │ 20231227_OF 557070…  │\n",
      "│  5569367 │   1350000.0 │      2542759.25 │ … │        71 │ N:/CoralHudson/1. …  │ 20231227_OF_556936…  │\n",
      "│  5570711 │    680000.0 │       1279600.1 │ … │        37 │ N:/CoralHudson/1. …  │ 20231227_OF_557071…  │\n",
      "│  5565302 │   235239.06 │       1061391.4 │ … │        16 │ N:/CoralHudson/1. …  │ 20231229_OF 556530…  │\n",
      "│  5565718 │    900000.0 │       3631158.0 │ … │       110 │ N:/CoralHudson/1. …  │ 20231229_OF 556571…  │\n",
      "│     ·    │        ·    │           ·     │ · │         · │          ·           │          ·           │\n",
      "│     ·    │        ·    │           ·     │ · │         · │          ·           │          ·           │\n",
      "│     ·    │        ·    │           ·     │ · │         · │          ·           │          ·           │\n",
      "│  5585082 │    100000.0 │       1225840.9 │ … │         4 │ N:/CoralHudson/1. …  │ 20240430_OF_558508…  │\n",
      "│  5585283 │    500000.0 │        850174.7 │ … │         1 │ N:/CoralHudson/1. …  │ 20240506 OF 558528…  │\n",
      "│  5584346 │    168000.0 │        927432.0 │ … │        28 │ N:/CoralHudson/1. …  │ 20240506_OF 558434…  │\n",
      "│  5585271 │    280000.0 │        530352.9 │ … │         1 │ N:/CoralHudson/1. …  │ 20240506_OF 558527…  │\n",
      "│  5585485 │   1300000.0 │       2883088.0 │ … │         1 │ N:/CoralHudson/1. …  │ 20240506_OF 558548…  │\n",
      "│  5578718 │    250000.0 │        443305.5 │ … │        45 │ N:/CoralHudson/1. …  │ 20240506_OF_557871…  │\n",
      "│  5582254 │    692250.0 │       1243192.4 │ … │         3 │ N:/CoralHudson/1. …  │ 20240506_OF_558225…  │\n",
      "│  5583722 │    300000.0 │       581283.75 │ … │        15 │ N:/CoralHudson/1. …  │ 20240506_OF_558372…  │\n",
      "│  5585211 │    100000.0 │        402900.0 │ … │         1 │ N:/CoralHudson/1. …  │ 20240506_OF_558521…  │\n",
      "│  5585327 │    262500.0 │       1649200.0 │ … │        35 │ N:/CoralHudson/1. …  │ 20240506_OF_558532…  │\n",
      "├──────────┴─────────────┴─────────────────┴───┴───────────┴──────────────────────┴──────────────────────┤\n",
      "│ 279 rows (20 shown)                                                               39 columns (6 shown) │\n",
      "└────────────────────────────────────────────────────────────────────────────────────────────────────────┘\n",
      "\n"
     ]
    }
   ],
   "source": [
    "import duckdb\n",
    "\n",
    "duckdb.sql(\"\"\"select * from unidos\"\"\").show()"
   ]
  },
  {
   "cell_type": "markdown",
   "metadata": {},
   "source": [
    "### 2. Calamine -> Polars -> DuckDB"
   ]
  },
  {
   "attachments": {},
   "cell_type": "markdown",
   "metadata": {},
   "source": [
    "# Plotting funciones hipotecarias"
   ]
  },
  {
   "cell_type": "code",
   "execution_count": null,
   "metadata": {},
   "outputs": [],
   "source": [
    "import numpy as np\n",
    "import matplotlib.pyplot as plt\n",
    "\n",
    "# Variables\n",
    "M = 321.64  # Monthly payment\n",
    "n = 30 * 12  # Loan term in months\n",
    "\n",
    "# Range of annual interest rates\n",
    "r_annual = np.linspace(0.01, 0.1, 100)  # From 1% to 10%\n",
    "\n",
    "# Convert annual interest rate to monthly\n",
    "r = r_annual / 12\n",
    "\n",
    "# Calculate the purchase price\n",
    "P = M * ((1 + r) ** n - 1) / (r * (1 + r) ** n)\n",
    "\n",
    "# Plot\n",
    "plt.plot(r_annual, P)\n",
    "plt.xlabel(\"Annual Interest Rate\")\n",
    "plt.ylabel(\"Purchase Price\")\n",
    "plt.title(\"Purchase Price vs Interest Rate\")\n",
    "plt.grid(True)\n",
    "plt.show()"
   ]
  },
  {
   "cell_type": "code",
   "execution_count": null,
   "metadata": {},
   "outputs": [],
   "source": [
    "# Variables\n",
    "P = 100000  # Purchase price\n",
    "n = 30 * 12  # Loan term in months\n",
    "\n",
    "# Range of annual interest rates\n",
    "r_annual = np.linspace(0.01, 0.1, 100)  # From 1% to 10%\n",
    "\n",
    "# Convert annual interest rate to monthly\n",
    "r = r_annual / 12\n",
    "\n",
    "# Calculate the monthly payment\n",
    "M = P * r * (1 + r) ** n / ((1 + r) ** n - 1)\n",
    "\n",
    "# Plot\n",
    "plt.plot(r_annual, M)\n",
    "plt.xlabel(\"Annual Interest Rate\")\n",
    "plt.ylabel(\"Monthly Payment\")\n",
    "plt.title(\"Monthly Payment vs Interest Rate\")\n",
    "plt.grid(True)\n",
    "plt.show()"
   ]
  },
  {
   "cell_type": "code",
   "execution_count": null,
   "metadata": {},
   "outputs": [],
   "source": [
    "# Variables\n",
    "M = 1000  # Monthly payment\n",
    "n = 30 * 12  # Loan term in months\n",
    "\n",
    "# Range of annual interest rates\n",
    "r_annual = np.linspace(0.01, 0.05, 100)  # From 1% to 10%\n",
    "\n",
    "# Convert annual interest rate to monthly\n",
    "r = r_annual / 12\n",
    "\n",
    "# Calculate the purchase price\n",
    "P = M * ((1 + r) ** n - 1) / (r * (1 + r) ** n)\n",
    "\n",
    "# Calculate the derivative of the purchase price with respect to the interest rate\n",
    "dP_dr = np.gradient(P, r)\n",
    "\n",
    "# Plot purchase price\n",
    "plt.figure(figsize=(10, 6))\n",
    "plt.subplot(2, 1, 1)\n",
    "plt.plot(r_annual, P, label=\"Purchase Price\")\n",
    "plt.xlabel(\"Annual Interest Rate\")\n",
    "plt.ylabel(\"Purchase Price\")\n",
    "plt.title(\"Purchase Price and its Derivative vs Interest Rate\")\n",
    "plt.grid(True)\n",
    "\n",
    "# Plot derivative\n",
    "plt.subplot(2, 1, 2)\n",
    "plt.plot(r_annual, dP_dr, label=\"dP/dr\", color=\"r\")\n",
    "plt.xlabel(\"Annual Interest Rate\")\n",
    "plt.ylabel(\"dP/dr\")\n",
    "plt.grid(True)\n",
    "\n",
    "plt.tight_layout()\n",
    "plt.show()"
   ]
  },
  {
   "cell_type": "code",
   "execution_count": null,
   "metadata": {},
   "outputs": [],
   "source": [
    "# Variables\n",
    "M = 321.64  # Monthly payment\n",
    "n = 30 * 12  # Loan term in months\n",
    "\n",
    "# Range of annual interest rates\n",
    "r_annual = np.linspace(0.01, 0.1, 100)  # From 1% to 10%\n",
    "\n",
    "# Convert annual interest rate to monthly\n",
    "r = r_annual / 12\n",
    "\n",
    "# Calculate the purchase price\n",
    "P = M * ((1 + r) ** n - 1) / (r * (1 + r) ** n)\n",
    "\n",
    "# Calculate the percentage decrease in P\n",
    "P_diff = np.diff(P) / P[:-1] * 100  # in percentage\n",
    "\n",
    "# Calculate the cumulative sum of the percentage decreases\n",
    "P_diff_cumsum = np.cumsum(\n",
    "    np.abs(P_diff)\n",
    ")  # absolute value to keep all decreases positive\n",
    "\n",
    "# Plot Purchase Price\n",
    "plt.figure(figsize=(10, 6))\n",
    "plt.subplot(2, 1, 1)\n",
    "plt.plot(r_annual, P, label=\"Purchase Price\")\n",
    "plt.xlabel(\"Annual Interest Rate\")\n",
    "plt.ylabel(\"Purchase Price\")\n",
    "plt.title(\"Purchase Price and Cumulative % Decreases vs Interest Rate\")\n",
    "plt.grid(True)\n",
    "\n",
    "# Plot Cumulative % Decreases in P\n",
    "plt.subplot(2, 1, 2)\n",
    "plt.plot(r_annual[1:], P_diff_cumsum, label=\"Cumulative % Decrease\", color=\"r\")\n",
    "\n",
    "# Adding markers for x-axis crossing points\n",
    "x_label_indices = np.arange(\n",
    "    0, len(r_annual), len(r_annual) // 10\n",
    ")  # Indices for x-axis labels\n",
    "plt.plot(\n",
    "    r_annual[x_label_indices], P_diff_cumsum[x_label_indices], \"bo\"\n",
    ")  # Plot blue circle markers\n",
    "\n",
    "plt.xlabel(\"Annual Interest Rate\")\n",
    "plt.ylabel(\"Cumulative % Decrease\")\n",
    "plt.grid(True)\n",
    "\n",
    "plt.tight_layout()\n",
    "plt.show()"
   ]
  },
  {
   "cell_type": "code",
   "execution_count": null,
   "metadata": {},
   "outputs": [],
   "source": [
    "# Variables\n",
    "M = 932.11  # Monthly payment\n",
    "n = 30 * 12  # Loan term in months\n",
    "\n",
    "# Range of annual interest rates\n",
    "r_annual = np.linspace(0.01, 0.1, 10)  # From 1% to 10%, only 10 points for clarity\n",
    "\n",
    "# Convert annual interest rate to monthly\n",
    "r = r_annual / 12\n",
    "\n",
    "# Calculate the purchase price\n",
    "P = M * ((1 + r) ** n - 1) / (r * (1 + r) ** n)\n",
    "\n",
    "# Calculate the percentage decrease in P with respect to initial P\n",
    "P_initial = P[0]\n",
    "P_diff = (P - P_initial) / P_initial * 100  # in percentage\n",
    "\n",
    "# Plot Purchase Price\n",
    "fig, ax1 = plt.subplots(figsize=(10, 6))\n",
    "\n",
    "color = \"tab:blue\"\n",
    "ax1.set_xlabel(\"Annual Interest Rate\")\n",
    "ax1.set_ylabel(\"Purchase Price\", color=color)\n",
    "ax1.plot(r_annual, P, label=\"Purchase Price\", color=color)\n",
    "ax1.tick_params(axis=\"y\", labelcolor=color)\n",
    "plt.grid(True)\n",
    "\n",
    "# Create a second y-axis that shares the same x-axis\n",
    "ax2 = ax1.twinx()\n",
    "\n",
    "color = \"tab:red\"\n",
    "ax2.set_ylabel(\"% Decrease\", color=color)\n",
    "ax2.plot(r_annual, P_diff, label=\"% Decrease\", color=color)\n",
    "ax2.tick_params(axis=\"y\", labelcolor=color)\n",
    "\n",
    "# Annotate data points\n",
    "for x, y1, y2 in zip(r_annual, P, P_diff):\n",
    "    ax1.annotate(\n",
    "        f\"{y1:.0f}\",\n",
    "        (x, y1),\n",
    "        textcoords=\"offset points\",\n",
    "        xytext=(0, 15),\n",
    "        ha=\"center\",\n",
    "        size=8,\n",
    "    )\n",
    "    ax2.annotate(\n",
    "        f\"{y2:.0f}%\",\n",
    "        (x, y2),\n",
    "        textcoords=\"offset points\",\n",
    "        xytext=(0, -15),\n",
    "        ha=\"center\",\n",
    "        size=8,\n",
    "        color=color,\n",
    "    )\n",
    "\n",
    "plt.title(\"Purchase Price and % Decreases vs Interest Rate\")\n",
    "plt.grid(True)\n",
    "plt.tight_layout()\n",
    "plt.show()"
   ]
  }
 ],
 "metadata": {
  "kernelspec": {
   "display_name": "pacific",
   "language": "python",
   "name": "python3"
  },
  "language_info": {
   "codemirror_mode": {
    "name": "ipython",
    "version": 3
   },
   "file_extension": ".py",
   "mimetype": "text/x-python",
   "name": "python",
   "nbconvert_exporter": "python",
   "pygments_lexer": "ipython3",
   "version": "3.11.4"
  },
  "orig_nbformat": 4
 },
 "nbformat": 4,
 "nbformat_minor": 2
}
